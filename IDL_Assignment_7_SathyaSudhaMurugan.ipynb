{
  "nbformat": 4,
  "nbformat_minor": 0,
  "metadata": {
    "colab": {
      "name": "IDL_Assignment_7_SathyaSudhaMurugan.ipynb",
      "provenance": [],
      "mount_file_id": "1s40szMRfODywEPZlLBOkPQPv3QVWoMoi",
      "authorship_tag": "ABX9TyPoKP8TlnUqa1IxbAbrwlsL",
      "include_colab_link": true
    },
    "kernelspec": {
      "name": "python3",
      "display_name": "Python 3"
    },
    "language_info": {
      "name": "python"
    }
  },
  "cells": [
    {
      "cell_type": "markdown",
      "metadata": {
        "id": "view-in-github",
        "colab_type": "text"
      },
      "source": [
        "<a href=\"https://colab.research.google.com/github/SathyaSudha-96/Deep-Learning-2021-22/blob/main/IDL_Assignment_7_SathyaSudhaMurugan.ipynb\" target=\"_parent\"><img src=\"https://colab.research.google.com/assets/colab-badge.svg\" alt=\"Open In Colab\"/></a>"
      ]
    },
    {
      "cell_type": "code",
      "metadata": {
        "id": "DGFTkuRvzWqc",
        "colab": {
          "base_uri": "https://localhost:8080/"
        },
        "outputId": "7bbfc98b-dfbb-44f0-fb3d-c3d055b13ba5"
      },
      "source": [
        "!pip install tensorflow_text"
      ],
      "execution_count": null,
      "outputs": [
        {
          "output_type": "stream",
          "name": "stdout",
          "text": [
            "Requirement already satisfied: tensorflow_text in /usr/local/lib/python3.7/dist-packages (2.7.3)\n",
            "Requirement already satisfied: tensorflow<2.8,>=2.7.0 in /usr/local/lib/python3.7/dist-packages (from tensorflow_text) (2.7.0)\n",
            "Requirement already satisfied: tensorflow-hub>=0.8.0 in /usr/local/lib/python3.7/dist-packages (from tensorflow_text) (0.12.0)\n",
            "Requirement already satisfied: wrapt>=1.11.0 in /usr/local/lib/python3.7/dist-packages (from tensorflow<2.8,>=2.7.0->tensorflow_text) (1.13.3)\n",
            "Requirement already satisfied: wheel<1.0,>=0.32.0 in /usr/local/lib/python3.7/dist-packages (from tensorflow<2.8,>=2.7.0->tensorflow_text) (0.37.0)\n",
            "Requirement already satisfied: tensorboard~=2.6 in /usr/local/lib/python3.7/dist-packages (from tensorflow<2.8,>=2.7.0->tensorflow_text) (2.7.0)\n",
            "Requirement already satisfied: opt-einsum>=2.3.2 in /usr/local/lib/python3.7/dist-packages (from tensorflow<2.8,>=2.7.0->tensorflow_text) (3.3.0)\n",
            "Requirement already satisfied: tensorflow-io-gcs-filesystem>=0.21.0 in /usr/local/lib/python3.7/dist-packages (from tensorflow<2.8,>=2.7.0->tensorflow_text) (0.22.0)\n",
            "Requirement already satisfied: absl-py>=0.4.0 in /usr/local/lib/python3.7/dist-packages (from tensorflow<2.8,>=2.7.0->tensorflow_text) (0.12.0)\n",
            "Requirement already satisfied: libclang>=9.0.1 in /usr/local/lib/python3.7/dist-packages (from tensorflow<2.8,>=2.7.0->tensorflow_text) (12.0.0)\n",
            "Requirement already satisfied: six>=1.12.0 in /usr/local/lib/python3.7/dist-packages (from tensorflow<2.8,>=2.7.0->tensorflow_text) (1.15.0)\n",
            "Requirement already satisfied: keras<2.8,>=2.7.0rc0 in /usr/local/lib/python3.7/dist-packages (from tensorflow<2.8,>=2.7.0->tensorflow_text) (2.7.0)\n",
            "Requirement already satisfied: gast<0.5.0,>=0.2.1 in /usr/local/lib/python3.7/dist-packages (from tensorflow<2.8,>=2.7.0->tensorflow_text) (0.4.0)\n",
            "Requirement already satisfied: tensorflow-estimator<2.8,~=2.7.0rc0 in /usr/local/lib/python3.7/dist-packages (from tensorflow<2.8,>=2.7.0->tensorflow_text) (2.7.0)\n",
            "Requirement already satisfied: typing-extensions>=3.6.6 in /usr/local/lib/python3.7/dist-packages (from tensorflow<2.8,>=2.7.0->tensorflow_text) (3.10.0.2)\n",
            "Requirement already satisfied: google-pasta>=0.1.1 in /usr/local/lib/python3.7/dist-packages (from tensorflow<2.8,>=2.7.0->tensorflow_text) (0.2.0)\n",
            "Requirement already satisfied: grpcio<2.0,>=1.24.3 in /usr/local/lib/python3.7/dist-packages (from tensorflow<2.8,>=2.7.0->tensorflow_text) (1.42.0)\n",
            "Requirement already satisfied: keras-preprocessing>=1.1.1 in /usr/local/lib/python3.7/dist-packages (from tensorflow<2.8,>=2.7.0->tensorflow_text) (1.1.2)\n",
            "Requirement already satisfied: protobuf>=3.9.2 in /usr/local/lib/python3.7/dist-packages (from tensorflow<2.8,>=2.7.0->tensorflow_text) (3.17.3)\n",
            "Requirement already satisfied: astunparse>=1.6.0 in /usr/local/lib/python3.7/dist-packages (from tensorflow<2.8,>=2.7.0->tensorflow_text) (1.6.3)\n",
            "Requirement already satisfied: h5py>=2.9.0 in /usr/local/lib/python3.7/dist-packages (from tensorflow<2.8,>=2.7.0->tensorflow_text) (3.1.0)\n",
            "Requirement already satisfied: termcolor>=1.1.0 in /usr/local/lib/python3.7/dist-packages (from tensorflow<2.8,>=2.7.0->tensorflow_text) (1.1.0)\n",
            "Requirement already satisfied: flatbuffers<3.0,>=1.12 in /usr/local/lib/python3.7/dist-packages (from tensorflow<2.8,>=2.7.0->tensorflow_text) (2.0)\n",
            "Requirement already satisfied: numpy>=1.14.5 in /usr/local/lib/python3.7/dist-packages (from tensorflow<2.8,>=2.7.0->tensorflow_text) (1.19.5)\n",
            "Requirement already satisfied: cached-property in /usr/local/lib/python3.7/dist-packages (from h5py>=2.9.0->tensorflow<2.8,>=2.7.0->tensorflow_text) (1.5.2)\n",
            "Requirement already satisfied: markdown>=2.6.8 in /usr/local/lib/python3.7/dist-packages (from tensorboard~=2.6->tensorflow<2.8,>=2.7.0->tensorflow_text) (3.3.6)\n",
            "Requirement already satisfied: setuptools>=41.0.0 in /usr/local/lib/python3.7/dist-packages (from tensorboard~=2.6->tensorflow<2.8,>=2.7.0->tensorflow_text) (57.4.0)\n",
            "Requirement already satisfied: tensorboard-data-server<0.7.0,>=0.6.0 in /usr/local/lib/python3.7/dist-packages (from tensorboard~=2.6->tensorflow<2.8,>=2.7.0->tensorflow_text) (0.6.1)\n",
            "Requirement already satisfied: werkzeug>=0.11.15 in /usr/local/lib/python3.7/dist-packages (from tensorboard~=2.6->tensorflow<2.8,>=2.7.0->tensorflow_text) (1.0.1)\n",
            "Requirement already satisfied: requests<3,>=2.21.0 in /usr/local/lib/python3.7/dist-packages (from tensorboard~=2.6->tensorflow<2.8,>=2.7.0->tensorflow_text) (2.23.0)\n",
            "Requirement already satisfied: google-auth-oauthlib<0.5,>=0.4.1 in /usr/local/lib/python3.7/dist-packages (from tensorboard~=2.6->tensorflow<2.8,>=2.7.0->tensorflow_text) (0.4.6)\n",
            "Requirement already satisfied: tensorboard-plugin-wit>=1.6.0 in /usr/local/lib/python3.7/dist-packages (from tensorboard~=2.6->tensorflow<2.8,>=2.7.0->tensorflow_text) (1.8.0)\n",
            "Requirement already satisfied: google-auth<3,>=1.6.3 in /usr/local/lib/python3.7/dist-packages (from tensorboard~=2.6->tensorflow<2.8,>=2.7.0->tensorflow_text) (1.35.0)\n",
            "Requirement already satisfied: rsa<5,>=3.1.4 in /usr/local/lib/python3.7/dist-packages (from google-auth<3,>=1.6.3->tensorboard~=2.6->tensorflow<2.8,>=2.7.0->tensorflow_text) (4.8)\n",
            "Requirement already satisfied: pyasn1-modules>=0.2.1 in /usr/local/lib/python3.7/dist-packages (from google-auth<3,>=1.6.3->tensorboard~=2.6->tensorflow<2.8,>=2.7.0->tensorflow_text) (0.2.8)\n",
            "Requirement already satisfied: cachetools<5.0,>=2.0.0 in /usr/local/lib/python3.7/dist-packages (from google-auth<3,>=1.6.3->tensorboard~=2.6->tensorflow<2.8,>=2.7.0->tensorflow_text) (4.2.4)\n",
            "Requirement already satisfied: requests-oauthlib>=0.7.0 in /usr/local/lib/python3.7/dist-packages (from google-auth-oauthlib<0.5,>=0.4.1->tensorboard~=2.6->tensorflow<2.8,>=2.7.0->tensorflow_text) (1.3.0)\n",
            "Requirement already satisfied: importlib-metadata>=4.4 in /usr/local/lib/python3.7/dist-packages (from markdown>=2.6.8->tensorboard~=2.6->tensorflow<2.8,>=2.7.0->tensorflow_text) (4.8.2)\n",
            "Requirement already satisfied: zipp>=0.5 in /usr/local/lib/python3.7/dist-packages (from importlib-metadata>=4.4->markdown>=2.6.8->tensorboard~=2.6->tensorflow<2.8,>=2.7.0->tensorflow_text) (3.6.0)\n",
            "Requirement already satisfied: pyasn1<0.5.0,>=0.4.6 in /usr/local/lib/python3.7/dist-packages (from pyasn1-modules>=0.2.1->google-auth<3,>=1.6.3->tensorboard~=2.6->tensorflow<2.8,>=2.7.0->tensorflow_text) (0.4.8)\n",
            "Requirement already satisfied: urllib3!=1.25.0,!=1.25.1,<1.26,>=1.21.1 in /usr/local/lib/python3.7/dist-packages (from requests<3,>=2.21.0->tensorboard~=2.6->tensorflow<2.8,>=2.7.0->tensorflow_text) (1.24.3)\n",
            "Requirement already satisfied: idna<3,>=2.5 in /usr/local/lib/python3.7/dist-packages (from requests<3,>=2.21.0->tensorboard~=2.6->tensorflow<2.8,>=2.7.0->tensorflow_text) (2.10)\n",
            "Requirement already satisfied: certifi>=2017.4.17 in /usr/local/lib/python3.7/dist-packages (from requests<3,>=2.21.0->tensorboard~=2.6->tensorflow<2.8,>=2.7.0->tensorflow_text) (2021.10.8)\n",
            "Requirement already satisfied: chardet<4,>=3.0.2 in /usr/local/lib/python3.7/dist-packages (from requests<3,>=2.21.0->tensorboard~=2.6->tensorflow<2.8,>=2.7.0->tensorflow_text) (3.0.4)\n",
            "Requirement already satisfied: oauthlib>=3.0.0 in /usr/local/lib/python3.7/dist-packages (from requests-oauthlib>=0.7.0->google-auth-oauthlib<0.5,>=0.4.1->tensorboard~=2.6->tensorflow<2.8,>=2.7.0->tensorflow_text) (3.1.1)\n"
          ]
        }
      ]
    },
    {
      "cell_type": "code",
      "metadata": {
        "id": "tnxXKDjq3jEL"
      },
      "source": [
        "import numpy as np\n",
        "import typing\n",
        "from typing import Any, Tuple\n",
        "import tensorflow as tf\n",
        "import tensorflow_text as tf_text\n",
        "import matplotlib.pyplot as plt\n",
        "import matplotlib.ticker as ticker"
      ],
      "execution_count": null,
      "outputs": []
    },
    {
      "cell_type": "code",
      "metadata": {
        "id": "KPJ9J7iPUchc"
      },
      "source": [
        "use_builtins = True"
      ],
      "execution_count": null,
      "outputs": []
    },
    {
      "cell_type": "code",
      "metadata": {
        "id": "kRVATYOgJs1b"
      },
      "source": [
        "# Download the file\n",
        "import pathlib\n",
        "path_to_zip = \"/content/drive/MyDrive/Intro_to_deepLearning/Assignment_7/tam.txt\"\n",
        "path_to_file = pathlib.Path(path_to_zip)"
      ],
      "execution_count": null,
      "outputs": []
    },
    {
      "cell_type": "code",
      "metadata": {
        "id": "fhHnfVaWU9RL",
        "colab": {
          "base_uri": "https://localhost:8080/"
        },
        "outputId": "1f60cd11-8205-48c0-f036-534b96f8cdb9"
      },
      "source": [
        "file = '/content/drive/MyDrive/Intro_to_deepLearning/Assignment_7/tam.txt'\n",
        "tam_eng = open(file, 'r')\n",
        "tam_eng_content = tam_eng.read()\n",
        "print(tam_eng_content)"
      ],
      "execution_count": null,
      "outputs": [
        {
          "output_type": "stream",
          "name": "stdout",
          "text": [
            "I slept.\tநான் தூங்கினேன்.\tCC-BY 2.0 (France) Attribution: tatoeba.org #3199633 (CM) & #7098307 (Singaravelu)\n",
            "Calm down.\tஅமைதியாக இருங்கள்\tCC-BY 2.0 (France) Attribution: tatoeba.org #435575 (CK) & #4268041 (Singaravelu)\n",
            "I'll walk.\tநான் நடப்பேன்.\tCC-BY 2.0 (France) Attribution: tatoeba.org #2111765 (CK) & #7157338 (Singaravelu)\n",
            "Who is he?\tஅவன் யார்?\tCC-BY 2.0 (France) Attribution: tatoeba.org #347331 (sysko) & #4267937 (Singaravelu)\n",
            "Who knows?\tயாருக்குத் தெரியும்?\tCC-BY 2.0 (France) Attribution: tatoeba.org #276369 (CK) & #4267939 (Singaravelu)\n",
            "She smiled.\tஅவள் சிரித்தாள்\tCC-BY 2.0 (France) Attribution: tatoeba.org #311898 (CK) & #4267854 (Singaravelu)\n",
            "Talk to me!\tஎன்னிடம் பேசு\tCC-BY 2.0 (France) Attribution: tatoeba.org #320369 (CK) & #4157451 (Singaravelu)\n",
            "Who is she?\tஅவள் யார்?\tCC-BY 2.0 (France) Attribution: tatoeba.org #315731 (CK) & #4267855 (Singaravelu)\n",
            "Go to sleep.\tபோய் தூங்கு\tCC-BY 2.0 (France) Attribution: tatoeba.org #453530 (saasmath) & #4157452 (Singaravelu)\n",
            "It may rain.\tமழை பெய்யலாம்\tCC-BY 2.0 (France) Attribution: tatoeba.org #26887 (CK) & #4268480 (Singaravelu)\n",
            "She bit him.\tஅவள் அவனைக் கடித்தாள்\tCC-BY 2.0 (France) Attribution: tatoeba.org #887002 (CK) & #4267857 (Singaravelu)\n",
            "She hit him.\tஅவள் அவனைக் அடித்தாள்\tCC-BY 2.0 (France) Attribution: tatoeba.org #887215 (CK) & #4267859 (Singaravelu)\n",
            "She is kind.\tஅவள் அன்பானவள்\tCC-BY 2.0 (France) Attribution: tatoeba.org #315182 (CK) & #4267861 (Singaravelu)\n",
            "She is eight.\tஅவளுக்கு எட்டு வயது\tCC-BY 2.0 (France) Attribution: tatoeba.org #310214 (CK) & #4267866 (Singaravelu)\n",
            "Where are we?\tநாம் எங்கே இருக்கிறோம்?\tCC-BY 2.0 (France) Attribution: tatoeba.org #3826551 (CK) & #4267968 (Singaravelu)\n",
            "Keep in touch!\tதொடர்பில் இரு\tCC-BY 2.0 (France) Attribution: tatoeba.org #326314 (CK) & #4268477 (Singaravelu)\n",
            "See you again.\tமறுபடியும் சந்திப்போம்\tCC-BY 2.0 (France) Attribution: tatoeba.org #32635 (CK) & #4268045 (Singaravelu)\n",
            "Give it to her.\tஅவளிடம் கொடு\tCC-BY 2.0 (France) Attribution: tatoeba.org #630617 (CK) & #4157456 (Singaravelu)\n",
            "I ate too much.\tநான் நிறைய சாப்பிட்டேன்\tCC-BY 2.0 (France) Attribution: tatoeba.org #953366 (CK) & #4268035 (Singaravelu)\n",
            "I'll see to it.\tஅதை நான் பார்க்கிறேன்\tCC-BY 2.0 (France) Attribution: tatoeba.org #321354 (CK) & #4157457 (Singaravelu)\n",
            "It's up to you.\tஉன் கையில்தான் இருக்கிறது\tCC-BY 2.0 (France) Attribution: tatoeba.org #237713 (CK) & #4157459 (Singaravelu)\n",
            "Leave it to me.\tஎன்னிடம் விட்டுவிடு\tCC-BY 2.0 (France) Attribution: tatoeba.org #321442 (CK) & #4157466 (Singaravelu)\n",
            "Listen to this!\tஇதைக் கேள்\tCC-BY 2.0 (France) Attribution: tatoeba.org #320075 (CK) & #4157467 (Singaravelu)\n",
            "That's the way.\tஅந்த பக்கம்தான் வழி\tCC-BY 2.0 (France) Attribution: tatoeba.org #45025 (CK) & #4267978 (Singaravelu)\n",
            "Come and see me.\tஎன்னை வந்து பார்\tCC-BY 2.0 (France) Attribution: tatoeba.org #324516 (CK) & #4240275 (Singaravelu)\n",
            "Don't lie to me.\tஎன்னிடம் பொய் சொல்லாதே\tCC-BY 2.0 (France) Attribution: tatoeba.org #452256 (enwilson) & #4157468 (Singaravelu)\n",
            "He began to run.\tஅவன் ஓட ஆரம்பித்தான்\tCC-BY 2.0 (France) Attribution: tatoeba.org #300899 (CK) & #4157471 (Singaravelu)\n",
            "He just arrived.\tஅவன் இப்பொழுதுதான் வந்தான்\tCC-BY 2.0 (France) Attribution: tatoeba.org #451727 (CM) & #4267963 (Singaravelu)\n",
            "He likes to run.\tஅவன் ஓட விருப்பப் படுகிறான்\tCC-BY 2.0 (France) Attribution: tatoeba.org #630421 (CK) & #4157477 (Singaravelu)\n",
            "How is your dad?\tதங்களுடைய தந்தையார் எப்படி இருக்கிறார்கள்?\tCC-BY 2.0 (France) Attribution: tatoeba.org #953331 (CK) & #4268043 (Singaravelu)\n",
            "I want to sleep.\tநான் தூங்க விரும்புகிறேன்\tCC-BY 2.0 (France) Attribution: tatoeba.org #321870 (CK) & #4157481 (Singaravelu)\n",
            "I'm able to run.\tஎன்னால் ஓட முடிகிறது\tCC-BY 2.0 (France) Attribution: tatoeba.org #259192 (CM) & #4157484 (Singaravelu)\n",
            "Raise your hand.\tகையைத் தூக்கு\tCC-BY 2.0 (France) Attribution: tatoeba.org #456651 (lukaszpp) & #4268481 (Singaravelu)\n",
            "What did he say?\tஅவன் என்ன சொன்னான்?\tCC-BY 2.0 (France) Attribution: tatoeba.org #28006 (CK) & #4267941 (Singaravelu)\n",
            "When can we eat?\tஎப்பொழுது நம்மால் சாப்பிட முடியும்\tCC-BY 2.0 (France) Attribution: tatoeba.org #322004 (CK) & #4267924 (Singaravelu)\n",
            "Come and help us.\tவா எங்களுக்கு உதவி செய்\tCC-BY 2.0 (France) Attribution: tatoeba.org #325000 (CK) & #4240324 (Singaravelu)\n",
            "He is still here.\tஅவன் இன்னும் இருக்கிறான்\tCC-BY 2.0 (France) Attribution: tatoeba.org #292828 (CK) & #4268054 (Singaravelu)\n",
            "I have to go now.\tநான் இப்பொழுது போக வேண்டும்\tCC-BY 2.0 (France) Attribution: tatoeba.org #321700 (CK) & #4164694 (Singaravelu)\n",
            "I know that much.\tஎனக்கு அவ்வளவு தெரியும்.\tCC-BY 2.0 (France) Attribution: tatoeba.org #2376114 (CK) & #7157262 (Singaravelu)\n",
            "I made a mistake.\tநான் ஒரு தவறு செய்தேன்?\tCC-BY 2.0 (France) Attribution: tatoeba.org #433678 (CK) & #4267970 (Singaravelu)\n",
            "I walk to school.\tநான் பள்ளிக்கு நடந்து செல்கிறேன்\tCC-BY 2.0 (France) Attribution: tatoeba.org #437011 (lukaszpp) & #4164689 (Singaravelu)\n",
            "That's our house.\tஅது எங்களுடைய வீடு\tCC-BY 2.0 (France) Attribution: tatoeba.org #67060 (CK) & #4267982 (Singaravelu)\n",
            "Those are my CDs.\tஅவைகள் என்னுடைய CD கள்\tCC-BY 2.0 (France) Attribution: tatoeba.org #67003 (CK) & #4268039 (Singaravelu)\n",
            "Walk ahead of me.\tஎனக்கு முன்னால் நட\tCC-BY 2.0 (France) Attribution: tatoeba.org #321526 (CK) & #4153618 (Singaravelu)\n",
            "We'll follow you.\tநாங்கள் உன்னைத் பின்பற்றுவோம் (அ) தொடர்வோம்.\tCC-BY 2.0 (France) Attribution: tatoeba.org #2241582 (CK) & #7157292 (Singaravelu)\n",
            "Beware of the dog!\tநாய் ஜாக்கிரதை!\tCC-BY 2.0 (France) Attribution: tatoeba.org #323550 (CK) & #4154884 (Singaravelu)\n",
            "He came back soon.\tஅவன் சீக்கிரம் திரும்பி வந்தான்\tCC-BY 2.0 (France) Attribution: tatoeba.org #290213 (CK) & #4267976 (Singaravelu)\n",
            "He has three sons.\tஅவருக்கு மூன்று மகன்கள்\tCC-BY 2.0 (France) Attribution: tatoeba.org #430778 (Archibald) & #4268052 (Singaravelu)\n",
            "I know how to ski.\tஎப்படி பனியில் சறுக்கி விளையாடுவது என்பது எனக்கு தெரியும்\tCC-BY 2.0 (France) Attribution: tatoeba.org #1159704 (CK) & #4157490 (Singaravelu)\n",
            "I know what to do.\tஎன்ன செய்வது என்பது எனக்குத் தெரியும்\tCC-BY 2.0 (France) Attribution: tatoeba.org #256407 (CK) & #4157493 (Singaravelu)\n",
            "I'm kind of happy.\tநான் ஒரு விதமான மகிழ்ச்சியிலிருக்கிறேன்\tCC-BY 2.0 (France) Attribution: tatoeba.org #33024 (CK) & #4154915 (Singaravelu)\n",
            "Keep to the right.\tவலது பக்கத்தை கடைப் பிடி\tCC-BY 2.0 (France) Attribution: tatoeba.org #456283 (lukaszpp) & #4157492 (Singaravelu)\n",
            "She began to sing.\tஅவள் பாட ஆரம்பித்தாள்\tCC-BY 2.0 (France) Attribution: tatoeba.org #312881 (CK) & #4157494 (Singaravelu)\n",
            "She decided to go.\tஅவள் போகத் தீர்மானித்தாள்\tCC-BY 2.0 (France) Attribution: tatoeba.org #313606 (CK) & #4157506 (Singaravelu)\n",
            "Do I have to study?\tநான் படிக்க வேண்டுமா?\tCC-BY 2.0 (France) Attribution: tatoeba.org #261646 (CK) & #4157510 (Singaravelu)\n",
            "He is sure to come.\tஅவன் வருவது நிச்சயம்\tCC-BY 2.0 (France) Attribution: tatoeba.org #289676 (CK) & #4157515 (Singaravelu)\n",
            "I had to walk home.\tநான் வீட்டிற்கு நடக்க வேண்டியிருந்தது\tCC-BY 2.0 (France) Attribution: tatoeba.org #261666 (CK) & #4157518 (Singaravelu)\n",
            "I have to dress up.\tநான் ஆடை அணிய வேண்டும்\tCC-BY 2.0 (France) Attribution: tatoeba.org #271639 (CK) & #4157530 (Singaravelu)\n",
            "I told him to come.\tநான் அவனை வரச் சொன்னேன்\tCC-BY 2.0 (France) Attribution: tatoeba.org #260501 (adjusting) & #4157533 (Singaravelu)\n",
            "I'm short of money.\tஎன்னிடம் பணம் குறைவாக இருக்கிறது\tCC-BY 2.0 (France) Attribution: tatoeba.org #253273 (CK) & #4154929 (Singaravelu)\n",
            "May I speak to you?\tநான் உன்னிடம் பேசலாமா?\tCC-BY 2.0 (France) Attribution: tatoeba.org #326530 (CK) & #4157536 (Singaravelu)\n",
            "She gave it to him.\tஅவள் இதை அவனுக்குக் கொடுத்தாள்\tCC-BY 2.0 (France) Attribution: tatoeba.org #316271 (CK) & #4157539 (Singaravelu)\n",
            "She is kind to him.\tஅவள் அவனிடம் அன்பாக இருக்கிறாள்\tCC-BY 2.0 (France) Attribution: tatoeba.org #887246 (CK) & #4157542 (Singaravelu)\n",
            "She sat next to me.\tஅவள் எனக்கு அருகில் அமர்ந்தாள்\tCC-BY 2.0 (France) Attribution: tatoeba.org #314287 (CK) & #4157543 (Singaravelu)\n",
            "Shut up and listen!\tவாயை மூடி கவனி\tCC-BY 2.0 (France) Attribution: tatoeba.org #323684 (CK) & #4240330 (Singaravelu)\n",
            "Tell me what to do.\tநான் என்ன செய்ய வேண்டும் என்று சொல்\tCC-BY 2.0 (France) Attribution: tatoeba.org #24758 (CK) & #4157557 (Singaravelu)\n",
            "Tom runs very fast.\tடாம் ரொம்ப வேகமாக ஓடுகிறான்\tCC-BY 2.0 (France) Attribution: tatoeba.org #37231 (CK) & #4267961 (Singaravelu)\n",
            "We ran out of food.\tஎங்களுக்கு உணவு தட்டுப்பாடு ஏற்பட்டது\tCC-BY 2.0 (France) Attribution: tatoeba.org #268809 (CK) & #4154964 (Singaravelu)\n",
            "We started to walk.\tநாங்கள் நடக்க ஆரம்பித்தோம்\tCC-BY 2.0 (France) Attribution: tatoeba.org #263273 (CK) & #4157560 (Singaravelu)\n",
            "When does it begin?\tஇது எப்பொழுது ஆரம்பிக்கிறது?\tCC-BY 2.0 (France) Attribution: tatoeba.org #42781 (CK) & #4267935 (Singaravelu)\n",
            "Are you ready to go?\tநீங்கள் போகத் தயாராக இருக்கிறீர்களா?\tCC-BY 2.0 (France) Attribution: tatoeba.org #241099 (CK) & #4157570 (Singaravelu)\n",
            "Do you have any gum?\tஉன்னிடம் ஏதாவது பசை இருக்கிறதா?\tCC-BY 2.0 (France) Attribution: tatoeba.org #953193 (CK) & #4267952 (Singaravelu)\n",
            "Does she play piano?\tஅவள் பியானோ வாசிக்கிறாளோ?\tCC-BY 2.0 (France) Attribution: tatoeba.org #536145 (blay_paul) & #4267889 (Singaravelu)\n",
            "Don't listen to her.\tஅவள் சொல்வதைக் கேட்காதீர்\tCC-BY 2.0 (France) Attribution: tatoeba.org #309239 (CK) & #4157572 (Singaravelu)\n",
            "Go and wake Mary up.\tபோய் மேரியை எழுப்பு\tCC-BY 2.0 (France) Attribution: tatoeba.org #464996 (Swift) & #4240334 (Singaravelu)\n",
            "He seems to know us.\tஅவனுக்கு நம்மைப் தெரியும் என்று தோன்றுகிறது\tCC-BY 2.0 (France) Attribution: tatoeba.org #297417 (CK) & #4157580 (Singaravelu)\n",
            "I am engaged to her.\tஎனக்கு அவளோடு நிச்சயமாகியிருக்கு\tCC-BY 2.0 (France) Attribution: tatoeba.org #261114 (CK) & #4157598 (Singaravelu)\n",
            "I have to leave now.\tநான் இப்பொழுது கிளம்ப வேண்டும்\tCC-BY 2.0 (France) Attribution: tatoeba.org #31380 (CK) & #4157604 (Singaravelu)\n",
            "I want to go abroad.\tநான் வெளி நாட்டிற்குச் செல்ல விரும்புகிறேன்\tCC-BY 2.0 (France) Attribution: tatoeba.org #21938 (CK) & #4157607 (Singaravelu)\n",
            "I'm glad to see you.\tஉன்னைப் பார்ப்பதில் நான் மகிழ்ச்சி அடைகிறேன்\tCC-BY 2.0 (France) Attribution: tatoeba.org #22588 (CK) & #4157612 (Singaravelu)\n",
            "I'm proud of my son.\tஎன் மகனைப் பற்றி பெருமைப் படுகிறேன்\tCC-BY 2.0 (France) Attribution: tatoeba.org #259233 (CK) & #4154984 (Singaravelu)\n",
            "I'm taller than you.\tநான் உன்னை விட உயரமாக இருக்கிறேன்\tCC-BY 2.0 (France) Attribution: tatoeba.org #257131 (CK) & #4267965 (Singaravelu)\n",
            "I'm trying to sleep.\tநான் தூங்குவதற்கு முயற்சி செய்து கொண்டிருக்கிறேன்\tCC-BY 2.0 (France) Attribution: tatoeba.org #322742 (CK) & #4157619 (Singaravelu)\n",
            "It's free of charge.\tஇதற்கு கட்டணமில்லை\tCC-BY 2.0 (France) Attribution: tatoeba.org #42067 (CK) & #4154998 (Singaravelu)\n",
            "It's time to get up.\tதூக்கத்திலிருந்து எழுவதற்கான நேரம் இது\tCC-BY 2.0 (France) Attribution: tatoeba.org #442011 (CK) & #4157630 (Singaravelu)\n",
            "Nobody speaks to me.\tஎன் கூட யாரும் பேசுவதில்லை\tCC-BY 2.0 (France) Attribution: tatoeba.org #383956 (CK) & #4157655 (Singaravelu)\n",
            "Roll the ball to me.\tபந்தை என்னிடம் உருட்டி விடு\tCC-BY 2.0 (France) Attribution: tatoeba.org #49911 (CK) & #4164707 (Singaravelu)\n",
            "She boiled the eggs.\tஅவள் முட்டைகளை வேக வைத்தாள்\tCC-BY 2.0 (France) Attribution: tatoeba.org #317391 (CK) & #4267891 (Singaravelu)\n",
            "She danced with him.\tஅவள் அவனோடு நடனம் ஆடினாள்\tCC-BY 2.0 (France) Attribution: tatoeba.org #887059 (CK) & #4267886 (Singaravelu)\n",
            "She gave him a book.\tஅவள் அவனுக்கு ஒரு புத்தகத்தைக் கொடுத்தாள்\tCC-BY 2.0 (France) Attribution: tatoeba.org #887131 (CK) & #4267884 (Singaravelu)\n",
            "She has 2,000 books.\tஅவளிடம் 2000 புத்தகங்கள் உள்ளன\tCC-BY 2.0 (France) Attribution: tatoeba.org #1046163 (CK) & #4267874 (Singaravelu)\n",
            "This apple is sweet.\tஇந்த ஆப்பிள் இனிப்பாக இருக்கிறது\tCC-BY 2.0 (France) Attribution: tatoeba.org #60349 (CK) & #4268470 (Singaravelu)\n",
            "We swam in the lake.\tஅவன் ஏரியில் நீச்சலடித்தான்\tCC-BY 2.0 (France) Attribution: tatoeba.org #248098 (CK) & #4268056 (Singaravelu)\n",
            "Come home before six.\tஆறு மணிக்கு முன்பு வீட் டிற்கு வா\tCC-BY 2.0 (France) Attribution: tatoeba.org #72433 (CK) & #4268044 (Singaravelu)\n",
            "Go and see who it is.\tபோய் யார் என்று பார்\tCC-BY 2.0 (France) Attribution: tatoeba.org #276272 (CK) & #4240339 (Singaravelu)\n",
            "I am afraid of bears.\tஎனக்குக் கரடிகளைக கண்டால் பயம்\tCC-BY 2.0 (France) Attribution: tatoeba.org #257026 (CK) & #4155018 (Singaravelu)\n",
            "I expect him to come.\tஅவன் வருவான் என எதிர் பார்க்கிறேன்\tCC-BY 2.0 (France) Attribution: tatoeba.org #282984 (CK) & #4157833 (Singaravelu)\n",
            "It's a piece of cake.\tஇது ஒரு கேக்கின் துண்டு\tCC-BY 2.0 (France) Attribution: tatoeba.org #21259 (Eldad) & #4155048 (Singaravelu)\n",
            "The boy began to cry.\tஅந்த பையன் அழ ஆரம்பித்தான்\tCC-BY 2.0 (France) Attribution: tatoeba.org #45406 (CK) & #4268462 (Singaravelu)\n",
            "You keep out of this.\tநீ இதில் தலையிடாதே\tCC-BY 2.0 (France) Attribution: tatoeba.org #240558 (CK) & #4155073 (Singaravelu)\n",
            "All of us were silent.\tநாங்கள் அனைவரும் அமைதியாக இருந்தோம்\tCC-BY 2.0 (France) Attribution: tatoeba.org #248351 (CK) & #4155097 (Singaravelu)\n",
            "Be kind to old people.\tவயோதிகர்களிடம் அன்பாக இரு\tCC-BY 2.0 (France) Attribution: tatoeba.org #64128 (CK) & #4157840 (Singaravelu)\n",
            "Beware of pickpockets.\tஜேப்படிகாரர்களிடம் ஜாக்கிரதையாக இருக்கவும்\tCC-BY 2.0 (France) Attribution: tatoeba.org #51404 (CK) & #4155152 (Singaravelu)\n",
            "Don't drink and drive.\tகுடித்துவிட்டு வண்டி ஓட்டாதே\tCC-BY 2.0 (France) Attribution: tatoeba.org #453605 (CM) & #4240346 (Singaravelu)\n",
            "He can read and write.\tஅவனுக்கு எழுதப் படிக்கத் தெரியும்\tCC-BY 2.0 (France) Attribution: tatoeba.org #302097 (CK) & #4240347 (Singaravelu)\n",
            "He got a lot of money.\tஅவனுக்கு நிறைய பணம் கிடைத்தது\tCC-BY 2.0 (France) Attribution: tatoeba.org #301274 (lindupindu) & #4155174 (Singaravelu)\n",
            "He has a lot of money.\tஅவனிடம் நிறைய பணமிருக்கிறது\tCC-BY 2.0 (France) Attribution: tatoeba.org #480576 (CK) & #4155189 (Singaravelu)\n",
            "He is afraid of death.\tஅவனுக்கு இறந்து போவதென்றால் பயம்\tCC-BY 2.0 (France) Attribution: tatoeba.org #297216 (CK) & #4155201 (Singaravelu)\n",
            "He let go of the rope.\tஅவன் கயிற்றை விட்டான்\tCC-BY 2.0 (France) Attribution: tatoeba.org #293364 (CK) & #4155210 (Singaravelu)\n",
            "I am tired of my work.\tநான் வேலை பளுவினால் சோர்வாகயிருக்கிறேன்\tCC-BY 2.0 (France) Attribution: tatoeba.org #258284 (CK) & #4155236 (Singaravelu)\n",
            "I got out of the taxi.\tநான் டாக்ஸியிலிருந்து இறங்கினேன்\tCC-BY 2.0 (France) Attribution: tatoeba.org #254926 (CK) & #4155246 (Singaravelu)\n",
            "None of your business.\tஇது உங்களுக்கு சம்பந்தமில்லாத விஷயம்\tCC-BY 2.0 (France) Attribution: tatoeba.org #324771 (CK) & #4155251 (Singaravelu)\n",
            "They made fun of Mary.\tஅவர்கள் மேரியை கிண்டலடித்தார்கள்\tCC-BY 2.0 (France) Attribution: tatoeba.org #293019 (CK) & #4155259 (Singaravelu)\n",
            "Tom and I are friends.\tடாமும் நானும் நண்பர்கள்\tCC-BY 2.0 (France) Attribution: tatoeba.org #37370 (CK) & #4240351 (Singaravelu)\n",
            "When is your birthday?\tஉங்கள் பிறந்த நாள் எப்போது ?\tCC-BY 2.0 (France) Attribution: tatoeba.org #16997 (CK) & #4267930 (Singaravelu)\n",
            "All of them went there.\tஅவர்கள் எல்லோரும் அங்கே சென்றார்கள்\tCC-BY 2.0 (France) Attribution: tatoeba.org #306053 (CK) & #4155262 (Singaravelu)\n",
            "Can you ride a bicycle?\tஉங்களுக்கு சைக்கிள் ஓட்டத் தெரியுமா?\tCC-BY 2.0 (France) Attribution: tatoeba.org #69284 (CK) & #4268459 (Singaravelu)\n",
            "Do you want to be rich?\tநீ பணக்காரராக விருப்பமா?\tCC-BY 2.0 (France) Attribution: tatoeba.org #18527 (CK) & #4165411 (Singaravelu)\n",
            "He is afraid of snakes.\tஅவர்களுக்கு பாம்புகள் என்றால் பயம்\tCC-BY 2.0 (France) Attribution: tatoeba.org #292670 (CK) & #4155264 (Singaravelu)\n",
            "He is fond of swimming.\tஅவனுக்கு நீச்சல் மீது பற்று உண்டு\tCC-BY 2.0 (France) Attribution: tatoeba.org #293933 (CK) & #4155270 (Singaravelu)\n",
            "He went in place of me.\tஅவன் எனக்குப் பதிலாக சேன்றான்\tCC-BY 2.0 (France) Attribution: tatoeba.org #283734 (CK) & #4155449 (Singaravelu)\n",
            "He's afraid of the sea.\tஅவனுக்குக் கடல் என்றால் பயம்\tCC-BY 2.0 (France) Attribution: tatoeba.org #294675 (CK) & #4155463 (Singaravelu)\n",
            "I'll leave that to you.\tநான் அதை உன்னிடம் விட்டு விடுகிறேன்\tCC-BY 2.0 (France) Attribution: tatoeba.org #50417 (CK) & #4165375 (Singaravelu)\n",
            "It seems she hates you.\tஅவள் உன்னை வெறுக்கிற மாதிரி தெரிகிறது\tCC-BY 2.0 (France) Attribution: tatoeba.org #338306 (Sprachprofi) & #4271998 (Singaravelu)\n",
            "She got engaged to him.\tஅவள் அவனுக்கு நிச்சயிக்கப் பட்டாள்\tCC-BY 2.0 (France) Attribution: tatoeba.org #887151 (CK) & #4165446 (Singaravelu)\n",
            "She got married to him.\tஅவள் அவனுக்கு திருமணம் செய்து வைக்கப் பட்டாள்\tCC-BY 2.0 (France) Attribution: tatoeba.org #887160 (CK) & #4165420 (Singaravelu)\n",
            "She stood close to him.\tஅவனுக்கு நெருக்கமாக நின்றாள்\tCC-BY 2.0 (France) Attribution: tatoeba.org #887412 (CK) & #4165384 (Singaravelu)\n",
            "They're about to leave.\tஅவர்கள் கிளம்ப இருக்கிறார்கள்\tCC-BY 2.0 (France) Attribution: tatoeba.org #1173776 (CK) & #4165455 (Singaravelu)\n",
            "This CD belongs to her.\tஇந்த சீடி அவளுக்குச் சொந்தமானது\tCC-BY 2.0 (France) Attribution: tatoeba.org #61387 (CK) & #4165476 (Singaravelu)\n",
            "We ran after the thief.\tநாங்கள் திருடனுக்குப் பின்னால் ஓடினோம்\tCC-BY 2.0 (France) Attribution: tatoeba.org #263161 (CK) & #4267962 (Singaravelu)\n",
            "What do you plan to do?\tநீ என்ன செய்யத் திட்டமிட்டிருக்கிறாய்\tCC-BY 2.0 (France) Attribution: tatoeba.org #405508 (CK) & #4165465 (Singaravelu)\n",
            "A square has four sides.\tஒரு சதுரத்திற்கு நான்கு பக்கங்கள் உள்ளன\tCC-BY 2.0 (France) Attribution: tatoeba.org #271699 (CK) & #4268476 (Singaravelu)\n",
            "Charge it to my account.\tஎன்னுடைய கணக்கிற்கு மாற்று\tCC-BY 2.0 (France) Attribution: tatoeba.org #250616 (CK) & #4165483 (Singaravelu)\n",
            "He asked us to help him.\tஎங்களை உதவி செய்யும்படி கேட்டான்\tCC-BY 2.0 (France) Attribution: tatoeba.org #476446 (CK) & #4157861 (Singaravelu)\n",
            "He is known to everyone.\tஅவன் ஒவ்வொருவருக்கும் அறிமுகமானவன்\tCC-BY 2.0 (France) Attribution: tatoeba.org #301400 (CK) & #4165399 (Singaravelu)\n",
            "He objected to our plan.\tஎங்களுடைய திட்டத்திற்கு எதிர்ப்புத் தெரிவித்தான்\tCC-BY 2.0 (France) Attribution: tatoeba.org #303737 (CK) & #4165405 (Singaravelu)\n",
            "I just want you to come.\tநீ வர வேண்டுமென விரும்புகிறேன்\tCC-BY 2.0 (France) Attribution: tatoeba.org #324999 (CK) & #4157853 (Singaravelu)\n",
            "I want something to eat.\tஎனக்கு சாப்பிட ஏதாவது வேண்டும்\tCC-BY 2.0 (France) Attribution: tatoeba.org #25072 (CK) & #4165393 (Singaravelu)\n",
            "Is he a friend of yours?\tஅவர் உங்களுடைய நண்பரா?\tCC-BY 2.0 (France) Attribution: tatoeba.org #288757 (CK) & #4155579 (Singaravelu)\n",
            "The news quickly spread.\tசெய்தி வேகமாக பரவியது\tCC-BY 2.0 (France) Attribution: tatoeba.org #35952 (CK) & #4268478 (Singaravelu)\n",
            "I can't find it anywhere.\tஇது எங்கே இருக்கு என்று என்னால் கண்டுபிடிக்க முடியவில்லை.\tCC-BY 2.0 (France) Attribution: tatoeba.org #1503339 (CK) & #7156660 (Singaravelu)\n",
            "I thought you'd be angry.\tநீ கோபமாக இருப்பாய் என்று எண்ணினேன்.\tCC-BY 2.0 (France) Attribution: tatoeba.org #3737511 (CK) & #7157297 (Singaravelu)\n",
            "Please sit here and wait.\tஇங்கே அமருங்கள்,தயவு செயது காத்திருங்கள்\tCC-BY 2.0 (France) Attribution: tatoeba.org #890210 (Scott) & #4240357 (Singaravelu)\n",
            "She went out of the room.\tஅவள் அறையை விட்டு வெளியே சென்றாள்\tCC-BY 2.0 (France) Attribution: tatoeba.org #316841 (CK) & #4155503 (Singaravelu)\n",
            "Speak slowly and clearly.\tமெதுவாகவும் தெளிவாகவும் பேசுங்கள்\tCC-BY 2.0 (France) Attribution: tatoeba.org #30129 (CK) & #4240360 (Singaravelu)\n",
            "The sky is full of stars.\tவானம் முழுவதும் நட்சத்திரங்கள் இருக்கின்றன\tCC-BY 2.0 (France) Attribution: tatoeba.org #18278 (CK) & #4155605 (Singaravelu)\n",
            "Come and see me right now.\tஉடனே வந்து என்னைப் பார்க்கவும்\tCC-BY 2.0 (France) Attribution: tatoeba.org #52204 (CK) & #4240373 (Singaravelu)\n",
            "Do you have a lot of pens?\tஉன்னிடம் நிறைய பேனாக்கள் இருக்கின்றனவா?\tCC-BY 2.0 (France) Attribution: tatoeba.org #69772 (CK) & #4155550 (Singaravelu)\n",
            "Go and sit by your father.\tபோய் உன் தந்தையருகில் அமரவும்\tCC-BY 2.0 (France) Attribution: tatoeba.org #64083 (CK) & #4240375 (Singaravelu)\n",
            "He bought a pair of shoes.\tநான் ஒரு ஜோடி காலணிகளை வாங்கினேன்\tCC-BY 2.0 (France) Attribution: tatoeba.org #293777 (CK) & #4155633 (Singaravelu)\n",
            "I live on the bottom floor.\tநான் கீழ் தளத்தில் வசிக்கிறேன்\tCC-BY 2.0 (France) Attribution: tatoeba.org #256107 (CK) & #4268473 (Singaravelu)\n",
            "I sat between Tom and John.\tடாமுக்கும் ஜானுக்கும் இடையில் அமர்ந்தேன்\tCC-BY 2.0 (France) Attribution: tatoeba.org #255279 (CK) & #4267971 (Singaravelu)\n",
            "She wore a beautiful dress.\tஅவள் அழகான ஆடை அணிந்திருந்தாள்\tCC-BY 2.0 (France) Attribution: tatoeba.org #388420 (CK) & #4268472 (Singaravelu)\n",
            "When did you come to Japan?\tநீ எப்பொழுது ஜப்பான் வந்தாய்?\tCC-BY 2.0 (France) Attribution: tatoeba.org #16755 (CK) & #4267959 (Singaravelu)\n",
            "Don't tell Tom you're a cop.\tநீ காவலன் என்பதை டாமிடம் சொல்லாதே.\tCC-BY 2.0 (France) Attribution: tatoeba.org #2288998 (CK) & #9808077 (Sathishkumar)\n",
            "Don't think about it. Do it.\tஅதைப்பற்றி எண்ணிக்கொண்டிருக்காதே. செயல்படு\tCC-BY 2.0 (France) Attribution: tatoeba.org #2288999 (CK) & #9808082 (Sathishkumar)\n",
            "Most people think I'm crazy.\tநிறைய மக்கள் நான் பைத்தியம் என்று எண்ணுகிறார்கள்\tCC-BY 2.0 (France) Attribution: tatoeba.org #1322 (CK) & #4267967 (Singaravelu)\n",
            "I suppose Tom is still alive.\tடாம் இன்னும் உயிருடனிருக்கிறான் என்று எண்ணுகிறேன்.\tCC-BY 2.0 (France) Attribution: tatoeba.org #3371206 (CK) & #7157158 (Singaravelu)\n",
            "She asked him for some money.\tஅவனைக் கொஞ்சம் பணம் கேட்டாள்\tCC-BY 2.0 (France) Attribution: tatoeba.org #886955 (CK) & #4267948 (Singaravelu)\n",
            "Tom told me about it himself.\tடாம் அதைப் பற்றி அவனே என்னிடம் சொன்னான்.\tCC-BY 2.0 (France) Attribution: tatoeba.org #3823823 (CK) & #7157154 (Singaravelu)\n",
            "Do you know when he will come?\tஅவன் எப்ப வருவான் என்று உனக்குத் தெரியுமா\tCC-BY 2.0 (France) Attribution: tatoeba.org #282942 (CK) & #4267926 (Singaravelu)\n",
            "He painted a picture of a dog.\tஒரு நாயின் படத்தை வரைந்தான்\tCC-BY 2.0 (France) Attribution: tatoeba.org #285993 (CK) & #4163960 (Singaravelu)\n",
            "I arrived ahead of the others.\tமற்றவர்களுக்கு முன்னே நான் வந்தேன்\tCC-BY 2.0 (France) Attribution: tatoeba.org #255584 (CK) & #4163963 (Singaravelu)\n",
            "I know every inch of the town.\tஇந்த ஊரின் ஒவ்வொரு அங்குலமும் எனக்குத் தெரியும்\tCC-BY 2.0 (France) Attribution: tatoeba.org #254576 (CK) & #4163961 (Singaravelu)\n",
            "I'm not sharing this with Tom.\tடாமிடம் நான் இதை பகிர்ந்துகொண்டு இருக்கவில்லை.\tCC-BY 2.0 (France) Attribution: tatoeba.org #3371207 (CK) & #7157230 (Singaravelu)\n",
            "She is not afraid of anything.\tஅவள் எதற்கும் பயப்படுவதில்லை\tCC-BY 2.0 (France) Attribution: tatoeba.org #316789 (CK) & #4163964 (Singaravelu)\n",
            "The price of eggs is going up.\tமுட்டைகளின் விலை அதிகரித்துக் கொண்டிருக்கிறது\tCC-BY 2.0 (France) Attribution: tatoeba.org #325217 (CK) & #4163969 (Singaravelu)\n",
            "Tom picked up the soccer ball.\tடாம் கால்பந்தை எடுத்தார்.\tCC-BY 2.0 (France) Attribution: tatoeba.org #5276567 (Hybrid) & #9808074 (Sathishkumar)\n",
            "What is the price of this cap?\tஇந்த தொப்பியின் விலை என்ன?\tCC-BY 2.0 (France) Attribution: tatoeba.org #57128 (CK) & #4163967 (Singaravelu)\n",
            "Which of them is your brother?\tஇவர்களில் யார் உன்னுடைய சகோதரர்\tCC-BY 2.0 (France) Attribution: tatoeba.org #305109 (CK) & #4163968 (Singaravelu)\n",
            "He arrived after the bell rang.\tமணி ஒலித்தப் பிறகு அவன் வந்தான்\tCC-BY 2.0 (France) Attribution: tatoeba.org #292674 (CK) & #4268466 (Singaravelu)\n",
            "He was not aware of the danger.\tஅவன் அபாயத்தை அறிந்திருக்க வில்லை\tCC-BY 2.0 (France) Attribution: tatoeba.org #290658 (CK) & #4163971 (Singaravelu)\n",
            "My throat hurts when I swallow.\tசின்ன கேக்குத் துண்டு அவள் தொண்டையில் சிக்கிக் கொண்டது\tCC-BY 2.0 (France) Attribution: tatoeba.org #268673 (CK) & #4268468 (Singaravelu)\n",
            "The school looks like a prison.\tஇந்த பள்ளி கூடம் ஒரு சிறைச்சாலையைப் போல இருக்கிறது\tCC-BY 2.0 (France) Attribution: tatoeba.org #48941 (CK) & #4268479 (Singaravelu)\n",
            "I'm not sure how to answer this.\tஎப்படி பதில் சொல்வது என்பதில் நான் உறுதியாக இல்லை.\tCC-BY 2.0 (France) Attribution: tatoeba.org #1180912 (CM) & #7157330 (Singaravelu)\n",
            "There's no easy way out of here.\tஇங்கிருந்து வெளியே செல்ல சுலபமான வழியில்லை.\tCC-BY 2.0 (France) Attribution: tatoeba.org #6256451 (CK) & #7157290 (Singaravelu)\n",
            "Three vicious dogs attacked Tom.\tமூன்று மோசமான நாய்கள் டாமை தாக்கின\tCC-BY 2.0 (France) Attribution: tatoeba.org #8455881 (CK) & #8792512 (mrandy47)\n",
            "Tom was in Australia a year ago.\tடாம் ஒரு வருடத்திற்கு முன்னால் ஆஸ்திரேலியாவில் இருந்தார்\tCC-BY 2.0 (France) Attribution: tatoeba.org #7150346 (CK) & #8792504 (mrandy47)\n",
            "When did the wedding take place?\tகல்யாணம் எப்பொழுது நடைப் பெற்றது\tCC-BY 2.0 (France) Attribution: tatoeba.org #238730 (CK) & #4268465 (Singaravelu)\n",
            "Where do you keep your passport?\tநீ பாஸ்போர்ட்டைஎங்கே வைத்திருக்கிறாய்?\tCC-BY 2.0 (France) Attribution: tatoeba.org #3174740 (CK) & #4271958 (Singaravelu)\n",
            "Because he's sick, he can't come.\tஅவனுக்கு உடல் நிலை சரியில்லாததனால் அவனால் வர இயலாது\tCC-BY 2.0 (France) Attribution: tatoeba.org #404646 (CK) & #4268050 (Singaravelu)\n",
            "Friendship requires mutual trust.\tநட்புக்குத் தேவை பரஸ்பர நம்பிக்கை\tCC-BY 2.0 (France) Attribution: tatoeba.org #3174720 (Hybrid) & #4271951 (Singaravelu)\n",
            "He put the ring on Mary's finger.\tஅவன் மேரியின் விரலில் மோதிரத்தை அணிவித்தான்\tCC-BY 2.0 (France) Attribution: tatoeba.org #293018 (CK) & #4268469 (Singaravelu)\n",
            "She glanced through the magazine.\tஅவள் பத்திரிக்கையை மேலோட்டமாகப் பார்த்தாள்\tCC-BY 2.0 (France) Attribution: tatoeba.org #313861 (CK) & #4268047 (Singaravelu)\n",
            "Tom has been crying all afternoon.\tடாம் மதியம் முழுவதும் அழுதுகொண்டேயிருக்கிறான்.\tCC-BY 2.0 (France) Attribution: tatoeba.org #6125474 (CK) & #7157122 (Singaravelu)\n",
            "Tom has been in contact with Mary.\tடாம் மேரியுடன் தொடர்பிலிருந்துருக்கிறான் அல்லது டாம் மேரியுடன் தொடர்பிலிருக்கிறான்.\tCC-BY 2.0 (France) Attribution: tatoeba.org #6125477 (CK) & #7157148 (Singaravelu)\n",
            "I want to be a pilot in the future.\tநான் எதிர் காலத்தில் ஒரு விமானியாக விரும்புகிறேன்\tCC-BY 2.0 (France) Attribution: tatoeba.org #258623 (CK) & #4268464 (Singaravelu)\n",
            "If Tom ran away, where could he go?\tடாம் ஓடிவிட்டால், அவரால் எங்கு செல்ல முடியும்?\tCC-BY 2.0 (France) Attribution: tatoeba.org #7126562 (CM) & #8792535 (mrandy47)\n",
            "I had my pocket picked on the train.\tஇரயிலில் என்னிடம் ஜேப்படி அடிக்கப் பட்டிருந்தது\tCC-BY 2.0 (France) Attribution: tatoeba.org #279193 (CK) & #4268463 (Singaravelu)\n",
            "He told her something and she smiled.\tஅவன் அவளிடம் ஏதோ சொன்னான் மற்றும் அவள் சிரித்தாள்.\tCC-BY 2.0 (France) Attribution: tatoeba.org #1503255 (glavkos) & #7156638 (Singaravelu)\n",
            "I don't like to go out when it's dark.\tஇருட்டாக இருக்கும் பொழுது நான் வெளியே போக விரும்புவதில்லை.\tCC-BY 2.0 (France) Attribution: tatoeba.org #338633 (nickyeow) & #4272009 (Singaravelu)\n",
            "When he spoke, everyone became silent.\tஅவன் பேசியப் பொழுது எல்லோரும் அமைதி காத்தார்கள்\tCC-BY 2.0 (France) Attribution: tatoeba.org #1312933 (CK) & #4268474 (Singaravelu)\n",
            "Tom drank with us until after midnight.\tடாம் நள்ளிரவு வரை எங்களுடன் குடித்தார்.\tCC-BY 2.0 (France) Attribution: tatoeba.org #7542258 (CK) & #8792545 (mrandy47)\n",
            "She has never been in a car driven by him.\tஅவன் ஒட்டினக் காரில் அவள் எப்பொழுதும் இருந்ததில்லை\tCC-BY 2.0 (France) Attribution: tatoeba.org #887183 (CK) & #4268460 (Singaravelu)\n",
            "Tom goes to church with Mary every Sunday.\tடாம் மேரியுடன் ஒவ்வொரு ஞாயிற்றுக் கிழமையும் தேவாலயத்துக்குச் செல்கிறான்.\tCC-BY 2.0 (France) Attribution: tatoeba.org #6125475 (CK) & #7157133 (Singaravelu)\n",
            "I don't think people use that word anymore.\tமக்கள் அந்த வார்த்தையைப் பயன் படுத்துவதாக எனக்குத் தெரியவில்லை\tCC-BY 2.0 (France) Attribution: tatoeba.org #4271912 (CK) & #4271963 (Singaravelu)\n",
            "My younger sister got married in her teens.\tஎன் தங்கை இள வயதிலேய கல்யாணம் செய்து கொண்டாள்\tCC-BY 2.0 (France) Attribution: tatoeba.org #338272 (nanbanjin) & #4271996 (Singaravelu)\n",
            "I wonder why Tom suggested we do that together.\tஏன் டாம் நாமிருவரும் சேர்ந்து செய்வோமென்று பரிந்துரைத்தான் என்று ஆச்சரியமடைகிறேன்.\tCC-BY 2.0 (France) Attribution: tatoeba.org #6125476 (CK) & #7157140 (Singaravelu)\n",
            "Tom says he doesn't think he can do that by himself.\tஎன் ஒருவனால் மட்டுமே அதை செய்ய முடியாது என்று நினைக்கிறேன் என டாம் கூறினார்\tCC-BY 2.0 (France) Attribution: tatoeba.org #6233766 (CK) & #8792531 (mrandy47)\n",
            "People who live in glass houses shouldn't throw stones.\tகண்ணாடி வீட்டில் வசிப்பவகள் கல்லை எறியக் கூடாது\tCC-BY 2.0 (France) Attribution: tatoeba.org #51870 (Zifre) & #4268471 (Singaravelu)\n",
            "It's been a long time since I've heard anyone use that word.\tஒருவர் அந்த வார்த்தையைப் பயன் படுத்துவதைக் கேட்டு ரொம்ப நாளாகிறது\tCC-BY 2.0 (France) Attribution: tatoeba.org #4271911 (CK) & #4271976 (Singaravelu)\n",
            "If you want your workers to be happy, you need to pay them a decent wage.\tஉங்களுடைய வேலையாட்கள் மகிழ்ச்சியாக இருக்க வேண்டுமென்றால் நீங்கள் கணிசமான சம்பளம் தர வேண்டும்\tCC-BY 2.0 (France) Attribution: tatoeba.org #1144626 (CK) & #4268467 (Singaravelu)\n",
            "It's my fault that the cake was burned. I was talking on the phone and didn't notice the time.\tஎன்னுடையத் தவறினால் கேக்கானதுக் கருகிப் போனது.தோலைப் பேசியில் பேசிக் கொண்டிருந்ததால் நேரத்தைக் கவனிக்க வில்லை\tCC-BY 2.0 (France) Attribution: tatoeba.org #62662 (CK) & #4268461 (Singaravelu)\n",
            "\n"
          ]
        }
      ]
    },
    {
      "cell_type": "code",
      "metadata": {
        "id": "bbe1zUmjQH0K"
      },
      "source": [
        "def load_data(path):\n",
        "  text = path.read_text(encoding='utf-8')\n",
        "  #text = tam_eng.read()\n",
        "\n",
        "  lines = text.splitlines()\n",
        "  pairs = [line.split('\\t')[:-1] for line in lines]\n",
        "\n",
        "  inp = [inp for targ, inp in pairs]\n",
        "  targ = [targ for targ, inp in pairs]\n",
        "\n",
        "  return targ, inp\n"
      ],
      "execution_count": null,
      "outputs": []
    },
    {
      "cell_type": "code",
      "metadata": {
        "colab": {
          "base_uri": "https://localhost:8080/"
        },
        "id": "cZk70-CPRtrL",
        "outputId": "68d46b4d-07a1-4739-a355-4641bcd4b183"
      },
      "source": [
        "targ, inp = load_data(path_to_file)\n",
        "print('Input:',inp[11])\n",
        "print('Target:',targ[11])"
      ],
      "execution_count": null,
      "outputs": [
        {
          "output_type": "stream",
          "name": "stdout",
          "text": [
            "Input: அவள் அவனைக் அடித்தாள்\n",
            "Target: She hit him.\n"
          ]
        }
      ]
    },
    {
      "cell_type": "code",
      "metadata": {
        "id": "5fisZaIx37WN"
      },
      "source": [
        "def tf_lower_and_split_punct(text):\n",
        "  # Split accecented characters.\n",
        "  text = tf_text.normalize_utf8(text, 'NFKD')\n",
        "  text = tf.strings.lower(text)\n",
        "  # Keep space, a to z, and select punctuation.\n",
        "  text = tf.strings.regex_replace(text, '[*]', '')\n",
        "  # Add spaces around punctuation.\n",
        "  text = tf.strings.regex_replace(text, '[.?!,¿]', r' \\0 ')\n",
        "  # Strip whitespace.\n",
        "  text = tf.strings.strip(text)\n",
        "\n",
        "  text = tf.strings.join(['[START]', text, '[END]'], separator=' ')\n",
        "  return text"
      ],
      "execution_count": null,
      "outputs": []
    },
    {
      "cell_type": "code",
      "metadata": {
        "id": "GU7rwX4HzGCp"
      },
      "source": [
        "BUFFER_SIZE = len(inp)\n",
        "\n",
        "dataset = tf.data.Dataset.from_tensor_slices((inp, targ)).shuffle(BUFFER_SIZE)\n",
        "dataset = dataset.repeat(5).batch(4)"
      ],
      "execution_count": null,
      "outputs": []
    },
    {
      "cell_type": "code",
      "metadata": {
        "colab": {
          "base_uri": "https://localhost:8080/"
        },
        "id": "0GxAdaqczPRI",
        "outputId": "7fadab42-b5d5-420c-d05a-479ab623c2ad"
      },
      "source": [
        "for example_input_batch, example_target_batch in dataset.take(1):\n",
        "  print(example_input_batch[:5])\n",
        "  print()\n",
        "  print(example_target_batch[:5])\n",
        "  break"
      ],
      "execution_count": null,
      "outputs": [
        {
          "output_type": "stream",
          "name": "stdout",
          "text": [
            "tf.Tensor(\n",
            "[b'\\xe0\\xae\\xb5\\xe0\\xae\\xb2\\xe0\\xae\\xa4\\xe0\\xaf\\x81 \\xe0\\xae\\xaa\\xe0\\xae\\x95\\xe0\\xaf\\x8d\\xe0\\xae\\x95\\xe0\\xae\\xa4\\xe0\\xaf\\x8d\\xe0\\xae\\xa4\\xe0\\xaf\\x88 \\xe0\\xae\\x95\\xe0\\xae\\x9f\\xe0\\xaf\\x88\\xe0\\xae\\xaa\\xe0\\xaf\\x8d \\xe0\\xae\\xaa\\xe0\\xae\\xbf\\xe0\\xae\\x9f\\xe0\\xae\\xbf'\n",
            " b'\\xe0\\xae\\x85\\xe0\\xae\\xb5\\xe0\\xae\\xb3\\xe0\\xaf\\x8d \\xe0\\xae\\x8e\\xe0\\xae\\xa4\\xe0\\xae\\xb1\\xe0\\xaf\\x8d\\xe0\\xae\\x95\\xe0\\xaf\\x81\\xe0\\xae\\xae\\xe0\\xaf\\x8d \\xe0\\xae\\xaa\\xe0\\xae\\xaf\\xe0\\xae\\xaa\\xe0\\xaf\\x8d\\xe0\\xae\\xaa\\xe0\\xae\\x9f\\xe0\\xaf\\x81\\xe0\\xae\\xb5\\xe0\\xae\\xa4\\xe0\\xae\\xbf\\xe0\\xae\\xb2\\xe0\\xaf\\x8d\\xe0\\xae\\xb2\\xe0\\xaf\\x88'\n",
            " b'\\xe0\\xae\\x85\\xe0\\xae\\xb5\\xe0\\xae\\xb3\\xe0\\xaf\\x8d \\xe0\\xae\\x85\\xe0\\xae\\xb1\\xe0\\xaf\\x88\\xe0\\xae\\xaf\\xe0\\xaf\\x88 \\xe0\\xae\\xb5\\xe0\\xae\\xbf\\xe0\\xae\\x9f\\xe0\\xaf\\x8d\\xe0\\xae\\x9f\\xe0\\xaf\\x81 \\xe0\\xae\\xb5\\xe0\\xaf\\x86\\xe0\\xae\\xb3\\xe0\\xae\\xbf\\xe0\\xae\\xaf\\xe0\\xaf\\x87 \\xe0\\xae\\x9a\\xe0\\xaf\\x86\\xe0\\xae\\xa9\\xe0\\xaf\\x8d\\xe0\\xae\\xb1\\xe0\\xae\\xbe\\xe0\\xae\\xb3\\xe0\\xaf\\x8d'\n",
            " b'\\xe0\\xae\\xa8\\xe0\\xaf\\x80 \\xe0\\xae\\xaa\\xe0\\xae\\xa3\\xe0\\xae\\x95\\xe0\\xaf\\x8d\\xe0\\xae\\x95\\xe0\\xae\\xbe\\xe0\\xae\\xb0\\xe0\\xae\\xb0\\xe0\\xae\\xbe\\xe0\\xae\\x95 \\xe0\\xae\\xb5\\xe0\\xae\\xbf\\xe0\\xae\\xb0\\xe0\\xaf\\x81\\xe0\\xae\\xaa\\xe0\\xaf\\x8d\\xe0\\xae\\xaa\\xe0\\xae\\xae\\xe0\\xae\\xbe?'], shape=(4,), dtype=string)\n",
            "\n",
            "tf.Tensor(\n",
            "[b'Keep to the right.' b'She is not afraid of anything.'\n",
            " b'She went out of the room.' b'Do you want to be rich?'], shape=(4,), dtype=string)\n"
          ]
        }
      ]
    },
    {
      "cell_type": "code",
      "metadata": {
        "colab": {
          "base_uri": "https://localhost:8080/"
        },
        "id": "wL3ttB5o384v",
        "outputId": "9b51a635-82e0-4887-8303-ae7f501fdabf"
      },
      "source": [
        "max_vocab_size = 5000\n",
        "\n",
        "input_text_processor = tf.keras.layers.TextVectorization(\n",
        "    standardize=tf_lower_and_split_punct,\n",
        "    max_tokens=max_vocab_size)\n",
        "\n",
        "input_text_processor.adapt(inp)\n",
        "\n",
        "# Here are the first 10 words from the vocabulary:\n",
        "input_text_processor.get_vocabulary()"
      ],
      "execution_count": null,
      "outputs": [
        {
          "output_type": "execute_result",
          "data": {
            "text/plain": [
              "['',\n",
              " '[UNK]',\n",
              " '[START]',\n",
              " '[END]',\n",
              " 'நான்',\n",
              " 'அவள்',\n",
              " '?',\n",
              " '.',\n",
              " 'அவன்',\n",
              " 'டாம்',\n",
              " 'ஒரு',\n",
              " 'என்று',\n",
              " 'அவனுக்கு',\n",
              " 'நீ',\n",
              " 'தெரியும்',\n",
              " 'என்னிடம்',\n",
              " 'வேண்டும்',\n",
              " 'எனக்கு',\n",
              " 'நிறைய',\n",
              " 'என்ன',\n",
              " 'இந்த',\n",
              " 'இது',\n",
              " 'விரும்புகிறேன்',\n",
              " 'யார்',\n",
              " 'போய்',\n",
              " 'பயம்',\n",
              " 'நாங்கள்',\n",
              " 'எப்பொழுது',\n",
              " 'என்',\n",
              " 'உன்னிடம்',\n",
              " 'இருக்கிறது',\n",
              " 'அந்த',\n",
              " 'வெளியே',\n",
              " 'வந்தான்',\n",
              " 'மேரியுடன்',\n",
              " 'பணம்',\n",
              " 'சொன்னான்',\n",
              " 'செல்ல',\n",
              " 'செய்து',\n",
              " 'ஓட',\n",
              " 'எப்படி',\n",
              " 'எனக்குத்',\n",
              " 'அவளிடம்',\n",
              " 'அவர்கள்',\n",
              " 'அவனைக்',\n",
              " 'அதை',\n",
              " 'வேகமாக',\n",
              " 'வில்லை',\n",
              " 'விலை',\n",
              " 'விட்டு',\n",
              " 'வார்த்தையைப்',\n",
              " 'வா',\n",
              " 'வருவான்',\n",
              " 'வர',\n",
              " 'வந்து',\n",
              " 'ரொம்ப',\n",
              " 'மேரியை',\n",
              " 'மூன்று',\n",
              " 'முழுவதும்',\n",
              " 'முன்னால்',\n",
              " 'முடியும்',\n",
              " 'மக்கள்',\n",
              " 'போகத்',\n",
              " 'போக',\n",
              " 'பொழுது',\n",
              " 'பார்க்கிறேன்',\n",
              " 'பார்',\n",
              " 'பற்றி',\n",
              " 'பயன்',\n",
              " 'பட்டாள்',\n",
              " 'நீங்கள்',\n",
              " 'நடக்க',\n",
              " 'தெரியுமா',\n",
              " 'துண்டு',\n",
              " 'டாமிடம்',\n",
              " 'சொல்லாதே',\n",
              " 'செய்ய',\n",
              " 'சிரித்தாள்',\n",
              " 'சாப்பிட',\n",
              " 'கொடுத்தாள்',\n",
              " 'கிளம்ப',\n",
              " 'கல்யாணம்',\n",
              " 'ஒவ்வொரு',\n",
              " 'ஏதாவது',\n",
              " 'எல்லோரும்',\n",
              " 'என்றால்',\n",
              " 'என்பது',\n",
              " 'என்னுடைய',\n",
              " 'என்னால்',\n",
              " 'என',\n",
              " 'எதிர்',\n",
              " 'எங்கே',\n",
              " 'எங்களுடைய',\n",
              " 'எங்களுக்கு',\n",
              " 'உள்ளன',\n",
              " 'உன்னை',\n",
              " 'உன்',\n",
              " 'உதவி',\n",
              " 'உங்களுடைய',\n",
              " 'உங்களுக்கு',\n",
              " 'இருக்கிறார்கள்',\n",
              " 'இரு',\n",
              " 'இப்பொழுது',\n",
              " 'இன்னும்',\n",
              " 'இதை',\n",
              " 'ஆரம்பித்தான்',\n",
              " 'ஆடை',\n",
              " 'அவனுக்குக்',\n",
              " 'அவனிடம்',\n",
              " 'அமைதியாக',\n",
              " 'அன்பாக',\n",
              " ',',\n",
              " 'வைத்திருக்கிறாய்',\n",
              " 'வைத்தாள்',\n",
              " 'வைக்கப்',\n",
              " 'வேலையாட்கள்',\n",
              " 'வேலை',\n",
              " 'வேண்டுமென்றால்',\n",
              " 'வேண்டுமென',\n",
              " 'வேண்டுமா',\n",
              " 'வேண்டியிருந்தது',\n",
              " 'வேக',\n",
              " 'வெளி',\n",
              " 'வெறுக்கிற',\n",
              " 'வீட்டில்',\n",
              " 'வீட்டிற்கு',\n",
              " 'வீட்',\n",
              " 'வீடு',\n",
              " 'விஷயம்',\n",
              " 'விளையாடுவது',\n",
              " 'விரும்புவதில்லை',\n",
              " 'விருப்பமா',\n",
              " 'விருப்பப்',\n",
              " 'விரலில்',\n",
              " 'விமானியாக',\n",
              " 'விதமான',\n",
              " 'விட்டுவிடு',\n",
              " 'விட்டான்',\n",
              " 'விடுகிறேன்',\n",
              " 'விடு',\n",
              " 'விட',\n",
              " 'வாயை',\n",
              " 'வானம்',\n",
              " 'வாசிக்கிறாளோ',\n",
              " 'வாங்கினேன்',\n",
              " 'வழியில்லை',\n",
              " 'வழி',\n",
              " 'வலது',\n",
              " 'வரைந்தான்',\n",
              " 'வரை',\n",
              " 'வருவது',\n",
              " 'வருடத்திற்கு',\n",
              " 'வரச்',\n",
              " 'வயோதிகர்களிடம்',\n",
              " 'வயது',\n",
              " 'வயதிலேய',\n",
              " 'வந்தேன்',\n",
              " 'வந்தாய்',\n",
              " 'வண்டி',\n",
              " 'வசிப்பவகள்',\n",
              " 'வசிக்கிறேன்',\n",
              " 'யாரும்',\n",
              " 'யாருக்குத்',\n",
              " 'மோதிரத்தை',\n",
              " 'மோசமான',\n",
              " 'மேலோட்டமாகப்',\n",
              " 'மேரியின்',\n",
              " 'மெதுவாகவும்',\n",
              " 'மூடி',\n",
              " 'முயற்சி',\n",
              " 'முன்பு',\n",
              " 'முன்னே',\n",
              " 'முட்டைகளை',\n",
              " 'முட்டைகளின்',\n",
              " 'முடியாது',\n",
              " 'முடியவில்லை',\n",
              " 'முடிகிறது',\n",
              " 'மீது',\n",
              " 'மாற்று',\n",
              " 'மாதிரி',\n",
              " 'மழை',\n",
              " 'மற்றும்',\n",
              " 'மற்றவர்களுக்கு',\n",
              " 'மறுபடியும்',\n",
              " 'மதியம்',\n",
              " 'மணிக்கு',\n",
              " 'மணி',\n",
              " 'மட்டுமே',\n",
              " 'மகிழ்ச்சியிலிருக்கிறேன்',\n",
              " 'மகிழ்ச்சியாக',\n",
              " 'மகிழ்ச்சி',\n",
              " 'மகன்கள்',\n",
              " 'மகனைப்',\n",
              " 'பையன்',\n",
              " 'பைத்தியம்',\n",
              " 'போவதென்றால்',\n",
              " 'போல',\n",
              " 'போனது',\n",
              " 'பேனாக்கள்',\n",
              " 'பேசுவதில்லை',\n",
              " 'பேசுங்கள்',\n",
              " 'பேசு',\n",
              " 'பேசியில்',\n",
              " 'பேசியப்',\n",
              " 'பேசிக்',\n",
              " 'பேசலாமா',\n",
              " 'பொய்',\n",
              " 'பெற்றது',\n",
              " 'பெருமைப்',\n",
              " 'பெய்யலாம்',\n",
              " 'புத்தகத்தைக்',\n",
              " 'புத்தகங்கள்',\n",
              " 'பிறந்த',\n",
              " 'பிறகு',\n",
              " 'பியானோ',\n",
              " 'பின்பற்றுவோம்',\n",
              " 'பின்னால்',\n",
              " 'பிடி',\n",
              " 'பாஸ்போர்ட்டைஎங்கே',\n",
              " 'பார்ப்பதில்',\n",
              " 'பார்த்தாள்',\n",
              " 'பார்க்கவும்',\n",
              " 'பாம்புகள்',\n",
              " 'பாட',\n",
              " 'பள்ளிக்கு',\n",
              " 'பள்ளி',\n",
              " 'பளுவினால்',\n",
              " 'பற்று',\n",
              " 'பரிந்துரைத்தான்',\n",
              " 'பரஸ்பர',\n",
              " 'பரவியது',\n",
              " 'பயப்படுவதில்லை',\n",
              " 'பனியில்',\n",
              " 'பந்தை',\n",
              " 'பத்திரிக்கையை',\n",
              " 'பதில்',\n",
              " 'பதிலாக',\n",
              " 'பணமிருக்கிறது',\n",
              " 'பணக்காரராக',\n",
              " 'பட்டிருந்தது',\n",
              " 'படுத்துவதைக்',\n",
              " 'படுத்துவதாக',\n",
              " 'படுகிறேன்',\n",
              " 'படுகிறான்',\n",
              " 'படிக்கத்',\n",
              " 'படிக்க',\n",
              " 'படத்தை',\n",
              " 'பசை',\n",
              " 'பக்கம்தான்',\n",
              " 'பக்கத்தை',\n",
              " 'பக்கங்கள்',\n",
              " 'பகிர்ந்துகொண்டு',\n",
              " 'நேரம்',\n",
              " 'நேரத்தைக்',\n",
              " 'நெருக்கமாக',\n",
              " 'நீச்சல்',\n",
              " 'நீச்சலடித்தான்',\n",
              " 'நிலை',\n",
              " 'நின்றாள்',\n",
              " 'நினைக்கிறேன்',\n",
              " 'நிச்சயிக்கப்',\n",
              " 'நிச்சயம்',\n",
              " 'நிச்சயமாகியிருக்கு',\n",
              " 'நாள்',\n",
              " 'நாளாகிறது',\n",
              " 'நாய்கள்',\n",
              " 'நாய்',\n",
              " 'நாயின்',\n",
              " 'நாம்',\n",
              " 'நாமிருவரும்',\n",
              " 'நான்கு',\n",
              " 'நானும்',\n",
              " 'நாட்டிற்குச்',\n",
              " 'நள்ளிரவு',\n",
              " 'நம்மைப்',\n",
              " 'நம்மால்',\n",
              " 'நம்பிக்கை',\n",
              " 'நண்பர்கள்',\n",
              " 'நண்பரா',\n",
              " 'நட்புக்குத்',\n",
              " 'நட்சத்திரங்கள்',\n",
              " 'நடைப்',\n",
              " 'நடப்பேன்',\n",
              " 'நடனம்',\n",
              " 'நடந்து',\n",
              " 'நட',\n",
              " 'தோலைப்',\n",
              " 'தோன்றுகிறது',\n",
              " 'தேவை',\n",
              " 'தேவாலயத்துக்குச்',\n",
              " 'தொப்பியின்',\n",
              " 'தொண்டையில்',\n",
              " 'தொடர்வோம்',\n",
              " 'தொடர்பில்',\n",
              " 'தொடர்பிலிருந்துருக்கிறான்',\n",
              " 'தொடர்பிலிருக்கிறான்',\n",
              " 'தெளிவாகவும்',\n",
              " 'தெரிவித்தான்',\n",
              " 'தெரியவில்லை',\n",
              " 'தெரிகிறது',\n",
              " 'தூங்குவதற்கு',\n",
              " 'தூங்கு',\n",
              " 'தூங்கினேன்',\n",
              " 'தூங்க',\n",
              " 'தூக்கு',\n",
              " 'தூக்கத்திலிருந்து',\n",
              " 'தீர்மானித்தாள்',\n",
              " 'திரும்பி',\n",
              " 'திருமணம்',\n",
              " 'திருடனுக்குப்',\n",
              " 'திட்டமிட்டிருக்கிறாய்',\n",
              " 'திட்டத்திற்கு',\n",
              " 'தாக்கின',\n",
              " 'தவறு',\n",
              " 'தவறினால்',\n",
              " 'தளத்தில்',\n",
              " 'தலையிடாதே',\n",
              " 'தர',\n",
              " 'தயாராக',\n",
              " 'தயவு',\n",
              " 'தந்தையார்',\n",
              " 'தந்தையருகில்',\n",
              " 'தட்டுப்பாடு',\n",
              " 'தங்கை',\n",
              " 'தங்களுடைய',\n",
              " 'டிற்கு',\n",
              " 'டாமை',\n",
              " 'டாமும்',\n",
              " 'டாமுக்கும்',\n",
              " 'டாக்ஸியிலிருந்து',\n",
              " 'ஞாயிற்றுக்',\n",
              " 'ஜோடி',\n",
              " 'ஜேப்படிகாரர்களிடம்',\n",
              " 'ஜேப்படி',\n",
              " 'ஜானுக்கும்',\n",
              " 'ஜாக்கிரதையாக',\n",
              " 'ஜாக்கிரதை',\n",
              " 'ஜப்பான்',\n",
              " 'சைக்கிள்',\n",
              " 'சோர்வாகயிருக்கிறேன்',\n",
              " 'சேர்ந்து',\n",
              " 'சேன்றான்',\n",
              " 'சொல்வதைக்',\n",
              " 'சொல்வது',\n",
              " 'சொல்',\n",
              " 'சொன்னேன்',\n",
              " 'சொந்தமானது',\n",
              " 'செல்கிறேன்',\n",
              " 'செல்கிறான்',\n",
              " 'செய்வோமென்று',\n",
              " 'செய்வது',\n",
              " 'செய்யும்படி',\n",
              " 'செய்யத்',\n",
              " 'செய்தேன்',\n",
              " 'செய்தி',\n",
              " 'செய்',\n",
              " 'செயல்படு',\n",
              " 'செயது',\n",
              " 'சென்றாள்',\n",
              " 'சென்றார்கள்',\n",
              " 'சுலபமான',\n",
              " 'சீடி',\n",
              " 'சீக்கிரம்',\n",
              " 'சிறைச்சாலையைப்',\n",
              " 'சின்ன',\n",
              " 'சிக்கிக்',\n",
              " 'சாப்பிட்டேன்',\n",
              " 'சறுக்கி',\n",
              " 'சரியில்லாததனால்',\n",
              " 'சம்பளம்',\n",
              " 'சம்பந்தமில்லாத',\n",
              " 'சந்திப்போம்',\n",
              " 'சதுரத்திற்கு',\n",
              " 'சகோதரர்',\n",
              " 'கையைத்',\n",
              " 'கையில்தான்',\n",
              " 'கோபமாக',\n",
              " 'கேள்',\n",
              " 'கேட்டு',\n",
              " 'கேட்டாள்',\n",
              " 'கேட்டான்',\n",
              " 'கேட்காதீர்',\n",
              " 'கேக்குத்',\n",
              " 'கேக்கின்',\n",
              " 'கேக்கானதுக்',\n",
              " 'கொண்டிருந்ததால்',\n",
              " 'கொண்டிருக்கிறேன்',\n",
              " 'கொண்டிருக்கிறது',\n",
              " 'கொண்டாள்',\n",
              " 'கொண்டது',\n",
              " 'கொடு',\n",
              " 'கொஞ்சம்',\n",
              " 'கூறினார்',\n",
              " 'கூடாது',\n",
              " 'கூடம்',\n",
              " 'கூட',\n",
              " 'குறைவாக',\n",
              " 'குடித்துவிட்டு',\n",
              " 'குடித்தார்',\n",
              " 'கீழ்',\n",
              " 'கிழமையும்',\n",
              " 'கிண்டலடித்தார்கள்',\n",
              " 'கிடைத்தது',\n",
              " 'காவலன்',\n",
              " 'கால்பந்தை',\n",
              " 'காலத்தில்',\n",
              " 'காலணிகளை',\n",
              " 'காரில்',\n",
              " 'காத்திருங்கள்',\n",
              " 'காத்தார்கள்',\n",
              " 'கவனிக்க',\n",
              " 'கவனி',\n",
              " 'கள்',\n",
              " 'கல்லை',\n",
              " 'கருகிப்',\n",
              " 'கரடிகளைக',\n",
              " 'கயிற்றை',\n",
              " 'கண்ணாடி',\n",
              " 'கண்டுபிடிக்க',\n",
              " 'கண்டால்',\n",
              " 'கணிசமான',\n",
              " 'கணக்கிற்கு',\n",
              " 'கட்டணமில்லை',\n",
              " 'கடைப்',\n",
              " 'கடித்தாள்',\n",
              " 'கடல்',\n",
              " 'ஓட்டாதே',\n",
              " 'ஓட்டத்',\n",
              " 'ஓடுகிறான்',\n",
              " 'ஓடிவிட்டால்',\n",
              " 'ஓடினோம்',\n",
              " 'ஒவ்வொருவருக்கும்',\n",
              " 'ஒலித்தப்',\n",
              " 'ஒருவர்',\n",
              " 'ஒருவனால்',\n",
              " 'ஒட்டினக்',\n",
              " 'ஏற்பட்டது',\n",
              " 'ஏரியில்',\n",
              " 'ஏன்',\n",
              " 'ஏதோ',\n",
              " 'எழுவதற்கான',\n",
              " 'எழுப்பு',\n",
              " 'எழுதப்',\n",
              " 'எறியக்',\n",
              " 'எப்போது',\n",
              " 'எப்பொழுதும்',\n",
              " 'எப்ப',\n",
              " 'என்பதை',\n",
              " 'என்பதில்',\n",
              " 'என்னைப்',\n",
              " 'என்னை',\n",
              " 'என்னுடையத்',\n",
              " 'எனக்குப்',\n",
              " 'எனக்குக்',\n",
              " 'எதிர்ப்புத்',\n",
              " 'எதற்கும்',\n",
              " 'எண்ணுகிறேன்',\n",
              " 'எண்ணுகிறார்கள்',\n",
              " 'எண்ணினேன்',\n",
              " 'எண்ணிக்கொண்டிருக்காதே',\n",
              " 'எட்டு',\n",
              " 'எடுத்தார்',\n",
              " 'எங்கு',\n",
              " 'எங்களை',\n",
              " 'எங்களுடன்',\n",
              " 'ஊரின்',\n",
              " 'உறுதியாக',\n",
              " 'உருட்டி',\n",
              " 'உயிருடனிருக்கிறான்',\n",
              " 'உயரமாக',\n",
              " 'உன்னைப்',\n",
              " 'உன்னைத்',\n",
              " 'உன்னுடைய',\n",
              " 'உனக்குத்',\n",
              " 'உண்டு',\n",
              " 'உணவு',\n",
              " 'உடல்',\n",
              " 'உடனே',\n",
              " 'உங்கள்',\n",
              " 'இவர்களில்',\n",
              " 'இள',\n",
              " 'இல்லை',\n",
              " 'இறந்து',\n",
              " 'இறங்கினேன்',\n",
              " 'இருப்பாய்',\n",
              " 'இருந்தோம்',\n",
              " 'இருந்தார்',\n",
              " 'இருந்ததில்லை',\n",
              " 'இருட்டாக',\n",
              " 'இருங்கள்',\n",
              " 'இருக்கும்',\n",
              " 'இருக்கு',\n",
              " 'இருக்கிறோம்',\n",
              " 'இருக்கிறேன்',\n",
              " 'இருக்கிறீர்களா',\n",
              " 'இருக்கிறாள்',\n",
              " 'இருக்கிறான்',\n",
              " 'இருக்கிறதா',\n",
              " 'இருக்கின்றனவா',\n",
              " 'இருக்கின்றன',\n",
              " 'இருக்கவும்',\n",
              " 'இருக்கவில்லை',\n",
              " 'இருக்க',\n",
              " 'இரயிலில்',\n",
              " 'இயலாது',\n",
              " 'இப்பொழுதுதான்',\n",
              " 'இனிப்பாக',\n",
              " 'இதைக்',\n",
              " 'இதில்',\n",
              " 'இதற்கு',\n",
              " 'இடையில்',\n",
              " 'இங்கே',\n",
              " 'இங்கிருந்து',\n",
              " 'ஆஸ்திரேலியாவில்',\n",
              " 'ஆறு',\n",
              " 'ஆரம்பித்தோம்',\n",
              " 'ஆரம்பித்தாள்',\n",
              " 'ஆரம்பிக்கிறது',\n",
              " 'ஆப்பிள்',\n",
              " 'ஆடினாள்',\n",
              " 'ஆச்சரியமடைகிறேன்',\n",
              " 'அவ்வளவு',\n",
              " 'அவைகள்',\n",
              " 'அவளோடு',\n",
              " 'அவளுக்குச்',\n",
              " 'அவளுக்கு',\n",
              " 'அவர்களுக்கு',\n",
              " 'அவர்',\n",
              " 'அவருக்கு',\n",
              " 'அவரால்',\n",
              " 'அவனை',\n",
              " 'அவனோடு',\n",
              " 'அவனே',\n",
              " 'அவனால்',\n",
              " 'அழுதுகொண்டேயிருக்கிறான்',\n",
              " 'அழகான',\n",
              " 'அழ',\n",
              " 'அல்லது',\n",
              " 'அறையை',\n",
              " 'அறிமுகமானவன்',\n",
              " 'அறிந்திருக்க',\n",
              " 'அருகில்',\n",
              " 'அமைதி',\n",
              " 'அமர்ந்தேன்',\n",
              " 'அமர்ந்தாள்',\n",
              " 'அமருங்கள்',\n",
              " 'அமரவும்',\n",
              " 'அபாயத்தை',\n",
              " 'அன்பானவள்',\n",
              " 'அனைவரும்',\n",
              " 'அதைப்பற்றி',\n",
              " 'அதைப்',\n",
              " 'அது',\n",
              " 'அதிகரித்துக்',\n",
              " 'அணிவித்தான்',\n",
              " 'அணிய',\n",
              " 'அணிந்திருந்தாள்',\n",
              " 'அடைகிறேன்',\n",
              " 'அடித்தாள்',\n",
              " 'அடிக்கப்',\n",
              " 'அங்கே',\n",
              " 'அங்குலமும்',\n",
              " 'cd',\n",
              " '2000',\n",
              " '(அ)',\n",
              " '!']"
            ]
          },
          "metadata": {},
          "execution_count": 28
        }
      ]
    },
    {
      "cell_type": "code",
      "metadata": {
        "colab": {
          "base_uri": "https://localhost:8080/"
        },
        "id": "LqzOLVo24ILA",
        "outputId": "467239a2-01ff-49eb-dd6f-83eb903e81fb"
      },
      "source": [
        "output_text_processor = tf.keras.layers.TextVectorization(\n",
        "    standardize=tf_lower_and_split_punct,\n",
        "    max_tokens=max_vocab_size)\n",
        "\n",
        "output_text_processor.adapt(targ)\n",
        "output_text_processor.get_vocabulary()"
      ],
      "execution_count": null,
      "outputs": [
        {
          "output_type": "execute_result",
          "data": {
            "text/plain": [
              "['',\n",
              " '[UNK]',\n",
              " '[START]',\n",
              " '[END]',\n",
              " '.',\n",
              " 'to',\n",
              " 'of',\n",
              " 'i',\n",
              " 'he',\n",
              " 'the',\n",
              " 'she',\n",
              " '?',\n",
              " 'is',\n",
              " 'you',\n",
              " 'a',\n",
              " 'tom',\n",
              " 'and',\n",
              " 'him',\n",
              " 'it',\n",
              " 'do',\n",
              " 'me',\n",
              " 'go',\n",
              " 'come',\n",
              " \"i'm\",\n",
              " 'when',\n",
              " 'in',\n",
              " 'your',\n",
              " 'my',\n",
              " 'we',\n",
              " 'want',\n",
              " 'up',\n",
              " 'this',\n",
              " 'that',\n",
              " \"it's\",\n",
              " 'has',\n",
              " \"don't\",\n",
              " 'see',\n",
              " 'out',\n",
              " 'know',\n",
              " 'her',\n",
              " 'have',\n",
              " 'with',\n",
              " 'who',\n",
              " 'what',\n",
              " 'walk',\n",
              " 'us',\n",
              " 'got',\n",
              " 'be',\n",
              " 'afraid',\n",
              " ',',\n",
              " '!',\n",
              " 'was',\n",
              " 'think',\n",
              " 'people',\n",
              " 'on',\n",
              " 'not',\n",
              " 'money',\n",
              " 'mary',\n",
              " 'leave',\n",
              " 'kind',\n",
              " 'keep',\n",
              " 'can',\n",
              " 'been',\n",
              " 'are',\n",
              " 'where',\n",
              " 'went',\n",
              " 'told',\n",
              " 'time',\n",
              " 'them',\n",
              " 'sleep',\n",
              " 'run',\n",
              " 'ran',\n",
              " 'now',\n",
              " 'lot',\n",
              " 'listen',\n",
              " \"i'll\",\n",
              " 'how',\n",
              " 'here',\n",
              " 'did',\n",
              " 'by',\n",
              " 'began',\n",
              " 'arrived',\n",
              " 'am',\n",
              " 'all',\n",
              " 'after',\n",
              " 'about',\n",
              " 'word',\n",
              " 'way',\n",
              " 'use',\n",
              " 'three',\n",
              " \"that's\",\n",
              " 'tell',\n",
              " 'sure',\n",
              " 'still',\n",
              " 'speak',\n",
              " 'something',\n",
              " 'smiled',\n",
              " 'sit',\n",
              " 'silent',\n",
              " 'seems',\n",
              " 'school',\n",
              " 'sat',\n",
              " 'right',\n",
              " 'price',\n",
              " 'plan',\n",
              " 'place',\n",
              " 'picked',\n",
              " 'our',\n",
              " 'much',\n",
              " 'may',\n",
              " 'married',\n",
              " 'made',\n",
              " 'live',\n",
              " 'like',\n",
              " 'just',\n",
              " 'if',\n",
              " 'home',\n",
              " 'himself',\n",
              " 'help',\n",
              " \"he's\",\n",
              " 'happy',\n",
              " 'had',\n",
              " 'gave',\n",
              " 'everyone',\n",
              " 'every',\n",
              " 'engaged',\n",
              " 'eggs',\n",
              " 'eat',\n",
              " 'dress',\n",
              " 'dog',\n",
              " 'does',\n",
              " 'charge',\n",
              " \"can't\",\n",
              " 'cake',\n",
              " 'beware',\n",
              " 'ball',\n",
              " 'asked',\n",
              " 'ahead',\n",
              " 'yours',\n",
              " 'younger',\n",
              " \"you're\",\n",
              " \"you'd\",\n",
              " 'year',\n",
              " 'write',\n",
              " 'workers',\n",
              " 'work',\n",
              " 'wore',\n",
              " 'wonder',\n",
              " 'will',\n",
              " 'why',\n",
              " 'which',\n",
              " 'were',\n",
              " 'wedding',\n",
              " \"we'll\",\n",
              " 'wake',\n",
              " 'wait',\n",
              " 'wage',\n",
              " 'vicious',\n",
              " 'very',\n",
              " 'until',\n",
              " 'trying',\n",
              " 'trust',\n",
              " 'train',\n",
              " 'town',\n",
              " 'touch',\n",
              " 'too',\n",
              " 'together',\n",
              " 'tired',\n",
              " 'throw',\n",
              " 'through',\n",
              " 'throat',\n",
              " 'thought',\n",
              " 'those',\n",
              " 'thief',\n",
              " \"they're\",\n",
              " 'they',\n",
              " \"there's\",\n",
              " 'there',\n",
              " 'than',\n",
              " 'teens',\n",
              " 'taxi',\n",
              " 'taller',\n",
              " 'talking',\n",
              " 'talk',\n",
              " 'take',\n",
              " 'swimming',\n",
              " 'sweet',\n",
              " 'swam',\n",
              " 'swallow',\n",
              " 'suppose',\n",
              " 'sunday',\n",
              " 'suggested',\n",
              " 'study',\n",
              " 'stood',\n",
              " 'stones',\n",
              " 'started',\n",
              " 'stars',\n",
              " 'square',\n",
              " 'spread',\n",
              " 'spoke',\n",
              " 'speaks',\n",
              " 'soon',\n",
              " 'sons',\n",
              " 'son',\n",
              " 'some',\n",
              " 'soccer',\n",
              " 'snakes',\n",
              " 'slowly',\n",
              " 'slept',\n",
              " 'sky',\n",
              " 'ski',\n",
              " 'six',\n",
              " 'sister',\n",
              " 'sing',\n",
              " 'since',\n",
              " 'sides',\n",
              " 'sick',\n",
              " 'shut',\n",
              " \"shouldn't\",\n",
              " 'short',\n",
              " 'shoes',\n",
              " 'sharing',\n",
              " 'sea',\n",
              " 'says',\n",
              " 'say',\n",
              " 'runs',\n",
              " 'rope',\n",
              " 'room',\n",
              " 'roll',\n",
              " 'ring',\n",
              " 'ride',\n",
              " 'rich',\n",
              " 'requires',\n",
              " 'ready',\n",
              " 'read',\n",
              " 'rang',\n",
              " 'raise',\n",
              " 'rain',\n",
              " 'quickly',\n",
              " 'put',\n",
              " 'proud',\n",
              " 'prison',\n",
              " 'pocket',\n",
              " 'please',\n",
              " 'play',\n",
              " 'pilot',\n",
              " 'piece',\n",
              " 'picture',\n",
              " 'pickpockets',\n",
              " 'piano',\n",
              " 'phone',\n",
              " 'pens',\n",
              " 'pay',\n",
              " 'passport',\n",
              " 'pair',\n",
              " 'painted',\n",
              " 'others',\n",
              " 'old',\n",
              " 'objected',\n",
              " 'notice',\n",
              " 'none',\n",
              " 'nobody',\n",
              " 'no',\n",
              " 'next',\n",
              " 'news',\n",
              " 'never',\n",
              " 'need',\n",
              " 'mutual',\n",
              " 'most',\n",
              " 'mistake',\n",
              " 'midnight',\n",
              " \"mary's\",\n",
              " 'magazine',\n",
              " 'looks',\n",
              " 'long',\n",
              " 'likes',\n",
              " 'lie',\n",
              " 'let',\n",
              " 'lake',\n",
              " 'knows',\n",
              " 'known',\n",
              " 'john',\n",
              " 'japan',\n",
              " 'inch',\n",
              " \"i've\",\n",
              " 'hurts',\n",
              " 'houses',\n",
              " 'house',\n",
              " 'hit',\n",
              " 'heard',\n",
              " 'hates',\n",
              " 'hand',\n",
              " 'gum',\n",
              " 'going',\n",
              " 'goes',\n",
              " 'glass',\n",
              " 'glanced',\n",
              " 'glad',\n",
              " 'give',\n",
              " 'get',\n",
              " 'future',\n",
              " 'fun',\n",
              " 'full',\n",
              " 'friendship',\n",
              " 'friends',\n",
              " 'friend',\n",
              " 'free',\n",
              " 'four',\n",
              " 'for',\n",
              " 'food',\n",
              " 'fond',\n",
              " 'follow',\n",
              " 'floor',\n",
              " 'finger',\n",
              " 'find',\n",
              " 'fault',\n",
              " 'father',\n",
              " 'fast',\n",
              " 'expect',\n",
              " 'eight',\n",
              " 'easy',\n",
              " 'driven',\n",
              " 'drive',\n",
              " 'drink',\n",
              " 'drank',\n",
              " 'down',\n",
              " 'dogs',\n",
              " \"doesn't\",\n",
              " \"didn't\",\n",
              " 'decided',\n",
              " 'decent',\n",
              " 'death',\n",
              " 'dark',\n",
              " 'danger',\n",
              " 'danced',\n",
              " 'dad',\n",
              " 'crying',\n",
              " 'cry',\n",
              " 'crazy',\n",
              " 'could',\n",
              " 'cop',\n",
              " 'contact',\n",
              " 'close',\n",
              " 'clearly',\n",
              " 'church',\n",
              " 'cds',\n",
              " 'cd',\n",
              " 'car',\n",
              " 'cap',\n",
              " 'came',\n",
              " 'calm',\n",
              " 'business',\n",
              " 'burned',\n",
              " 'brother',\n",
              " 'boy',\n",
              " 'bought',\n",
              " 'bottom',\n",
              " 'books',\n",
              " 'book',\n",
              " 'boiled',\n",
              " 'bit',\n",
              " 'birthday',\n",
              " 'bicycle',\n",
              " 'between',\n",
              " 'belongs',\n",
              " 'bell',\n",
              " 'begin',\n",
              " 'before',\n",
              " 'because',\n",
              " 'became',\n",
              " 'beautiful',\n",
              " 'bears',\n",
              " 'back',\n",
              " 'away',\n",
              " 'aware',\n",
              " 'australia',\n",
              " 'attacked',\n",
              " 'ate',\n",
              " 'apple',\n",
              " 'anywhere',\n",
              " 'anything',\n",
              " 'anyone',\n",
              " 'anymore',\n",
              " 'any',\n",
              " 'answer',\n",
              " 'angry',\n",
              " 'alive',\n",
              " 'ago',\n",
              " 'again',\n",
              " 'afternoon',\n",
              " 'account',\n",
              " 'abroad',\n",
              " 'able',\n",
              " '2',\n",
              " '000']"
            ]
          },
          "metadata": {},
          "execution_count": 29
        }
      ]
    },
    {
      "cell_type": "code",
      "metadata": {
        "colab": {
          "base_uri": "https://localhost:8080/"
        },
        "id": "Mj7FTwVZzYph",
        "outputId": "c3a8fec9-ae94-413e-ff6e-8715b5c5d399"
      },
      "source": [
        "example_tokens = input_text_processor(example_input_batch)\n",
        "example_tokens[:8, :7]"
      ],
      "execution_count": null,
      "outputs": [
        {
          "output_type": "execute_result",
          "data": {
            "text/plain": [
              "<tf.Tensor: shape=(4, 7), dtype=int64, numpy=\n",
              "array([[  2, 147, 249, 423, 217,   3,   0],\n",
              "       [  2,   5, 455, 231,   3,   0,   0],\n",
              "       [  2,   5, 538,  49,  32, 358,   3],\n",
              "       [  2,  13, 238, 131,   6,   3,   0]])>"
            ]
          },
          "metadata": {},
          "execution_count": 30
        }
      ]
    },
    {
      "cell_type": "code",
      "metadata": {
        "colab": {
          "base_uri": "https://localhost:8080/",
          "height": 35
        },
        "id": "4PVXT8BP6IBa",
        "outputId": "61ef0bfa-a9f2-4bd7-bba9-46671aa28633"
      },
      "source": [
        "input_vocab = np.array(input_text_processor.get_vocabulary())\n",
        "tokens = input_vocab[example_tokens[0].numpy()]\n",
        "' '.join(tokens)"
      ],
      "execution_count": null,
      "outputs": [
        {
          "output_type": "execute_result",
          "data": {
            "application/vnd.google.colaboratory.intrinsic+json": {
              "type": "string"
            },
            "text/plain": [
              "'[START] வலது பக்கத்தை கடைப் பிடி [END] '"
            ]
          },
          "metadata": {},
          "execution_count": 31
        }
      ]
    },
    {
      "cell_type": "code",
      "metadata": {
        "colab": {
          "base_uri": "https://localhost:8080/",
          "height": 298
        },
        "id": "B7tsMxMg6WAq",
        "outputId": "fb9b81b8-e57f-4c5e-b330-e0f1c788dede"
      },
      "source": [
        "plt.subplot(1, 2, 1)\n",
        "plt.pcolormesh(example_tokens)\n",
        "plt.title('Token IDs')\n",
        "\n",
        "plt.subplot(1, 2, 2)\n",
        "plt.pcolormesh(example_tokens != 0)\n",
        "plt.title('Mask')"
      ],
      "execution_count": null,
      "outputs": [
        {
          "output_type": "execute_result",
          "data": {
            "text/plain": [
              "Text(0.5, 1.0, 'Mask')"
            ]
          },
          "metadata": {},
          "execution_count": 32
        },
        {
          "output_type": "display_data",
          "data": {
            "image/png": "[encoded data removed]",
            "text/plain": [
              "<Figure size 432x288 with 2 Axes>"
            ]
          },
          "metadata": {
            "needs_background": "light"
          }
        }
      ]
    },
    {
      "cell_type": "code",
      "metadata": {
        "id": "iCt9-_i4zDNz"
      },
      "source": [
        "embedding_dim = 256\n",
        "units = 1024"
      ],
      "execution_count": null,
      "outputs": []
    },
    {
      "cell_type": "code",
      "metadata": {
        "id": "xzZQ7fye5RaZ"
      },
      "source": [
        "class Encoder(tf.keras.layers.Layer):\n",
        "  def __init__(self, input_vocab_size, embedding_dim, enc_units):\n",
        "    super(Encoder, self).__init__()\n",
        "    self.enc_units = enc_units\n",
        "    self.input_vocab_size = input_vocab_size\n",
        "\n",
        "    # The embedding layer converts tokens to vectors\n",
        "    self.embedding = tf.keras.layers.Embedding(self.input_vocab_size,\n",
        "                                               embedding_dim)\n",
        "\n",
        "    # The GRU RNN layer processes those vectors sequentially.\n",
        "    self.gru = tf.keras.layers.GRU(self.enc_units,\n",
        "                                   # Return the sequence and state\n",
        "                                   return_sequences=True,\n",
        "                                   return_state=True,\n",
        "                                   recurrent_initializer='glorot_uniform')\n",
        "\n",
        "  def call(self, tokens, state=None):\n",
        "    shape_checker = ShapeChecker()\n",
        "    shape_checker(tokens, ('batch', 's'))\n",
        "\n",
        "    # 2. The embedding layer looks up the embedding for each token.\n",
        "    vectors = self.embedding(tokens)\n",
        "    shape_checker(vectors, ('batch', 's', 'embed_dim'))\n",
        "\n",
        "    # 3. The GRU processes the embedding sequence.\n",
        "    #    output shape: (batch, s, enc_units)\n",
        "    #    state shape: (batch, enc_units)\n",
        "    output, state = self.gru(vectors, initial_state=state)\n",
        "    shape_checker(output, ('batch', 's', 'enc_units'))\n",
        "    shape_checker(state, ('batch', 'enc_units'))\n",
        "\n",
        "    # 4. Returns the new sequence and its state.\n",
        "    return output, state"
      ],
      "execution_count": null,
      "outputs": []
    },
    {
      "cell_type": "code",
      "metadata": {
        "id": "KqFqKi4fqN9X"
      },
      "source": [
        "#@title Shape checker\n",
        "class ShapeChecker():\n",
        "  def __init__(self):\n",
        "    # Keep a cache of every axis-name seen\n",
        "    self.shapes = {}\n",
        "\n",
        "  def __call__(self, tensor, names, broadcast=False):\n",
        "    if not tf.executing_eagerly():\n",
        "      return\n",
        "\n",
        "    if isinstance(names, str):\n",
        "      names = (names,)\n",
        "\n",
        "    shape = tf.shape(tensor)\n",
        "    rank = tf.rank(tensor)\n",
        "\n",
        "    if rank != len(names):\n",
        "      raise ValueError(f'Rank mismatch:\\n'\n",
        "                       f'    found {rank}: {shape.numpy()}\\n'\n",
        "                       f'    expected {len(names)}: {names}\\n')\n",
        "\n",
        "    for i, name in enumerate(names):\n",
        "      if isinstance(name, int):\n",
        "        old_dim = name\n",
        "      else:\n",
        "        old_dim = self.shapes.get(name, None)\n",
        "      new_dim = shape[i]\n",
        "\n",
        "      if (broadcast and new_dim == 1):\n",
        "        continue\n",
        "\n",
        "      if old_dim is None:\n",
        "        # If the axis name is new, add its length to the cache.\n",
        "        self.shapes[name] = new_dim\n",
        "        continue\n",
        "\n",
        "      if new_dim != old_dim:\n",
        "        raise ValueError(f\"Shape mismatch for dimension: '{name}'\\n\"\n",
        "                         f\"    found: {new_dim}\\n\"\n",
        "                         f\"    expected: {old_dim}\\n\")"
      ],
      "execution_count": null,
      "outputs": []
    },
    {
      "cell_type": "code",
      "metadata": {
        "colab": {
          "base_uri": "https://localhost:8080/"
        },
        "id": "2owMwdbM5Syj",
        "outputId": "0993461f-6c4f-4cf0-98f1-be14cd195d88"
      },
      "source": [
        "# Convert the input text to tokens.\n",
        "example_tokens = input_text_processor(example_input_batch)\n",
        "\n",
        "# Encode the input sequence.\n",
        "encoder = Encoder(input_text_processor.vocabulary_size(),\n",
        "                  embedding_dim, units)\n",
        "example_enc_output, example_enc_state = encoder(example_tokens)\n",
        "\n",
        "print(f'Input batch, shape (batch): {example_input_batch.shape}')\n",
        "print(f'Input batch tokens, shape (batch, s): {example_tokens.shape}')\n",
        "print(f'Encoder output, shape (batch, s, units): {example_enc_output.shape}')\n",
        "print(f'Encoder state, shape (batch, units): {example_enc_state.shape}')"
      ],
      "execution_count": null,
      "outputs": [
        {
          "output_type": "stream",
          "name": "stdout",
          "text": [
            "Input batch, shape (batch): (4,)\n",
            "Input batch tokens, shape (batch, s): (4, 7)\n",
            "Encoder output, shape (batch, s, units): (4, 7, 1024)\n",
            "Encoder state, shape (batch, units): (4, 1024)\n"
          ]
        }
      ]
    },
    {
      "cell_type": "code",
      "metadata": {
        "id": "NKzs27mo5oyS"
      },
      "source": [
        "class BahdanauAttention(tf.keras.layers.Layer):\n",
        "  def __init__(self, units):\n",
        "    super().__init__()\n",
        "    # For Eqn. (4), the  Bahdanau attention\n",
        "    self.W1 = tf.keras.layers.Dense(units, use_bias=False)\n",
        "    self.W2 = tf.keras.layers.Dense(units, use_bias=False)\n",
        "\n",
        "    self.attention = tf.keras.layers.AdditiveAttention()\n",
        "\n",
        "  def call(self, query, value, mask):\n",
        "    shape_checker = ShapeChecker()\n",
        "    shape_checker(query, ('batch', 't', 'query_units'))\n",
        "    shape_checker(value, ('batch', 's', 'value_units'))\n",
        "    shape_checker(mask, ('batch', 's'))\n",
        "\n",
        "    # From Eqn. (4), `W1@ht`.\n",
        "    w1_query = self.W1(query)\n",
        "    shape_checker(w1_query, ('batch', 't', 'attn_units'))\n",
        "\n",
        "    # From Eqn. (4), `W2@hs`.\n",
        "    w2_key = self.W2(value)\n",
        "    shape_checker(w2_key, ('batch', 's', 'attn_units'))\n",
        "\n",
        "    query_mask = tf.ones(tf.shape(query)[:-1], dtype=bool)\n",
        "    value_mask = mask\n",
        "\n",
        "    context_vector, attention_weights = self.attention(\n",
        "        inputs = [w1_query, value, w2_key],\n",
        "        mask=[query_mask, value_mask],\n",
        "        return_attention_scores = True,\n",
        "    )\n",
        "    shape_checker(context_vector, ('batch', 't', 'value_units'))\n",
        "    shape_checker(attention_weights, ('batch', 't', 's'))\n",
        "\n",
        "    return context_vector, attention_weights"
      ],
      "execution_count": null,
      "outputs": []
    },
    {
      "cell_type": "code",
      "metadata": {
        "id": "TEpVBmAM51Fp"
      },
      "source": [
        "attention_layer = BahdanauAttention(units)"
      ],
      "execution_count": null,
      "outputs": []
    },
    {
      "cell_type": "code",
      "metadata": {
        "colab": {
          "base_uri": "https://localhost:8080/"
        },
        "id": "HscYs1TV55dd",
        "outputId": "83d33973-d39f-4e00-f688-0c28e44aae84"
      },
      "source": [
        "(example_tokens != 0).shape"
      ],
      "execution_count": null,
      "outputs": [
        {
          "output_type": "execute_result",
          "data": {
            "text/plain": [
              "TensorShape([4, 7])"
            ]
          },
          "metadata": {},
          "execution_count": 39
        }
      ]
    },
    {
      "cell_type": "code",
      "metadata": {
        "id": "7y7hjPkNMmHh",
        "colab": {
          "base_uri": "https://localhost:8080/"
        },
        "outputId": "aff9f4ef-9c37-4052-bd3a-c919766515d2"
      },
      "source": [
        "# Later, the decoder will generate this attention query\n",
        "example_attention_query = tf.random.normal(shape=[len(example_tokens), 2, 10])\n",
        "\n",
        "# Attend to the encoded tokens\n",
        "\n",
        "context_vector, attention_weights = attention_layer(\n",
        "    query=example_attention_query,\n",
        "    value=example_enc_output,\n",
        "    mask=(example_tokens != 0))\n",
        "\n",
        "print(f'Attention result shape: (batch_size, query_seq_length, units):           {context_vector.shape}')\n",
        "print(f'Attention weights shape: (batch_size, query_seq_length, value_seq_length): {attention_weights.shape}')"
      ],
      "execution_count": null,
      "outputs": [
        {
          "output_type": "stream",
          "name": "stdout",
          "text": [
            "Attention result shape: (batch_size, query_seq_length, units):           (4, 2, 1024)\n",
            "Attention weights shape: (batch_size, query_seq_length, value_seq_length): (4, 2, 7)\n"
          ]
        }
      ]
    },
    {
      "cell_type": "code",
      "metadata": {
        "colab": {
          "base_uri": "https://localhost:8080/",
          "height": 298
        },
        "id": "zObQvMf_6BcX",
        "outputId": "98f7a24b-fc05-43a1-bbc9-9955c935b405"
      },
      "source": [
        "plt.subplot(1, 2, 1)\n",
        "plt.pcolormesh(attention_weights[:, 0, :])\n",
        "plt.title('Attention weights')\n",
        "\n",
        "plt.subplot(1, 2, 2)\n",
        "plt.pcolormesh(example_tokens != 0)\n",
        "plt.title('Mask')"
      ],
      "execution_count": null,
      "outputs": [
        {
          "output_type": "execute_result",
          "data": {
            "text/plain": [
              "Text(0.5, 1.0, 'Mask')"
            ]
          },
          "metadata": {},
          "execution_count": 41
        },
        {
          "output_type": "display_data",
          "data": {
            "image/png": "[encoded data removed]",
            "text/plain": [
              "<Figure size 432x288 with 2 Axes>"
            ]
          },
          "metadata": {
            "needs_background": "light"
          }
        }
      ]
    },
    {
      "cell_type": "code",
      "metadata": {
        "colab": {
          "base_uri": "https://localhost:8080/"
        },
        "id": "KN2jtPnG6F1w",
        "outputId": "40346eee-98d6-48cf-ef05-26ac16e4be03"
      },
      "source": [
        "attention_weights.shape"
      ],
      "execution_count": null,
      "outputs": [
        {
          "output_type": "execute_result",
          "data": {
            "text/plain": [
              "TensorShape([4, 2, 7])"
            ]
          },
          "metadata": {},
          "execution_count": 42
        }
      ]
    },
    {
      "cell_type": "code",
      "metadata": {
        "id": "2hGcP2Jm6Oy3"
      },
      "source": [
        "attention_slice = attention_weights[0, 0].numpy()\n",
        "attention_slice = attention_slice[attention_slice != 0]"
      ],
      "execution_count": null,
      "outputs": []
    },
    {
      "cell_type": "code",
      "metadata": {
        "colab": {
          "base_uri": "https://localhost:8080/",
          "height": 423
        },
        "id": "Yt23oLlH6I9C",
        "outputId": "e796f5cc-4285-4dfb-fe95-c52fbab28ac8"
      },
      "source": [
        "#@title\n",
        "plt.suptitle('Attention weights for one sequence')\n",
        "\n",
        "plt.figure(figsize=(12, 6))\n",
        "a1 = plt.subplot(1, 2, 1)\n",
        "plt.bar(range(len(attention_slice)), attention_slice)\n",
        "# freeze the xlim\n",
        "plt.xlim(plt.xlim())\n",
        "plt.xlabel('Attention weights')\n",
        "\n",
        "a2 = plt.subplot(1, 2, 2)\n",
        "plt.bar(range(len(attention_slice)), attention_slice)\n",
        "plt.xlabel('Attention weights, zoomed')\n",
        "\n",
        "# zoom in\n",
        "top = max(a1.get_ylim())\n",
        "zoom = 0.85*top\n",
        "a2.set_ylim([0.90*top, top])\n",
        "a1.plot(a1.get_xlim(), [zoom, zoom], color='k')"
      ],
      "execution_count": null,
      "outputs": [
        {
          "output_type": "execute_result",
          "data": {
            "text/plain": [
              "[<matplotlib.lines.Line2D at 0x7f94fe21c2d0>]"
            ]
          },
          "metadata": {},
          "execution_count": 44
        },
        {
          "output_type": "display_data",
          "data": {
            "text/plain": [
              "<Figure size 432x288 with 0 Axes>"
            ]
          },
          "metadata": {}
        },
        {
          "output_type": "display_data",
          "data": {
            "image/png": "[encoded data removed]",
            "text/plain": [
              "<Figure size 864x432 with 2 Axes>"
            ]
          },
          "metadata": {
            "needs_background": "light"
          }
        }
      ]
    },
    {
      "cell_type": "code",
      "metadata": {
        "id": "7vokXrrK6R9P"
      },
      "source": [
        "class Decoder(tf.keras.layers.Layer):\n",
        "  def __init__(self, output_vocab_size, embedding_dim, dec_units):\n",
        "    super(Decoder, self).__init__()\n",
        "    self.dec_units = dec_units\n",
        "    self.output_vocab_size = output_vocab_size\n",
        "    self.embedding_dim = embedding_dim\n",
        "\n",
        "    # For Step 1. The embedding layer convets token IDs to vectors\n",
        "    self.embedding = tf.keras.layers.Embedding(self.output_vocab_size,\n",
        "                                               embedding_dim)\n",
        "\n",
        "    # For Step 2. The RNN keeps track of what's been generated so far.\n",
        "    self.gru = tf.keras.layers.GRU(self.dec_units,\n",
        "                                   return_sequences=True,\n",
        "                                   return_state=True,\n",
        "                                   recurrent_initializer='glorot_uniform')\n",
        "\n",
        "    # For step 3. The RNN output will be the query for the attention layer.\n",
        "    self.attention = BahdanauAttention(self.dec_units)\n",
        "\n",
        "    # For step 4. Eqn. (3): converting `ct` to `at`\n",
        "    self.Wc = tf.keras.layers.Dense(dec_units, activation=tf.math.tanh,\n",
        "                                    use_bias=False)\n",
        "\n",
        "    # For step 5. This fully connected layer produces the logits for each\n",
        "    # output token.\n",
        "    self.fc = tf.keras.layers.Dense(self.output_vocab_size)"
      ],
      "execution_count": null,
      "outputs": []
    },
    {
      "cell_type": "code",
      "metadata": {
        "id": "CqYeu7QT6ZgZ"
      },
      "source": [
        "class DecoderInput(typing.NamedTuple):\n",
        "  new_tokens: Any\n",
        "  enc_output: Any\n",
        "  mask: Any\n",
        "\n",
        "class DecoderOutput(typing.NamedTuple):\n",
        "  logits: Any\n",
        "  attention_weights: Any"
      ],
      "execution_count": null,
      "outputs": []
    },
    {
      "cell_type": "code",
      "metadata": {
        "id": "PJOi5btHAPNK"
      },
      "source": [
        "def call(self,\n",
        "         inputs: DecoderInput,\n",
        "         state=None) -> Tuple[DecoderOutput, tf.Tensor]:\n",
        "  shape_checker = ShapeChecker()\n",
        "  shape_checker(inputs.new_tokens, ('batch', 't'))\n",
        "  shape_checker(inputs.enc_output, ('batch', 's', 'enc_units'))\n",
        "  shape_checker(inputs.mask, ('batch', 's'))\n",
        "\n",
        "  if state is not None:\n",
        "    shape_checker(state, ('batch', 'dec_units'))\n",
        "\n",
        "  # Step 1. Lookup the embeddings\n",
        "  vectors = self.embedding(inputs.new_tokens)\n",
        "  shape_checker(vectors, ('batch', 't', 'embedding_dim'))\n",
        "\n",
        "  # Step 2. Process one step with the RNN\n",
        "  rnn_output, state = self.gru(vectors, initial_state=state)\n",
        "\n",
        "  shape_checker(rnn_output, ('batch', 't', 'dec_units'))\n",
        "  shape_checker(state, ('batch', 'dec_units'))\n",
        "\n",
        "  # Step 3. Use the RNN output as the query for the attention over the\n",
        "  # encoder output.\n",
        "  context_vector, attention_weights = self.attention(\n",
        "      query=rnn_output, value=inputs.enc_output, mask=inputs.mask)\n",
        "  shape_checker(context_vector, ('batch', 't', 'dec_units'))\n",
        "  shape_checker(attention_weights, ('batch', 't', 's'))\n",
        "\n",
        "  # Step 4. Eqn. (3): Join the context_vector and rnn_output\n",
        "  #     [ct; ht] shape: (batch t, value_units + query_units)\n",
        "  context_and_rnn_output = tf.concat([context_vector, rnn_output], axis=-1)\n",
        "\n",
        "  # Step 4. Eqn. (3): `at = tanh(Wc@[ct; ht])`\n",
        "  attention_vector = self.Wc(context_and_rnn_output)\n",
        "  shape_checker(attention_vector, ('batch', 't', 'dec_units'))\n",
        "\n",
        "  # Step 5. Generate logit predictions:\n",
        "  logits = self.fc(attention_vector)\n",
        "  shape_checker(logits, ('batch', 't', 'output_vocab_size'))\n",
        "\n",
        "  return DecoderOutput(logits, attention_weights), state"
      ],
      "execution_count": null,
      "outputs": []
    },
    {
      "cell_type": "code",
      "metadata": {
        "id": "eqlokhw_6mpR"
      },
      "source": [
        "Decoder.call = call"
      ],
      "execution_count": null,
      "outputs": []
    },
    {
      "cell_type": "code",
      "metadata": {
        "id": "Wu7SeVBl6hG4"
      },
      "source": [
        "def call(self,\n",
        "         inputs: DecoderInput,\n",
        "         state=None) -> Tuple[DecoderOutput, tf.Tensor]:\n",
        "  shape_checker = ShapeChecker()\n",
        "  shape_checker(inputs.new_tokens, ('batch', 't'))\n",
        "  shape_checker(inputs.enc_output, ('batch', 's', 'enc_units'))\n",
        "  shape_checker(inputs.mask, ('batch', 's'))\n",
        "\n",
        "  if state is not None:\n",
        "    shape_checker(state, ('batch', 'dec_units'))\n",
        "\n",
        "  # Step 1. Lookup the embeddings\n",
        "  vectors = self.embedding(inputs.new_tokens)\n",
        "  shape_checker(vectors, ('batch', 't', 'embedding_dim'))\n",
        "\n",
        "  # Step 2. Process one step with the RNN\n",
        "  rnn_output, state = self.gru(vectors, initial_state=state)\n",
        "\n",
        "  shape_checker(rnn_output, ('batch', 't', 'dec_units'))\n",
        "  shape_checker(state, ('batch', 'dec_units'))\n",
        "\n",
        "  # Step 3. Use the RNN output as the query for the attention over the\n",
        "  # encoder output.\n",
        "  context_vector, attention_weights = self.attention(\n",
        "      query=rnn_output, value=inputs.enc_output, mask=inputs.mask)\n",
        "  shape_checker(context_vector, ('batch', 't', 'dec_units'))\n",
        "  shape_checker(attention_weights, ('batch', 't', 's'))\n",
        "\n",
        "  # Step 4. Eqn. (3): Join the context_vector and rnn_output\n",
        "  #     [ct; ht] shape: (batch t, value_units + query_units)\n",
        "  context_and_rnn_output = tf.concat([context_vector, rnn_output], axis=-1)\n",
        "\n",
        "  # Step 4. Eqn. (3): `at = tanh(Wc@[ct; ht])`\n",
        "  attention_vector = self.Wc(context_and_rnn_output)\n",
        "  shape_checker(attention_vector, ('batch', 't', 'dec_units'))\n",
        "\n",
        "  # Step 5. Generate logit predictions:\n",
        "  logits = self.fc(attention_vector)\n",
        "  shape_checker(logits, ('batch', 't', 'output_vocab_size'))\n",
        "\n",
        "  return DecoderOutput(logits, attention_weights), state"
      ],
      "execution_count": null,
      "outputs": []
    },
    {
      "cell_type": "code",
      "metadata": {
        "id": "1C_Hu7yE6nnT"
      },
      "source": [
        "decoder = Decoder(output_text_processor.vocabulary_size(),\n",
        "                  embedding_dim, units)"
      ],
      "execution_count": null,
      "outputs": []
    },
    {
      "cell_type": "code",
      "metadata": {
        "id": "nqYiqUZx6w8a"
      },
      "source": [
        "# Convert the target sequence, and collect the \"[START]\" tokens\n",
        "example_output_tokens = output_text_processor(example_target_batch)\n",
        "\n",
        "start_index = output_text_processor.get_vocabulary().index('[START]')\n",
        "first_token = tf.constant([[start_index]] * example_output_tokens.shape[0])"
      ],
      "execution_count": null,
      "outputs": []
    },
    {
      "cell_type": "code",
      "metadata": {
        "colab": {
          "base_uri": "https://localhost:8080/"
        },
        "id": "egNkZ0Ye6yVv",
        "outputId": "fbbbc6f6-65fa-49a6-ac32-77c407c9694f"
      },
      "source": [
        "# Run the decoder\n",
        "dec_result, dec_state = decoder(\n",
        "    inputs = DecoderInput(new_tokens=first_token,\n",
        "                          enc_output=example_enc_output,\n",
        "                          mask=(example_tokens != 0)),\n",
        "    state = example_enc_state\n",
        ")\n",
        "\n",
        "print(f'logits shape: (batch_size, t, output_vocab_size) {dec_result.logits.shape}')\n",
        "print(f'state shape: (batch_size, dec_units) {dec_state.shape}')"
      ],
      "execution_count": null,
      "outputs": [
        {
          "output_type": "stream",
          "name": "stdout",
          "text": [
            "logits shape: (batch_size, t, output_vocab_size) (4, 1, 395)\n",
            "state shape: (batch_size, dec_units) (4, 1024)\n"
          ]
        }
      ]
    },
    {
      "cell_type": "code",
      "metadata": {
        "id": "7wr8aU4u63Vb"
      },
      "source": [
        "sampled_token = tf.random.categorical(dec_result.logits[:, 0, :], num_samples=1)"
      ],
      "execution_count": null,
      "outputs": []
    },
    {
      "cell_type": "code",
      "metadata": {
        "colab": {
          "base_uri": "https://localhost:8080/"
        },
        "id": "CobEB7hD67U9",
        "outputId": "1b54c6d8-5c22-41cb-a6e6-fb6028286814"
      },
      "source": [
        "vocab = np.array(output_text_processor.get_vocabulary())\n",
        "first_word = vocab[sampled_token.numpy()]\n",
        "first_word[:5]"
      ],
      "execution_count": null,
      "outputs": [
        {
          "output_type": "execute_result",
          "data": {
            "text/plain": [
              "array([['happy'],\n",
              "       ['raise'],\n",
              "       ['food'],\n",
              "       ['every']], dtype='<U11')"
            ]
          },
          "metadata": {},
          "execution_count": 54
        }
      ]
    },
    {
      "cell_type": "code",
      "metadata": {
        "id": "s-P8pL6A7FBu"
      },
      "source": [
        "dec_result, dec_state = decoder(\n",
        "    DecoderInput(sampled_token,\n",
        "                 example_enc_output,\n",
        "                 mask=(example_tokens != 0)),\n",
        "    state=dec_state)"
      ],
      "execution_count": null,
      "outputs": []
    },
    {
      "cell_type": "code",
      "metadata": {
        "colab": {
          "base_uri": "https://localhost:8080/"
        },
        "id": "EqZoOe-D7GFR",
        "outputId": "51492e8c-cbd3-481c-d66f-9dea32268788"
      },
      "source": [
        "sampled_token = tf.random.categorical(dec_result.logits[:, 0, :], num_samples=1)\n",
        "first_word = vocab[sampled_token.numpy()]\n",
        "first_word[:5]"
      ],
      "execution_count": null,
      "outputs": [
        {
          "output_type": "execute_result",
          "data": {
            "text/plain": [
              "array([['able'],\n",
              "       ['those'],\n",
              "       ['write'],\n",
              "       ['before']], dtype='<U11')"
            ]
          },
          "metadata": {},
          "execution_count": 56
        }
      ]
    },
    {
      "cell_type": "code",
      "metadata": {
        "id": "Q-y9y4ry7JG0"
      },
      "source": [
        "class MaskedLoss(tf.keras.losses.Loss):\n",
        "  def __init__(self):\n",
        "    self.name = 'masked_loss'\n",
        "    self.loss = tf.keras.losses.SparseCategoricalCrossentropy(\n",
        "        from_logits=True, reduction='none')\n",
        "\n",
        "  def __call__(self, y_true, y_pred):\n",
        "    shape_checker = ShapeChecker()\n",
        "    shape_checker(y_true, ('batch', 't'))\n",
        "    shape_checker(y_pred, ('batch', 't', 'logits'))\n",
        "\n",
        "    # Calculate the loss for each item in the batch.\n",
        "    loss = self.loss(y_true, y_pred)\n",
        "    shape_checker(loss, ('batch', 't'))\n",
        "\n",
        "    # Mask off the losses on padding.\n",
        "    mask = tf.cast(y_true != 0, tf.float32)\n",
        "    shape_checker(mask, ('batch', 't'))\n",
        "    loss *= mask\n",
        "\n",
        "    # Return the total.\n",
        "    return tf.reduce_sum(loss)"
      ],
      "execution_count": null,
      "outputs": []
    },
    {
      "cell_type": "code",
      "metadata": {
        "id": "NfmP08Ha7NF3"
      },
      "source": [
        "class TrainTranslator(tf.keras.Model):\n",
        "  def __init__(self, embedding_dim, units,\n",
        "               input_text_processor,\n",
        "               output_text_processor, \n",
        "               use_tf_function=True):\n",
        "    super().__init__()\n",
        "    # Build the encoder and decoder\n",
        "    encoder = Encoder(input_text_processor.vocabulary_size(),\n",
        "                      embedding_dim, units)\n",
        "    decoder = Decoder(output_text_processor.vocabulary_size(),\n",
        "                      embedding_dim, units)\n",
        "\n",
        "    self.encoder = encoder\n",
        "    self.decoder = decoder\n",
        "    self.input_text_processor = input_text_processor\n",
        "    self.output_text_processor = output_text_processor\n",
        "    self.use_tf_function = use_tf_function\n",
        "    self.shape_checker = ShapeChecker()\n",
        "\n",
        "  def train_step(self, inputs):\n",
        "    self.shape_checker = ShapeChecker()\n",
        "    if self.use_tf_function:\n",
        "      return self._tf_train_step(inputs)\n",
        "    else:\n",
        "      return self._train_step(inputs)"
      ],
      "execution_count": null,
      "outputs": []
    },
    {
      "cell_type": "code",
      "metadata": {
        "id": "H7BhGa7U7TAw"
      },
      "source": [
        "def _preprocess(self, input_text, target_text):\n",
        "  self.shape_checker(input_text, ('batch',))\n",
        "  self.shape_checker(target_text, ('batch',))\n",
        "\n",
        "  # Convert the text to token IDs\n",
        "  input_tokens = self.input_text_processor(input_text)\n",
        "  target_tokens = self.output_text_processor(target_text)\n",
        "  self.shape_checker(input_tokens, ('batch', 's'))\n",
        "  self.shape_checker(target_tokens, ('batch', 't'))\n",
        "\n",
        "  # Convert IDs to masks.\n",
        "  input_mask = input_tokens != 0\n",
        "  self.shape_checker(input_mask, ('batch', 's'))\n",
        "\n",
        "  target_mask = target_tokens != 0\n",
        "  self.shape_checker(target_mask, ('batch', 't'))\n",
        "\n",
        "  return input_tokens, input_mask, target_tokens, target_mask"
      ],
      "execution_count": null,
      "outputs": []
    },
    {
      "cell_type": "code",
      "metadata": {
        "id": "JS1lkBPz7UcK"
      },
      "source": [
        "TrainTranslator._preprocess = _preprocess"
      ],
      "execution_count": null,
      "outputs": []
    },
    {
      "cell_type": "code",
      "metadata": {
        "id": "Qs_gsISsYPpY"
      },
      "source": [
        "def _train_step(self, inputs):\n",
        "  input_text, target_text = inputs  \n",
        "\n",
        "  (input_tokens, input_mask,\n",
        "   target_tokens, target_mask) = self._preprocess(input_text, target_text)\n",
        "\n",
        "  max_target_length = tf.shape(target_tokens)[1]\n",
        "\n",
        "  with tf.GradientTape() as tape:\n",
        "    # Encode the input\n",
        "    enc_output, enc_state = self.encoder(input_tokens)\n",
        "    self.shape_checker(enc_output, ('batch', 's', 'enc_units'))\n",
        "    self.shape_checker(enc_state, ('batch', 'enc_units'))\n",
        "\n",
        "    # Initialize the decoder's state to the encoder's final state.\n",
        "    # This only works if the encoder and decoder have the same number of\n",
        "    # units.\n",
        "    dec_state = enc_state\n",
        "    loss = tf.constant(0.0)\n",
        "\n",
        "    for t in tf.range(max_target_length-1):\n",
        "      # Pass in two tokens from the target sequence:\n",
        "      # 1. The current input to the decoder.\n",
        "      # 2. The target for the decoder's next prediction.\n",
        "      new_tokens = target_tokens[:, t:t+2]\n",
        "      step_loss, dec_state = self._loop_step(new_tokens, input_mask,\n",
        "                                             enc_output, dec_state)\n",
        "      loss = loss + step_loss\n",
        "\n",
        "    # Average the loss over all non padding tokens.\n",
        "    average_loss = loss / tf.reduce_sum(tf.cast(target_mask, tf.float32))\n",
        "\n",
        "  # Apply an optimization step\n",
        "  variables = self.trainable_variables \n",
        "  gradients = tape.gradient(average_loss, variables)\n",
        "  self.optimizer.apply_gradients(zip(gradients, variables))\n",
        "\n",
        "  # Return a dict mapping metric names to current value\n",
        "  return {'batch_loss': average_loss}"
      ],
      "execution_count": null,
      "outputs": []
    },
    {
      "cell_type": "code",
      "metadata": {
        "id": "jia1_MHZ7W6T"
      },
      "source": [
        "TrainTranslator._train_step = _train_step"
      ],
      "execution_count": null,
      "outputs": []
    },
    {
      "cell_type": "code",
      "metadata": {
        "id": "YCt8zQw87eZW"
      },
      "source": [
        "def _loop_step(self, new_tokens, input_mask, enc_output, dec_state):\n",
        "  input_token, target_token = new_tokens[:, 0:1], new_tokens[:, 1:2]\n",
        "\n",
        "  # Run the decoder one step.\n",
        "  decoder_input = DecoderInput(new_tokens=input_token,\n",
        "                               enc_output=enc_output,\n",
        "                               mask=input_mask)\n",
        "\n",
        "  dec_result, dec_state = self.decoder(decoder_input, state=dec_state)\n",
        "  self.shape_checker(dec_result.logits, ('batch', 't1', 'logits'))\n",
        "  self.shape_checker(dec_result.attention_weights, ('batch', 't1', 's'))\n",
        "  self.shape_checker(dec_state, ('batch', 'dec_units'))\n",
        "\n",
        "  # `self.loss` returns the total for non-padded tokens\n",
        "  y = target_token\n",
        "  y_pred = dec_result.logits\n",
        "  step_loss = self.loss(y, y_pred)\n",
        "\n",
        "  return step_loss, dec_state"
      ],
      "execution_count": null,
      "outputs": []
    },
    {
      "cell_type": "code",
      "metadata": {
        "id": "0w8yiD4b7f08"
      },
      "source": [
        "TrainTranslator._loop_step = _loop_step"
      ],
      "execution_count": null,
      "outputs": []
    },
    {
      "cell_type": "code",
      "metadata": {
        "id": "v089ufYD7iI2"
      },
      "source": [
        "translator = TrainTranslator(\n",
        "    embedding_dim, units,\n",
        "    input_text_processor=input_text_processor,\n",
        "    output_text_processor=output_text_processor,\n",
        "    use_tf_function=False)\n",
        "\n",
        "# Configure the loss and optimizer\n",
        "translator.compile(\n",
        "    optimizer=tf.optimizers.Adam(),\n",
        "    loss=MaskedLoss(),\n",
        ")"
      ],
      "execution_count": null,
      "outputs": []
    },
    {
      "cell_type": "code",
      "metadata": {
        "colab": {
          "base_uri": "https://localhost:8080/"
        },
        "id": "NjORx5_f7lBm",
        "outputId": "3ef85598-976c-499e-ddc7-ae86d5ff3ce8"
      },
      "source": [
        "np.log(output_text_processor.vocabulary_size())"
      ],
      "execution_count": null,
      "outputs": [
        {
          "output_type": "execute_result",
          "data": {
            "text/plain": [
              "5.978885764901122"
            ]
          },
          "metadata": {},
          "execution_count": 66
        }
      ]
    },
    {
      "cell_type": "code",
      "metadata": {
        "colab": {
          "base_uri": "https://localhost:8080/"
        },
        "id": "BIcz7JPS7okb",
        "outputId": "14571c4b-f146-458d-d69c-956e77b04248"
      },
      "source": [
        "%%time\n",
        "for n in range(10):\n",
        "  print(translator.train_step([example_input_batch, example_target_batch]))\n",
        "print()"
      ],
      "execution_count": null,
      "outputs": [
        {
          "output_type": "stream",
          "name": "stdout",
          "text": [
            "{'batch_loss': <tf.Tensor: shape=(), dtype=float32, numpy=5.275491>}\n",
            "{'batch_loss': <tf.Tensor: shape=(), dtype=float32, numpy=5.153294>}\n",
            "{'batch_loss': <tf.Tensor: shape=(), dtype=float32, numpy=4.9619107>}\n",
            "{'batch_loss': <tf.Tensor: shape=(), dtype=float32, numpy=4.548082>}\n",
            "{'batch_loss': <tf.Tensor: shape=(), dtype=float32, numpy=3.556677>}\n",
            "{'batch_loss': <tf.Tensor: shape=(), dtype=float32, numpy=3.1249561>}\n",
            "{'batch_loss': <tf.Tensor: shape=(), dtype=float32, numpy=2.3948252>}\n",
            "{'batch_loss': <tf.Tensor: shape=(), dtype=float32, numpy=2.2495954>}\n",
            "{'batch_loss': <tf.Tensor: shape=(), dtype=float32, numpy=2.0899487>}\n",
            "{'batch_loss': <tf.Tensor: shape=(), dtype=float32, numpy=1.8090272>}\n",
            "\n",
            "CPU times: user 20.7 s, sys: 1.19 s, total: 21.9 s\n",
            "Wall time: 15.5 s\n"
          ]
        }
      ]
    },
    {
      "cell_type": "code",
      "metadata": {
        "id": "J8TpV_lr70ma"
      },
      "source": [
        "@tf.function(input_signature=[[tf.TensorSpec(dtype=tf.string, shape=[None]),\n",
        "                               tf.TensorSpec(dtype=tf.string, shape=[None])]])\n",
        "def _tf_train_step(self, inputs):\n",
        "  return self._train_step(inputs)"
      ],
      "execution_count": null,
      "outputs": []
    },
    {
      "cell_type": "code",
      "metadata": {
        "id": "8FUmul-D72kT"
      },
      "source": [
        "TrainTranslator._tf_train_step = _tf_train_step"
      ],
      "execution_count": null,
      "outputs": []
    },
    {
      "cell_type": "code",
      "metadata": {
        "id": "aAf1jPom7922"
      },
      "source": [
        "translator.use_tf_function = True"
      ],
      "execution_count": null,
      "outputs": []
    },
    {
      "cell_type": "code",
      "metadata": {
        "colab": {
          "base_uri": "https://localhost:8080/"
        },
        "id": "fTiMHWB18AIs",
        "outputId": "2e61610f-bb2a-4ece-d48c-404772dbe736"
      },
      "source": [
        "translator.train_step([example_input_batch, example_target_batch])"
      ],
      "execution_count": null,
      "outputs": [
        {
          "output_type": "execute_result",
          "data": {
            "text/plain": [
              "{'batch_loss': <tf.Tensor: shape=(), dtype=float32, numpy=1.5126112>}"
            ]
          },
          "metadata": {},
          "execution_count": 71
        }
      ]
    },
    {
      "cell_type": "code",
      "metadata": {
        "colab": {
          "base_uri": "https://localhost:8080/"
        },
        "id": "iZF_6-YS8COh",
        "outputId": "0389126f-0e78-4102-95ce-8dce3e2cbde4"
      },
      "source": [
        "%%time\n",
        "for n in range(10):\n",
        "  print(translator.train_step([example_input_batch, example_target_batch]))\n",
        "print()"
      ],
      "execution_count": null,
      "outputs": [
        {
          "output_type": "stream",
          "name": "stdout",
          "text": [
            "{'batch_loss': <tf.Tensor: shape=(), dtype=float32, numpy=1.3978682>}\n",
            "{'batch_loss': <tf.Tensor: shape=(), dtype=float32, numpy=1.3135214>}\n",
            "{'batch_loss': <tf.Tensor: shape=(), dtype=float32, numpy=1.0082126>}\n",
            "{'batch_loss': <tf.Tensor: shape=(), dtype=float32, numpy=1.0145004>}\n",
            "{'batch_loss': <tf.Tensor: shape=(), dtype=float32, numpy=0.7706203>}\n",
            "{'batch_loss': <tf.Tensor: shape=(), dtype=float32, numpy=0.6879458>}\n",
            "{'batch_loss': <tf.Tensor: shape=(), dtype=float32, numpy=0.63238394>}\n",
            "{'batch_loss': <tf.Tensor: shape=(), dtype=float32, numpy=0.4557523>}\n",
            "{'batch_loss': <tf.Tensor: shape=(), dtype=float32, numpy=0.44537887>}\n",
            "{'batch_loss': <tf.Tensor: shape=(), dtype=float32, numpy=0.35838348>}\n",
            "\n",
            "CPU times: user 15.7 s, sys: 504 ms, total: 16.2 s\n",
            "Wall time: 8.7 s\n"
          ]
        }
      ]
    },
    {
      "cell_type": "code",
      "metadata": {
        "colab": {
          "base_uri": "https://localhost:8080/",
          "height": 300
        },
        "id": "AHTwxlPT8G_4",
        "outputId": "106d74f0-8a2e-4a87-e82b-46f16fe72bfe"
      },
      "source": [
        "losses = []\n",
        "for n in range(100):\n",
        "  print('.', end='')\n",
        "  logs = translator.train_step([example_input_batch, example_target_batch])\n",
        "  losses.append(logs['batch_loss'].numpy())\n",
        "\n",
        "print()\n",
        "plt.plot(losses)"
      ],
      "execution_count": null,
      "outputs": [
        {
          "output_type": "stream",
          "name": "stdout",
          "text": [
            "....................................................................................................\n"
          ]
        },
        {
          "output_type": "execute_result",
          "data": {
            "text/plain": [
              "[<matplotlib.lines.Line2D at 0x7f947e6af510>]"
            ]
          },
          "metadata": {},
          "execution_count": 73
        },
        {
          "output_type": "display_data",
          "data": {
            "image/png": "[encoded data removed]",
            "text/plain": [
              "<Figure size 432x288 with 1 Axes>"
            ]
          },
          "metadata": {
            "needs_background": "light"
          }
        }
      ]
    },
    {
      "cell_type": "code",
      "metadata": {
        "id": "FzQ1G4fW8J-A"
      },
      "source": [
        ""
      ],
      "execution_count": null,
      "outputs": []
    },
    {
      "cell_type": "code",
      "metadata": {
        "id": "Nl9NUI558NHb"
      },
      "source": [
        "train_translator = TrainTranslator(\n",
        "    embedding_dim, units,\n",
        "    input_text_processor=input_text_processor,\n",
        "    output_text_processor=output_text_processor)\n",
        "\n",
        "# Configure the loss and optimizer\n",
        "train_translator.compile(\n",
        "    optimizer=tf.optimizers.Adam(),\n",
        "    loss=MaskedLoss(),\n",
        ")"
      ],
      "execution_count": null,
      "outputs": []
    },
    {
      "cell_type": "code",
      "metadata": {
        "id": "60PgB3iG8O3r"
      },
      "source": [
        "class BatchLogs(tf.keras.callbacks.Callback):\n",
        "  def __init__(self, key):\n",
        "    self.key = key\n",
        "    self.logs = []\n",
        "\n",
        "  def on_train_batch_end(self, n, logs):\n",
        "    self.logs.append(logs[self.key])\n",
        "\n",
        "batch_loss = BatchLogs('batch_loss')"
      ],
      "execution_count": null,
      "outputs": []
    },
    {
      "cell_type": "code",
      "metadata": {
        "colab": {
          "base_uri": "https://localhost:8080/"
        },
        "id": "Z_UVkJnx8R6C",
        "outputId": "900bc10f-fe6f-4272-aac6-21aea1d3ec15"
      },
      "source": [
        "train_translator.fit(dataset, epochs=3,\n",
        "                     callbacks=[batch_loss])"
      ],
      "execution_count": null,
      "outputs": [
        {
          "output_type": "stream",
          "name": "stdout",
          "text": [
            "Epoch 1/3\n",
            "254/254 [==============================] - 258s 987ms/step - batch_loss: 2.9197\n",
            "Epoch 2/3\n",
            "254/254 [==============================] - 248s 977ms/step - batch_loss: 0.9084\n",
            "Epoch 3/3\n",
            "254/254 [==============================] - 283s 1s/step - batch_loss: 0.1456\n"
          ]
        },
        {
          "output_type": "execute_result",
          "data": {
            "text/plain": [
              "<keras.callbacks.History at 0x7f94fe8aa450>"
            ]
          },
          "metadata": {},
          "execution_count": 76
        }
      ]
    },
    {
      "cell_type": "code",
      "metadata": {
        "colab": {
          "base_uri": "https://localhost:8080/",
          "height": 300
        },
        "id": "nRaR56388VA_",
        "outputId": "5395014a-3caf-4679-9f51-51cff14bbb47"
      },
      "source": [
        "plt.plot(batch_loss.logs)\n",
        "plt.ylim([0, 7])\n",
        "plt.xlabel('Batch #')\n",
        "plt.ylabel('CE/token')"
      ],
      "execution_count": null,
      "outputs": [
        {
          "output_type": "execute_result",
          "data": {
            "text/plain": [
              "Text(0, 0.5, 'CE/token')"
            ]
          },
          "metadata": {},
          "execution_count": 77
        },
        {
          "output_type": "display_data",
          "data": {
            "image/png": "[encoded data removed]",
            "text/plain": [
              "<Figure size 432x288 with 1 Axes>"
            ]
          },
          "metadata": {
            "needs_background": "light"
          }
        }
      ]
    },
    {
      "cell_type": "code",
      "metadata": {
        "id": "cD1Q_S2Z8ad5"
      },
      "source": [
        "class Translator(tf.Module):\n",
        "\n",
        "  def __init__(self, encoder, decoder, input_text_processor,\n",
        "               output_text_processor):\n",
        "    self.encoder = encoder\n",
        "    self.decoder = decoder\n",
        "    self.input_text_processor = input_text_processor\n",
        "    self.output_text_processor = output_text_processor\n",
        "\n",
        "    self.output_token_string_from_index = (\n",
        "        tf.keras.layers.StringLookup(\n",
        "            vocabulary=output_text_processor.get_vocabulary(),\n",
        "            mask_token='',\n",
        "            invert=True))\n",
        "\n",
        "    # The output should never generate padding, unknown, or start.\n",
        "    index_from_string = tf.keras.layers.StringLookup(\n",
        "        vocabulary=output_text_processor.get_vocabulary(), mask_token='')\n",
        "    token_mask_ids = index_from_string(['', '[UNK]', '[START]']).numpy()\n",
        "\n",
        "    token_mask = np.zeros([index_from_string.vocabulary_size()], dtype=np.bool)\n",
        "    token_mask[np.array(token_mask_ids)] = True\n",
        "    self.token_mask = token_mask\n",
        "\n",
        "    self.start_token = index_from_string(tf.constant('[START]'))\n",
        "    self.end_token = index_from_string(tf.constant('[END]'))"
      ],
      "execution_count": null,
      "outputs": []
    },
    {
      "cell_type": "code",
      "metadata": {
        "id": "U-GpLHYN8eo8"
      },
      "source": [
        "translator = Translator(\n",
        "    encoder=train_translator.encoder,\n",
        "    decoder=train_translator.decoder,\n",
        "    input_text_processor=input_text_processor,\n",
        "    output_text_processor=output_text_processor,\n",
        ")"
      ],
      "execution_count": null,
      "outputs": []
    },
    {
      "cell_type": "code",
      "metadata": {
        "id": "lPvnyKaT8g13"
      },
      "source": [
        "def tokens_to_text(self, result_tokens):\n",
        "  shape_checker = ShapeChecker()\n",
        "  shape_checker(result_tokens, ('batch', 't'))\n",
        "  result_text_tokens = self.output_token_string_from_index(result_tokens)\n",
        "  shape_checker(result_text_tokens, ('batch', 't'))\n",
        "\n",
        "  result_text = tf.strings.reduce_join(result_text_tokens,\n",
        "                                       axis=1, separator=' ')\n",
        "  shape_checker(result_text, ('batch'))\n",
        "\n",
        "  result_text = tf.strings.strip(result_text)\n",
        "  shape_checker(result_text, ('batch',))\n",
        "  return result_text"
      ],
      "execution_count": null,
      "outputs": []
    },
    {
      "cell_type": "code",
      "metadata": {
        "id": "Sj8U8zG68j-v"
      },
      "source": [
        "Translator.tokens_to_text = tokens_to_text"
      ],
      "execution_count": null,
      "outputs": []
    },
    {
      "cell_type": "code",
      "metadata": {
        "colab": {
          "base_uri": "https://localhost:8080/"
        },
        "id": "BC8wn9nK9XKr",
        "outputId": "d5821d5c-e6d8-47e7-9534-7b6076eb8808"
      },
      "source": [
        "example_output_tokens = tf.random.uniform(\n",
        "    shape=[5, 2], minval=0, dtype=tf.int64,\n",
        "    maxval=output_text_processor.vocabulary_size())\n",
        "translator.tokens_to_text(example_output_tokens).numpy()"
      ],
      "execution_count": null,
      "outputs": [
        {
          "output_type": "execute_result",
          "data": {
            "text/plain": [
              "array([b'cake eggs', b'want crazy', b'too sister', b\"slowly i'll\",\n",
              "       b'friend ahead'], dtype=object)"
            ]
          },
          "metadata": {},
          "execution_count": 82
        }
      ]
    },
    {
      "cell_type": "code",
      "metadata": {
        "id": "Xs1eelv59aIG"
      },
      "source": [
        "def sample(self, logits, temperature):\n",
        "  shape_checker = ShapeChecker()\n",
        "  # 't' is usually 1 here.\n",
        "  shape_checker(logits, ('batch', 't', 'vocab'))\n",
        "  shape_checker(self.token_mask, ('vocab',))\n",
        "\n",
        "  token_mask = self.token_mask[tf.newaxis, tf.newaxis, :]\n",
        "  shape_checker(token_mask, ('batch', 't', 'vocab'), broadcast=True)\n",
        "\n",
        "  # Set the logits for all masked tokens to -inf, so they are never chosen.\n",
        "  logits = tf.where(self.token_mask, -np.inf, logits)\n",
        "\n",
        "  if temperature == 0.0:\n",
        "    new_tokens = tf.argmax(logits, axis=-1)\n",
        "  else: \n",
        "    logits = tf.squeeze(logits, axis=1)\n",
        "    new_tokens = tf.random.categorical(logits/temperature,\n",
        "                                        num_samples=1)\n",
        "  \n",
        "  shape_checker(new_tokens, ('batch', 't'))\n",
        "\n",
        "  return new_tokens"
      ],
      "execution_count": null,
      "outputs": []
    },
    {
      "cell_type": "code",
      "metadata": {
        "id": "Kgv3Iy629eVm"
      },
      "source": [
        "Translator.sample = sample"
      ],
      "execution_count": null,
      "outputs": []
    },
    {
      "cell_type": "code",
      "metadata": {
        "colab": {
          "base_uri": "https://localhost:8080/"
        },
        "id": "X5qA6-eE9hmV",
        "outputId": "30640f5e-c342-4c72-a437-268c2e41f353"
      },
      "source": [
        "example_logits = tf.random.normal([5, 1, output_text_processor.vocabulary_size()])\n",
        "example_output_tokens = translator.sample(example_logits, temperature=1.0)\n",
        "example_output_tokens"
      ],
      "execution_count": null,
      "outputs": [
        {
          "output_type": "execute_result",
          "data": {
            "text/plain": [
              "<tf.Tensor: shape=(5, 1), dtype=int64, numpy=\n",
              "array([[175],\n",
              "       [343],\n",
              "       [357],\n",
              "       [212],\n",
              "       [324]])>"
            ]
          },
          "metadata": {},
          "execution_count": 85
        }
      ]
    },
    {
      "cell_type": "code",
      "metadata": {
        "id": "ZmOvVrZmwAxg"
      },
      "source": [
        "def translate_unrolled(self,\n",
        "                       input_text, *,\n",
        "                       max_length=50,\n",
        "                       return_attention=True,\n",
        "                       temperature=1.0):\n",
        "  batch_size = tf.shape(input_text)[0]\n",
        "  input_tokens = self.input_text_processor(input_text)\n",
        "  enc_output, enc_state = self.encoder(input_tokens)\n",
        "\n",
        "  dec_state = enc_state\n",
        "  new_tokens = tf.fill([batch_size, 1], self.start_token)\n",
        "\n",
        "  result_tokens = []\n",
        "  attention = []\n",
        "  done = tf.zeros([batch_size, 1], dtype=tf.bool)\n",
        "\n",
        "  for _ in range(max_length):\n",
        "    dec_input = DecoderInput(new_tokens=new_tokens,\n",
        "                             enc_output=enc_output,\n",
        "                             mask=(input_tokens!=0))\n",
        "    \n",
        "    dec_result, dec_state = self.decoder(dec_input, state=dec_state)\n",
        "\n",
        "    attention.append(dec_result.attention_weights)\n",
        "\n",
        "    new_tokens = self.sample(dec_result.logits, temperature)\n",
        "\n",
        "    # If a sequence produces an `end_token`, set it `done`\n",
        "    done = done | (new_tokens == self.end_token)\n",
        "    # Once a sequence is done it only produces 0-padding.\n",
        "    new_tokens = tf.where(done, tf.constant(0, dtype=tf.int64), new_tokens)\n",
        "\n",
        "    # Collect the generated tokens\n",
        "    result_tokens.append(new_tokens)\n",
        "\n",
        "    if tf.executing_eagerly() and tf.reduce_all(done):\n",
        "      break\n",
        "\n",
        "  # Convert the list of generates token ids to a list of strings.\n",
        "  result_tokens = tf.concat(result_tokens, axis=-1)\n",
        "  result_text = self.tokens_to_text(result_tokens)\n",
        "\n",
        "  if return_attention:\n",
        "    attention_stack = tf.concat(attention, axis=1)\n",
        "    return {'text': result_text, 'attention': attention_stack}\n",
        "  else:\n",
        "    return {'text': result_text}\n"
      ],
      "execution_count": null,
      "outputs": []
    },
    {
      "cell_type": "code",
      "metadata": {
        "id": "m0F7-XzT95ua"
      },
      "source": [
        "Translator.translate = translate_unrolled"
      ],
      "execution_count": null,
      "outputs": []
    },
    {
      "cell_type": "code",
      "metadata": {
        "colab": {
          "base_uri": "https://localhost:8080/"
        },
        "id": "A_pFk89H9-8j",
        "outputId": "785a60c9-348d-4bf8-dd55-24468c7f81d4"
      },
      "source": [
        "%%time\n",
        "input_text = tf.constant([\n",
        "    'நான் தூங்கினேன்.', # \"I slept.\"\n",
        "    'அவள் சிரித்தாள்',  #She smiled\n",
        "    'போய் தூங்கு', #Go to sleep \n",
        "    'முட்டைகளின் விலை அதிகரித்துக் கொண்டிருக்கிறது'\n",
        "\n",
        "])\n",
        "\n",
        "result = translator.translate(\n",
        "    input_text = input_text)\n",
        "\n",
        "print(result['text'][0].numpy().decode())\n",
        "print(result['text'][1].numpy().decode())\n",
        "print(result['text'][2].numpy().decode())\n",
        "print(result['text'][3].numpy().decode())\n",
        "print()"
      ],
      "execution_count": null,
      "outputs": [
        {
          "output_type": "stream",
          "name": "stdout",
          "text": [
            "i slept .\n",
            "she smiled .\n",
            "go to sleep .\n",
            "the price of eggs is going up .\n",
            "\n",
            "CPU times: user 601 ms, sys: 10.3 ms, total: 611 ms\n",
            "Wall time: 535 ms\n"
          ]
        }
      ]
    },
    {
      "cell_type": "code",
      "metadata": {
        "id": "E3YiTZP4oAi0"
      },
      "source": [
        "@tf.function(input_signature=[tf.TensorSpec(dtype=tf.string, shape=[None])])\n",
        "def tf_translate(self, input_text):\n",
        "  return self.translate(input_text)\n",
        "\n",
        "Translator.tf_translate = tf_translate"
      ],
      "execution_count": null,
      "outputs": []
    },
    {
      "cell_type": "code",
      "metadata": {
        "colab": {
          "base_uri": "https://localhost:8080/"
        },
        "id": "uBdpsmXzoFDE",
        "outputId": "54ed563f-4518-4007-c538-7d3c6b244d27"
      },
      "source": [
        "%%time\n",
        "result = translator.tf_translate(\n",
        "    input_text = input_text)"
      ],
      "execution_count": null,
      "outputs": [
        {
          "output_type": "stream",
          "name": "stdout",
          "text": [
            "CPU times: user 43 s, sys: 812 ms, total: 43.8 s\n",
            "Wall time: 43.2 s\n"
          ]
        }
      ]
    },
    {
      "cell_type": "code",
      "metadata": {
        "colab": {
          "base_uri": "https://localhost:8080/"
        },
        "id": "GbyetNPeoJQr",
        "outputId": "5a0223c7-6357-4d36-e7ff-192ad6143ebd"
      },
      "source": [
        "%%time\n",
        "result = translator.tf_translate(\n",
        "    input_text = input_text)\n",
        "\n",
        "print(result['text'][0].numpy().decode())\n",
        "print(result['text'][1].numpy().decode())\n",
        "print()"
      ],
      "execution_count": null,
      "outputs": [
        {
          "output_type": "stream",
          "name": "stdout",
          "text": [
            "i slept .\n",
            "she smiled .\n",
            "\n",
            "CPU times: user 1.77 s, sys: 100 ms, total: 1.87 s\n",
            "Wall time: 1.17 s\n"
          ]
        }
      ]
    },
    {
      "cell_type": "code",
      "metadata": {
        "colab": {
          "base_uri": "https://localhost:8080/"
        },
        "id": "s2ss9S17oYxV",
        "outputId": "5ca0af3e-7502-47ac-924e-5ea61e6a2057"
      },
      "source": [
        "a = result['attention'][0]\n",
        "\n",
        "print(np.sum(a, axis=-1))"
      ],
      "execution_count": null,
      "outputs": [
        {
          "output_type": "stream",
          "name": "stdout",
          "text": [
            "[0.99999994 0.99999994 1.         1.         1.0000001  1.\n",
            " 1.         0.99999994 1.         1.         1.0000001  0.99999994\n",
            " 1.         0.9999998  0.99999994 1.0000001  1.         0.99999994\n",
            " 0.99999994 1.         1.         1.         0.99999994 0.9999999\n",
            " 0.9999998  0.99999994 0.99999994 0.99999994 1.         1.0000002\n",
            " 1.0000001  1.0000001  1.         0.9999999  1.         1.0000001\n",
            " 1.0000001  0.9999999  0.99999994 1.         1.         1.\n",
            " 1.         1.         1.0000001  1.         1.         1.0000001\n",
            " 1.         0.99999994]\n"
          ]
        }
      ]
    },
    {
      "cell_type": "code",
      "metadata": {
        "colab": {
          "base_uri": "https://localhost:8080/",
          "height": 265
        },
        "id": "16aVKDxdocjf",
        "outputId": "03d9f731-007c-430f-ec55-37b113bffcda"
      },
      "source": [
        "_ = plt.bar(range(len(a[0, :])), a[0, :])"
      ],
      "execution_count": null,
      "outputs": [
        {
          "output_type": "display_data",
          "data": {
            "image/png": "[encoded data removed]",
            "text/plain": [
              "<Figure size 432x288 with 1 Axes>"
            ]
          },
          "metadata": {
            "needs_background": "light"
          }
        }
      ]
    },
    {
      "cell_type": "code",
      "metadata": {
        "colab": {
          "base_uri": "https://localhost:8080/",
          "height": 284
        },
        "id": "vZ7U06LHofiI",
        "outputId": "cd52ac8f-25e2-4bad-f727-4a0a137fc7dc"
      },
      "source": [
        "plt.imshow(np.array(a), vmin=0.0)"
      ],
      "execution_count": null,
      "outputs": [
        {
          "output_type": "execute_result",
          "data": {
            "text/plain": [
              "<matplotlib.image.AxesImage at 0x7f9479510d90>"
            ]
          },
          "metadata": {},
          "execution_count": 99
        },
        {
          "output_type": "display_data",
          "data": {
            "image/png": "[encoded data removed]",
            "text/plain": [
              "<Figure size 432x288 with 1 Axes>"
            ]
          },
          "metadata": {
            "needs_background": "light"
          }
        }
      ]
    },
    {
      "cell_type": "code",
      "metadata": {
        "id": "OyvxT5V0_X5B",
        "colab": {
          "base_uri": "https://localhost:8080/"
        },
        "outputId": "ced3533f-d84e-44f6-f8fa-e5091c1f7737"
      },
      "source": [
        "tf.saved_model.save(translator, '/content/drive/MyDrive/Intro_to_deepLearning/Assignment_7/translator',\n",
        "                    signatures={'serving_default': translator.tf_translate})"
      ],
      "execution_count": null,
      "outputs": [
        {
          "output_type": "stream",
          "name": "stderr",
          "text": [
            "WARNING:absl:Found untraced functions such as encoder_2_layer_call_fn, encoder_2_layer_call_and_return_conditional_losses, decoder_2_layer_call_fn, decoder_2_layer_call_and_return_conditional_losses, embedding_4_layer_call_fn while saving (showing 5 of 60). These functions will not be directly callable after loading.\n"
          ]
        },
        {
          "output_type": "stream",
          "name": "stdout",
          "text": [
            "INFO:tensorflow:Assets written to: /content/drive/MyDrive/Intro_to_deepLearning/Assignment_7/translator/assets\n"
          ]
        },
        {
          "output_type": "stream",
          "name": "stderr",
          "text": [
            "INFO:tensorflow:Assets written to: /content/drive/MyDrive/Intro_to_deepLearning/Assignment_7/translator/assets\n"
          ]
        }
      ]
    },
    {
      "cell_type": "code",
      "metadata": {
        "colab": {
          "base_uri": "https://localhost:8080/"
        },
        "id": "yDpfS3ODpZJo",
        "outputId": "d7cef9e4-e1cf-4a6c-d531-ecbb5eade88b"
      },
      "source": [
        "%%time\n",
        "three_input_text = tf.constant([\n",
        "    'நான் தூங்கினேன்.', # \"I slept.\"\n",
        "    'அவள் சிரித்தாள்',  #She smiled\n",
        "    'போய் தூங்கு', #Go to sleep\n",
        "])\n",
        "\n",
        "result = translator.tf_translate(three_input_text)\n",
        "\n",
        "for tr in result['text']:\n",
        "  print(tr.numpy().decode())\n",
        "\n",
        "print()"
      ],
      "execution_count": null,
      "outputs": [
        {
          "output_type": "stream",
          "name": "stdout",
          "text": [
            "i slept .\n",
            "she smiled .\n",
            "go to sleep .\n",
            "\n",
            "CPU times: user 669 ms, sys: 23.1 ms, total: 692 ms\n",
            "Wall time: 419 ms\n"
          ]
        }
      ]
    },
    {
      "cell_type": "code",
      "metadata": {
        "id": "gzbU6oKhot4u"
      },
      "source": [
        "reloaded = tf.saved_model.load('/content/drive/MyDrive/Intro_to_deepLearning/Assignment_7/translator')\n",
        "result = reloaded.tf_translate(three_input_text)"
      ],
      "execution_count": null,
      "outputs": []
    },
    {
      "cell_type": "code",
      "metadata": {
        "colab": {
          "base_uri": "https://localhost:8080/"
        },
        "id": "TmzvRCa-p4AM",
        "outputId": "66a67d9f-2579-4dae-d3a3-f573532f0732"
      },
      "source": [
        "%%time\n",
        "result = reloaded.tf_translate(three_input_text)\n",
        "\n",
        "for tr in result['text']:\n",
        "  print(tr.numpy().decode())\n",
        "\n",
        "print()"
      ],
      "execution_count": null,
      "outputs": [
        {
          "output_type": "stream",
          "name": "stdout",
          "text": [
            "i slept .\n",
            "she smiled .\n",
            "go to sleep .\n",
            "\n",
            "CPU times: user 683 ms, sys: 31.1 ms, total: 714 ms\n",
            "Wall time: 432 ms\n"
          ]
        }
      ]
    },
    {
      "cell_type": "markdown",
      "metadata": {
        "id": "WbryZ54_p7oj"
      },
      "source": [
        "\n",
        "1. Which parts of the sentence are used as a token? Each character, each word, or are some words split up?\n",
        "> Each word punctuations and characters.\n",
        "2. Do the same tokens in different language have same ID?\n",
        "> Yes\n",
        "3. What is the relation between the encoder output and the encoder hidden state which is used to initialize the decoder hidden state (for the architecture used in the tutorial)?\n",
        "> The previous state output from the decoder (the internal state of the decoder's RNN). Pass None to zero-initialize it. The original paper initializes it from the encoder's final RNN state.\n",
        "4. Is the decoder attending to all previous positions, including the previous decoder predictions?\n",
        "> It uses an RNN to keep track of what it has generated so far\n",
        "5. Does the encoder output change in different decoding steps?\n",
        "> Yes, The attention weights generated are different for each sequence, thus the encoder output is differet fro different decoder steps.\n",
        "6. Does the context vector change in different decoding steps?\n",
        "Yes, The attention weights generated are different for each sequence, thus the encoder output is differet fro different decoder steps.\n",
        "7. The decoder uses teacher forcing. Does this mean the time steps can be computed in parallel?\n",
        "> Teacher forcing is a strategy for training recurrent neural networks that uses ground truth as input, instead of model output from a prior time step as an input- Therefore,time steps can be computed in parallel. \n",
        "8. Why is a mask applied to the loss function?\n",
        "> To eliminate the padding effect in model training, masking could be used on input and loss function.\n",
        "9. When translating the same sentence multiple times, do you get the same result? Why (not)? If not, what changes need to be made to get the same result each time?\n",
        "> In my case, I have repeated the data due to less number of original samples. With this, the model trained the same sequence repeatedly. I feel this is the reason for repeatedly geetting the same translation.\n",
        "\n"
      ]
    }
  ]
}
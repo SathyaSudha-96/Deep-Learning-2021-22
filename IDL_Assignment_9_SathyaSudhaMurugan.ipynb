{
  "cells": [
    {
      "cell_type": "markdown",
      "metadata": {
        "id": "view-in-github",
        "colab_type": "text"
      },
      "source": [
        "<a href=\"https://colab.research.google.com/github/SathyaSudha-96/Deep-Learning-2021-22/blob/main/IDL_Assignment_9_SathyaSudhaMurugan.ipynb\" target=\"_parent\"><img src=\"https://colab.research.google.com/assets/colab-badge.svg\" alt=\"Open In Colab\"/></a>"
      ]
    },
    {
      "cell_type": "code",
      "execution_count": 2,
      "metadata": {
        "id": "pads-K7jUgjy"
      },
      "outputs": [],
      "source": [
        "import matplotlib.pyplot as plt\n",
        "import numpy as np\n",
        "import pandas as pd\n",
        "import tensorflow as tf\n",
        "\n",
        "from sklearn.metrics import accuracy_score, precision_score, recall_score\n",
        "from sklearn.model_selection import train_test_split\n",
        "from tensorflow.keras import layers, losses\n",
        "from tensorflow.keras.datasets import mnist\n",
        "from tensorflow.keras.models import Model"
      ]
    },
    {
      "cell_type": "code",
      "execution_count": null,
      "metadata": {
        "colab": {
          "base_uri": "https://localhost:8080/"
        },
        "id": "lxSbeh_0Ewr-",
        "outputId": "8718e916-e069-476e-ab14-563a74036d07"
      },
      "outputs": [
        {
          "name": "stdout",
          "output_type": "stream",
          "text": [
            "(60000, 28, 28)\n",
            "(10000, 28, 28)\n"
          ]
        }
      ],
      "source": [
        "(x_train, _), (x_test, _) = mnist.load_data()\n",
        "\n",
        "x_train = x_train.astype('float32') / 255.\n",
        "x_test = x_test.astype('float32') / 255.\n",
        "\n",
        "print (x_train.shape)\n",
        "print (x_test.shape)"
      ]
    },
    {
      "cell_type": "code",
      "execution_count": null,
      "metadata": {
        "colab": {
          "base_uri": "https://localhost:8080/",
          "height": 283
        },
        "id": "QUyHmdBgEyOo",
        "outputId": "cd5eaf54-72c1-4716-e89f-1a7e5b6e707a"
      },
      "outputs": [
        {
          "data": {
            "text/plain": [
              "<matplotlib.image.AxesImage at 0x7fa511f2dad0>"
            ]
          },
          "execution_count": 13,
          "metadata": {},
          "output_type": "execute_result"
        },
        {
          "data": {
            "image/png": "[encoded data removed]",
            "text/plain": [
              "<Figure size 432x288 with 1 Axes>"
            ]
          },
          "metadata": {},
          "output_type": "display_data"
        }
      ],
      "source": [
        "plt.imshow(x_train[0], cmap=\"Greys_r\")"
      ]
    },
    {
      "cell_type": "code",
      "execution_count": null,
      "metadata": {
        "colab": {
          "base_uri": "https://localhost:8080/"
        },
        "id": "4i0G0xNEFGYA",
        "outputId": "da1bdb07-c717-43aa-e55f-ff473639d163"
      },
      "outputs": [
        {
          "name": "stdout",
          "output_type": "stream",
          "text": [
            "(60000, 784)\n",
            "(10000, 784)\n"
          ]
        }
      ],
      "source": [
        "#Reshape the images \n",
        "x_train =  x_train.reshape([-1, 784])\n",
        "x_test = x_test.reshape([-1, 784])\n",
        "print (x_train.shape)\n",
        "print (x_test.shape)"
      ]
    },
    {
      "cell_type": "markdown",
      "metadata": {
        "id": "XjDVkm4tv6Sv"
      },
      "source": [
        "# AutoEncoder"
      ]
    },
    {
      "cell_type": "code",
      "execution_count": null,
      "metadata": {
        "id": "NCQ5MeSkv5MD"
      },
      "outputs": [],
      "source": [
        "latent_dimension = 32\n",
        "\n",
        "image_input = tf.keras.Input((784,))  # flattened 28x28 MNIST images\n",
        "encoding = tf.keras.layers.Dense(latent_dimension)(image_input)\n",
        "encoder = tf.keras.Model(image_input, encoding)\n",
        "\n",
        "latent_input = tf.keras.Input((latent_dimension,))\n",
        "# note: we use 784 units since we need the same number of outputs as we have inputs in the data!\n",
        "# also, sigmoid activation to match our input data range [0, 1]\n",
        "decoding = tf.keras.layers.Dense(784, tf.nn.sigmoid)(latent_input)\n",
        "decoder = tf.keras.Model(latent_input, decoding)\n",
        "\n",
        "autoencoder = tf.keras.Model(image_input, decoder(encoder(image_input)))"
      ]
    },
    {
      "cell_type": "code",
      "execution_count": null,
      "metadata": {
        "id": "L0ur91Dwwojz"
      },
      "outputs": [],
      "source": [
        "autoencoder.compile(optimizer='adam', loss='binary_crossentropy')"
      ]
    },
    {
      "cell_type": "code",
      "execution_count": null,
      "metadata": {
        "colab": {
          "base_uri": "https://localhost:8080/"
        },
        "id": "4XqHTiJdwz5A",
        "outputId": "22f16589-542c-449c-e156-142f9ea18e30"
      },
      "outputs": [
        {
          "name": "stdout",
          "output_type": "stream",
          "text": [
            "Epoch 1/50\n",
            "235/235 [==============================] - 3s 13ms/step - loss: 0.2746 - val_loss: 0.1910\n",
            "Epoch 2/50\n",
            "235/235 [==============================] - 3s 12ms/step - loss: 0.1717 - val_loss: 0.1543\n",
            "Epoch 3/50\n",
            "235/235 [==============================] - 3s 12ms/step - loss: 0.1438 - val_loss: 0.1331\n",
            "Epoch 4/50\n",
            "235/235 [==============================] - 3s 12ms/step - loss: 0.1274 - val_loss: 0.1205\n",
            "Epoch 5/50\n",
            "235/235 [==============================] - 3s 12ms/step - loss: 0.1170 - val_loss: 0.1118\n",
            "Epoch 6/50\n",
            "235/235 [==============================] - 3s 12ms/step - loss: 0.1095 - val_loss: 0.1053\n",
            "Epoch 7/50\n",
            "235/235 [==============================] - 3s 12ms/step - loss: 0.1039 - val_loss: 0.1003\n",
            "Epoch 8/50\n",
            "235/235 [==============================] - 3s 12ms/step - loss: 0.0998 - val_loss: 0.0970\n",
            "Epoch 9/50\n",
            "235/235 [==============================] - 3s 12ms/step - loss: 0.0973 - val_loss: 0.0951\n",
            "Epoch 10/50\n",
            "235/235 [==============================] - 3s 12ms/step - loss: 0.0958 - val_loss: 0.0939\n",
            "Epoch 11/50\n",
            "235/235 [==============================] - 3s 12ms/step - loss: 0.0949 - val_loss: 0.0933\n",
            "Epoch 12/50\n",
            "235/235 [==============================] - 3s 12ms/step - loss: 0.0944 - val_loss: 0.0928\n",
            "Epoch 13/50\n",
            "235/235 [==============================] - 3s 12ms/step - loss: 0.0941 - val_loss: 0.0926\n",
            "Epoch 14/50\n",
            "235/235 [==============================] - 3s 12ms/step - loss: 0.0938 - val_loss: 0.0924\n",
            "Epoch 15/50\n",
            "235/235 [==============================] - 3s 12ms/step - loss: 0.0936 - val_loss: 0.0922\n",
            "Epoch 16/50\n",
            "235/235 [==============================] - 3s 12ms/step - loss: 0.0934 - val_loss: 0.0921\n",
            "Epoch 17/50\n",
            "235/235 [==============================] - 3s 12ms/step - loss: 0.0933 - val_loss: 0.0920\n",
            "Epoch 18/50\n",
            "235/235 [==============================] - 3s 12ms/step - loss: 0.0932 - val_loss: 0.0918\n",
            "Epoch 19/50\n",
            "235/235 [==============================] - 3s 12ms/step - loss: 0.0931 - val_loss: 0.0918\n",
            "Epoch 20/50\n",
            "235/235 [==============================] - 3s 12ms/step - loss: 0.0930 - val_loss: 0.0917\n",
            "Epoch 21/50\n",
            "235/235 [==============================] - 3s 12ms/step - loss: 0.0930 - val_loss: 0.0916\n",
            "Epoch 22/50\n",
            "235/235 [==============================] - 4s 15ms/step - loss: 0.0929 - val_loss: 0.0919\n",
            "Epoch 23/50\n",
            "235/235 [==============================] - 3s 13ms/step - loss: 0.0928 - val_loss: 0.0916\n",
            "Epoch 24/50\n",
            "235/235 [==============================] - 3s 12ms/step - loss: 0.0928 - val_loss: 0.0915\n",
            "Epoch 25/50\n",
            "235/235 [==============================] - 3s 12ms/step - loss: 0.0927 - val_loss: 0.0915\n",
            "Epoch 26/50\n",
            "235/235 [==============================] - 3s 12ms/step - loss: 0.0927 - val_loss: 0.0914\n",
            "Epoch 27/50\n",
            "235/235 [==============================] - 3s 12ms/step - loss: 0.0927 - val_loss: 0.0914\n",
            "Epoch 28/50\n",
            "235/235 [==============================] - 3s 12ms/step - loss: 0.0926 - val_loss: 0.0913\n",
            "Epoch 29/50\n",
            "235/235 [==============================] - 3s 12ms/step - loss: 0.0926 - val_loss: 0.0913\n",
            "Epoch 30/50\n",
            "235/235 [==============================] - 3s 12ms/step - loss: 0.0926 - val_loss: 0.0913\n",
            "Epoch 31/50\n",
            "235/235 [==============================] - 3s 12ms/step - loss: 0.0925 - val_loss: 0.0913\n",
            "Epoch 32/50\n",
            "235/235 [==============================] - 3s 12ms/step - loss: 0.0925 - val_loss: 0.0913\n",
            "Epoch 33/50\n",
            "235/235 [==============================] - 3s 12ms/step - loss: 0.0925 - val_loss: 0.0913\n",
            "Epoch 34/50\n",
            "235/235 [==============================] - 3s 12ms/step - loss: 0.0925 - val_loss: 0.0912\n",
            "Epoch 35/50\n",
            "235/235 [==============================] - 3s 12ms/step - loss: 0.0925 - val_loss: 0.0912\n",
            "Epoch 36/50\n",
            "235/235 [==============================] - 3s 12ms/step - loss: 0.0924 - val_loss: 0.0912\n",
            "Epoch 37/50\n",
            "235/235 [==============================] - 3s 12ms/step - loss: 0.0924 - val_loss: 0.0912\n",
            "Epoch 38/50\n",
            "235/235 [==============================] - 3s 12ms/step - loss: 0.0924 - val_loss: 0.0912\n",
            "Epoch 39/50\n",
            "235/235 [==============================] - 3s 12ms/step - loss: 0.0924 - val_loss: 0.0912\n",
            "Epoch 40/50\n",
            "235/235 [==============================] - 3s 12ms/step - loss: 0.0924 - val_loss: 0.0912\n",
            "Epoch 41/50\n",
            "235/235 [==============================] - 3s 12ms/step - loss: 0.0924 - val_loss: 0.0911\n",
            "Epoch 42/50\n",
            "235/235 [==============================] - 3s 12ms/step - loss: 0.0923 - val_loss: 0.0911\n",
            "Epoch 43/50\n",
            "235/235 [==============================] - 3s 12ms/step - loss: 0.0923 - val_loss: 0.0911\n",
            "Epoch 44/50\n",
            "235/235 [==============================] - 3s 12ms/step - loss: 0.0923 - val_loss: 0.0911\n",
            "Epoch 45/50\n",
            "235/235 [==============================] - 3s 12ms/step - loss: 0.0923 - val_loss: 0.0911\n",
            "Epoch 46/50\n",
            "235/235 [==============================] - 3s 12ms/step - loss: 0.0923 - val_loss: 0.0911\n",
            "Epoch 47/50\n",
            "235/235 [==============================] - 3s 12ms/step - loss: 0.0923 - val_loss: 0.0911\n",
            "Epoch 48/50\n",
            "235/235 [==============================] - 3s 12ms/step - loss: 0.0923 - val_loss: 0.0911\n",
            "Epoch 49/50\n",
            "235/235 [==============================] - 3s 12ms/step - loss: 0.0923 - val_loss: 0.0911\n",
            "Epoch 50/50\n",
            "235/235 [==============================] - 3s 12ms/step - loss: 0.0923 - val_loss: 0.0911\n"
          ]
        },
        {
          "data": {
            "text/plain": [
              "<keras.callbacks.History at 0x7fa511eb2c50>"
            ]
          },
          "execution_count": 17,
          "metadata": {},
          "output_type": "execute_result"
        }
      ],
      "source": [
        "autoencoder.fit(x_train, x_train,\n",
        "                epochs=50,\n",
        "                batch_size=256,\n",
        "                shuffle=True,\n",
        "                validation_data=(x_test, x_test))"
      ]
    },
    {
      "cell_type": "code",
      "execution_count": null,
      "metadata": {
        "id": "bw5BdkdMw6YL"
      },
      "outputs": [],
      "source": [
        "autoencoder_images = autoencoder.predict(x_test)"
      ]
    },
    {
      "cell_type": "code",
      "execution_count": null,
      "metadata": {
        "colab": {
          "base_uri": "https://localhost:8080/",
          "height": 247
        },
        "id": "DgghqTkbw9g3",
        "outputId": "430a559d-5b7b-4087-a787-02fceed4b937"
      },
      "outputs": [
        {
          "data": {
            "image/png": "[encoded data removed]",
            "text/plain": [
              "<Figure size 1440x288 with 20 Axes>"
            ]
          },
          "metadata": {},
          "output_type": "display_data"
        }
      ],
      "source": [
        "n = 10  # how many digits we will display\n",
        "plt.figure(figsize=(20, 4))\n",
        "for i in range(n):\n",
        "    # display original\n",
        "    ax = plt.subplot(2, n, i + 1)\n",
        "    plt.imshow(x_test[i].reshape(28, 28))\n",
        "    plt.gray()\n",
        "    ax.get_xaxis().set_visible(False)\n",
        "    ax.get_yaxis().set_visible(False)\n",
        "\n",
        "    # display reconstruction\n",
        "    ax = plt.subplot(2, n, i + 1 + n)\n",
        "    plt.imshow(autoencoder_images[i].reshape(28, 28))\n",
        "    plt.gray()\n",
        "    ax.get_xaxis().set_visible(False)\n",
        "    ax.get_yaxis().set_visible(False)\n",
        "plt.show()"
      ]
    },
    {
      "cell_type": "markdown",
      "metadata": {
        "id": "iZ-951hCvJP2"
      },
      "source": [
        "# Deep Autoencoder"
      ]
    },
    {
      "cell_type": "code",
      "execution_count": null,
      "metadata": {
        "id": "bpX4ACbNIDVH"
      },
      "outputs": [],
      "source": [
        "latent_dimension = 128\n",
        "#Encoding\n",
        "input_image = tf.keras.Input((784,))  # flattened 28x28 MNIST images\n",
        "encoding = tf.keras.layers.Dense(latent_dimension,activation='relu')(input_image)\n",
        "encoding = tf.keras.layers.Dense(int(latent_dimension/2),activation='relu')(encoding)\n",
        "encoding = tf.keras.layers.Dense(int(latent_dimension/2),activation='relu')(encoding)\n",
        "encoding = tf.keras.layers.Dense(int(latent_dimension/2),activation='relu')(encoding)\n",
        "encoding = tf.keras.layers.Dense(int(latent_dimension/2),activation='relu')(encoding)\n",
        "encoder = tf.keras.Model(input_image, encoding)\n",
        "#Decoding\n",
        "decoding = tf.keras.layers.Dense(784, activation='sigmoid')(encoding)\n",
        "\n",
        "#Deep Autoencoder\n",
        "Deep_Autoencoder = tf.keras.Model(input_image,decoding)\n",
        "\n",
        "#This is the size of our encoded representations\n",
        "latent_input = tf.keras.Input((int(latent_dimension/2),))\n",
        "# retrieve the last layer of the autoencoder model\n",
        "decoder_layer = Deep_Autoencoder.layers[-1]\n",
        "# create the decoder model\n",
        "decoder = tf.keras.Model(latent_input, decoder_layer(latent_input))\n",
        "# note: we use 784 units since we need the same number of outputs as we have inputs in the data!\n",
        "# also, sigmoid activation to match our input data range [0, 1]\n",
        "Deep_Autoencoder.summary()"
      ]
    },
    {
      "cell_type": "code",
      "execution_count": null,
      "metadata": {
        "id": "CPdaPrIlS9IW"
      },
      "outputs": [],
      "source": [
        "Deep_Autoencoder.compile(optimizer='adam', loss='binary_crossentropy')"
      ]
    },
    {
      "cell_type": "code",
      "execution_count": null,
      "metadata": {
        "colab": {
          "base_uri": "https://localhost:8080/"
        },
        "id": "YGV_FrliTFWe",
        "outputId": "83c2810a-9a01-416e-f638-5ca8353fb395"
      },
      "outputs": [
        {
          "name": "stdout",
          "output_type": "stream",
          "text": [
            "Epoch 1/50\n",
            "235/235 [==============================] - 5s 20ms/step - loss: 0.2656 - val_loss: 0.1849\n",
            "Epoch 2/50\n",
            "235/235 [==============================] - 5s 23ms/step - loss: 0.1601 - val_loss: 0.1438\n",
            "Epoch 3/50\n",
            "235/235 [==============================] - 4s 15ms/step - loss: 0.1400 - val_loss: 0.1329\n",
            "Epoch 4/50\n",
            "235/235 [==============================] - 4s 16ms/step - loss: 0.1294 - val_loss: 0.1233\n",
            "Epoch 5/50\n",
            "235/235 [==============================] - 4s 15ms/step - loss: 0.1204 - val_loss: 0.1152\n",
            "Epoch 6/50\n",
            "235/235 [==============================] - 4s 15ms/step - loss: 0.1141 - val_loss: 0.1102\n",
            "Epoch 7/50\n",
            "235/235 [==============================] - 4s 15ms/step - loss: 0.1099 - val_loss: 0.1070\n",
            "Epoch 8/50\n",
            "235/235 [==============================] - 4s 15ms/step - loss: 0.1072 - val_loss: 0.1050\n",
            "Epoch 9/50\n",
            "235/235 [==============================] - 4s 15ms/step - loss: 0.1053 - val_loss: 0.1033\n",
            "Epoch 10/50\n",
            "235/235 [==============================] - 4s 15ms/step - loss: 0.1036 - val_loss: 0.1014\n",
            "Epoch 11/50\n",
            "235/235 [==============================] - 4s 16ms/step - loss: 0.1018 - val_loss: 0.0996\n",
            "Epoch 12/50\n",
            "235/235 [==============================] - 4s 15ms/step - loss: 0.1004 - val_loss: 0.0984\n",
            "Epoch 13/50\n",
            "235/235 [==============================] - 4s 15ms/step - loss: 0.0992 - val_loss: 0.0975\n",
            "Epoch 14/50\n",
            "235/235 [==============================] - 4s 15ms/step - loss: 0.0980 - val_loss: 0.0965\n",
            "Epoch 15/50\n",
            "235/235 [==============================] - 4s 15ms/step - loss: 0.0970 - val_loss: 0.0955\n",
            "Epoch 16/50\n",
            "235/235 [==============================] - 4s 15ms/step - loss: 0.0962 - val_loss: 0.0947\n",
            "Epoch 17/50\n",
            "235/235 [==============================] - 4s 15ms/step - loss: 0.0955 - val_loss: 0.0943\n",
            "Epoch 18/50\n",
            "235/235 [==============================] - 4s 15ms/step - loss: 0.0949 - val_loss: 0.0933\n",
            "Epoch 19/50\n",
            "235/235 [==============================] - 4s 15ms/step - loss: 0.0942 - val_loss: 0.0929\n",
            "Epoch 20/50\n",
            "235/235 [==============================] - 4s 15ms/step - loss: 0.0936 - val_loss: 0.0923\n",
            "Epoch 21/50\n",
            "235/235 [==============================] - 4s 15ms/step - loss: 0.0931 - val_loss: 0.0920\n",
            "Epoch 22/50\n",
            "235/235 [==============================] - 4s 15ms/step - loss: 0.0925 - val_loss: 0.0915\n",
            "Epoch 23/50\n",
            "235/235 [==============================] - 4s 17ms/step - loss: 0.0919 - val_loss: 0.0909\n",
            "Epoch 24/50\n",
            "235/235 [==============================] - 4s 16ms/step - loss: 0.0915 - val_loss: 0.0903\n",
            "Epoch 25/50\n",
            "235/235 [==============================] - 4s 15ms/step - loss: 0.0911 - val_loss: 0.0901\n",
            "Epoch 26/50\n",
            "235/235 [==============================] - 4s 16ms/step - loss: 0.0907 - val_loss: 0.0898\n",
            "Epoch 27/50\n",
            "235/235 [==============================] - 4s 17ms/step - loss: 0.0903 - val_loss: 0.0891\n",
            "Epoch 28/50\n",
            "235/235 [==============================] - 4s 15ms/step - loss: 0.0900 - val_loss: 0.0889\n",
            "Epoch 29/50\n",
            "235/235 [==============================] - 4s 15ms/step - loss: 0.0896 - val_loss: 0.0892\n",
            "Epoch 30/50\n",
            "235/235 [==============================] - 4s 18ms/step - loss: 0.0892 - val_loss: 0.0881\n",
            "Epoch 31/50\n",
            "235/235 [==============================] - 4s 15ms/step - loss: 0.0889 - val_loss: 0.0880\n",
            "Epoch 32/50\n",
            "235/235 [==============================] - 4s 15ms/step - loss: 0.0887 - val_loss: 0.0877\n",
            "Epoch 33/50\n",
            "235/235 [==============================] - 4s 15ms/step - loss: 0.0883 - val_loss: 0.0878\n",
            "Epoch 34/50\n",
            "235/235 [==============================] - 4s 15ms/step - loss: 0.0881 - val_loss: 0.0874\n",
            "Epoch 35/50\n",
            "235/235 [==============================] - 4s 15ms/step - loss: 0.0878 - val_loss: 0.0870\n",
            "Epoch 36/50\n",
            "235/235 [==============================] - 4s 15ms/step - loss: 0.0876 - val_loss: 0.0869\n",
            "Epoch 37/50\n",
            "235/235 [==============================] - 4s 15ms/step - loss: 0.0874 - val_loss: 0.0867\n",
            "Epoch 38/50\n",
            "235/235 [==============================] - 4s 16ms/step - loss: 0.0872 - val_loss: 0.0863\n",
            "Epoch 39/50\n",
            "235/235 [==============================] - 4s 15ms/step - loss: 0.0870 - val_loss: 0.0863\n",
            "Epoch 40/50\n",
            "235/235 [==============================] - 4s 16ms/step - loss: 0.0868 - val_loss: 0.0869\n",
            "Epoch 41/50\n",
            "235/235 [==============================] - 4s 15ms/step - loss: 0.0867 - val_loss: 0.0860\n",
            "Epoch 42/50\n",
            "235/235 [==============================] - 4s 15ms/step - loss: 0.0865 - val_loss: 0.0856\n",
            "Epoch 43/50\n",
            "235/235 [==============================] - 4s 15ms/step - loss: 0.0863 - val_loss: 0.0856\n",
            "Epoch 44/50\n",
            "235/235 [==============================] - 4s 15ms/step - loss: 0.0862 - val_loss: 0.0855\n",
            "Epoch 45/50\n",
            "235/235 [==============================] - 4s 15ms/step - loss: 0.0860 - val_loss: 0.0852\n",
            "Epoch 46/50\n",
            "235/235 [==============================] - 4s 19ms/step - loss: 0.0859 - val_loss: 0.0852\n",
            "Epoch 47/50\n",
            "235/235 [==============================] - 4s 16ms/step - loss: 0.0856 - val_loss: 0.0850\n",
            "Epoch 48/50\n",
            "235/235 [==============================] - 4s 16ms/step - loss: 0.0855 - val_loss: 0.0848\n",
            "Epoch 49/50\n",
            "235/235 [==============================] - 4s 15ms/step - loss: 0.0853 - val_loss: 0.0845\n",
            "Epoch 50/50\n",
            "235/235 [==============================] - 4s 15ms/step - loss: 0.0851 - val_loss: 0.0843\n"
          ]
        },
        {
          "data": {
            "text/plain": [
              "<keras.callbacks.History at 0x7fa51254a990>"
            ]
          },
          "execution_count": 8,
          "metadata": {},
          "output_type": "execute_result"
        }
      ],
      "source": [
        "Deep_Autoencoder.fit(x_train, x_train,\n",
        "                epochs=50,\n",
        "                batch_size=256,\n",
        "                shuffle=True,\n",
        "                validation_data=(x_test, x_test))"
      ]
    },
    {
      "cell_type": "code",
      "execution_count": null,
      "metadata": {
        "id": "Nf08_h1Eq5AI"
      },
      "outputs": [],
      "source": [
        "deep_autoencoded_images = Deep_Autoencoder.predict(x_test)"
      ]
    },
    {
      "cell_type": "code",
      "execution_count": null,
      "metadata": {
        "colab": {
          "base_uri": "https://localhost:8080/",
          "height": 247
        },
        "id": "FV-RWPRFUa6b",
        "outputId": "0234c13b-70b9-4a8b-fc62-0cf92fdf4c1a"
      },
      "outputs": [
        {
          "data": {
            "image/png": "[encoded data removed]",
            "text/plain": [
              "<Figure size 1440x288 with 20 Axes>"
            ]
          },
          "metadata": {},
          "output_type": "display_data"
        }
      ],
      "source": [
        "n = 10  # how many digits we will display\n",
        "plt.figure(figsize=(20, 4))\n",
        "for i in range(n):\n",
        "    # display original\n",
        "    ax = plt.subplot(2, n, i + 1)\n",
        "    plt.imshow(x_test[i].reshape(28, 28))\n",
        "    plt.gray()\n",
        "    ax.get_xaxis().set_visible(False)\n",
        "    ax.get_yaxis().set_visible(False)\n",
        "\n",
        "    # display reconstruction\n",
        "    ax = plt.subplot(2, n, i + 1 + n)\n",
        "    plt.imshow(deep_autoencoded_images[i].reshape(28, 28))\n",
        "    plt.gray()\n",
        "    ax.get_xaxis().set_visible(False)\n",
        "    ax.get_yaxis().set_visible(False)\n",
        "plt.show()"
      ]
    },
    {
      "cell_type": "markdown",
      "metadata": {
        "id": "J6ggUE5Nuwx2"
      },
      "source": [
        "# Convolution Autoencoder"
      ]
    },
    {
      "cell_type": "code",
      "execution_count": null,
      "metadata": {
        "colab": {
          "base_uri": "https://localhost:8080/"
        },
        "id": "1xBbTJf1uBCl",
        "outputId": "466e1a6a-51ea-4df4-dd36-0052487f2c03"
      },
      "outputs": [
        {
          "name": "stdout",
          "output_type": "stream",
          "text": [
            "Downloading data from https://storage.googleapis.com/tensorflow/tf-keras-datasets/mnist.npz\n",
            "11493376/11490434 [==============================] - 0s 0us/step\n",
            "11501568/11490434 [==============================] - 0s 0us/step\n",
            "(60000, 28, 28)\n",
            "(10000, 28, 28)\n"
          ]
        }
      ],
      "source": [
        "#Now lets not reshape the images\n",
        "(x_train, _), (x_test, _) = mnist.load_data()\n",
        "\n",
        "x_train = x_train.astype('float32') / 255.\n",
        "x_test = x_test.astype('float32') / 255.\n",
        "\n",
        "print (x_train.shape)\n",
        "print (x_test.shape)"
      ]
    },
    {
      "cell_type": "code",
      "execution_count": null,
      "metadata": {
        "colab": {
          "base_uri": "https://localhost:8080/"
        },
        "id": "zD-Mnjn-yJZH",
        "outputId": "a1acb6a5-ff42-46e4-8f17-af935306203b"
      },
      "outputs": [
        {
          "name": "stdout",
          "output_type": "stream",
          "text": [
            "Model: \"model\"\n",
            "_________________________________________________________________\n",
            " Layer (type)                Output Shape              Param #   \n",
            "=================================================================\n",
            " input_1 (InputLayer)        [(None, 28, 28, 1)]       0         \n",
            "                                                                 \n",
            " conv2d (Conv2D)             (None, 28, 28, 16)        160       \n",
            "                                                                 \n",
            " max_pooling2d (MaxPooling2D  (None, 14, 14, 16)       0         \n",
            " )                                                               \n",
            "                                                                 \n",
            " conv2d_1 (Conv2D)           (None, 14, 14, 8)         1160      \n",
            "                                                                 \n",
            " max_pooling2d_1 (MaxPooling  (None, 7, 7, 8)          0         \n",
            " 2D)                                                             \n",
            "                                                                 \n",
            " conv2d_2 (Conv2D)           (None, 7, 7, 8)           584       \n",
            "                                                                 \n",
            " max_pooling2d_2 (MaxPooling  (None, 4, 4, 8)          0         \n",
            " 2D)                                                             \n",
            "                                                                 \n",
            " conv2d_3 (Conv2D)           (None, 4, 4, 8)           584       \n",
            "                                                                 \n",
            " up_sampling2d (UpSampling2D  (None, 8, 8, 8)          0         \n",
            " )                                                               \n",
            "                                                                 \n",
            " conv2d_4 (Conv2D)           (None, 8, 8, 8)           584       \n",
            "                                                                 \n",
            " up_sampling2d_1 (UpSampling  (None, 16, 16, 8)        0         \n",
            " 2D)                                                             \n",
            "                                                                 \n",
            " conv2d_5 (Conv2D)           (None, 14, 14, 16)        1168      \n",
            "                                                                 \n",
            " up_sampling2d_2 (UpSampling  (None, 28, 28, 16)       0         \n",
            " 2D)                                                             \n",
            "                                                                 \n",
            " conv2d_6 (Conv2D)           (None, 28, 28, 1)         145       \n",
            "                                                                 \n",
            "=================================================================\n",
            "Total params: 4,385\n",
            "Trainable params: 4,385\n",
            "Non-trainable params: 0\n",
            "_________________________________________________________________\n"
          ]
        }
      ],
      "source": [
        "input_img = tf.keras.layers.Input(shape=(28, 28, 1))  \n",
        "\n",
        "x = tf.keras.layers.Conv2D(16, (3, 3), activation='relu', padding='same')(input_img)\n",
        "x = tf.keras.layers.MaxPooling2D((2, 2), padding='same')(x)\n",
        "x = tf.keras.layers.Conv2D(8, (3, 3), activation='relu', padding='same')(x)\n",
        "x = tf.keras.layers.MaxPooling2D((2, 2), padding='same')(x)\n",
        "x = tf.keras.layers.Conv2D(8, (3, 3), activation='relu', padding='same')(x)\n",
        "encoded = tf.keras.layers.MaxPooling2D((2, 2), padding='same')(x)\n",
        "\n",
        "\n",
        "x = tf.keras.layers.Conv2D(8, (3, 3), activation='relu', padding='same')(encoded)\n",
        "x = tf.keras.layers.UpSampling2D((2, 2))(x)\n",
        "x = tf.keras.layers.Conv2D(8, (3, 3), activation='relu', padding='same')(x)\n",
        "x = tf.keras.layers.UpSampling2D((2, 2))(x)\n",
        "x = tf.keras.layers.Conv2D(16, (3, 3), activation='relu')(x)\n",
        "x = tf.keras.layers.UpSampling2D((2, 2))(x)\n",
        "decoded = tf.keras.layers.Conv2D(1, (3, 3), activation='sigmoid', padding='same')(x)\n",
        "\n",
        "convolution_autoencoder = tf.keras.Model(input_img, decoded)\n",
        "convolution_autoencoder.summary()"
      ]
    },
    {
      "cell_type": "code",
      "execution_count": null,
      "metadata": {
        "id": "U0QePVVn2APo"
      },
      "outputs": [],
      "source": [
        "convolution_autoencoder.compile(optimizer='adam', loss='binary_crossentropy')"
      ]
    },
    {
      "cell_type": "code",
      "execution_count": null,
      "metadata": {
        "colab": {
          "background_save": true,
          "base_uri": "https://localhost:8080/"
        },
        "id": "sNIZnZiw2Ojf",
        "outputId": "9fc5587d-d2ed-40ef-974c-674ea480457a"
      },
      "outputs": [
        {
          "name": "stdout",
          "output_type": "stream",
          "text": [
            "Epoch 1/50\n",
            "235/235 [==============================] - 76s 322ms/step - loss: 0.2933 - val_loss: 0.1686\n",
            "Epoch 2/50\n",
            "235/235 [==============================] - 72s 307ms/step - loss: 0.1546 - val_loss: 0.1441\n",
            "Epoch 3/50\n",
            "235/235 [==============================] - 73s 310ms/step - loss: 0.1402 - val_loss: 0.1346\n",
            "Epoch 4/50\n",
            "235/235 [==============================] - 70s 298ms/step - loss: 0.1323 - val_loss: 0.1280\n",
            "Epoch 5/50\n",
            "235/235 [==============================] - 70s 297ms/step - loss: 0.1265 - val_loss: 0.1231\n",
            "Epoch 6/50\n",
            "235/235 [==============================] - 70s 299ms/step - loss: 0.1224 - val_loss: 0.1197\n",
            "Epoch 7/50\n",
            "235/235 [==============================] - 70s 297ms/step - loss: 0.1194 - val_loss: 0.1175\n",
            "Epoch 8/50\n",
            "235/235 [==============================] - 70s 297ms/step - loss: 0.1169 - val_loss: 0.1145\n",
            "Epoch 9/50\n",
            "235/235 [==============================] - 70s 299ms/step - loss: 0.1145 - val_loss: 0.1122\n",
            "Epoch 10/50\n",
            "235/235 [==============================] - 72s 307ms/step - loss: 0.1125 - val_loss: 0.1103\n",
            "Epoch 11/50\n",
            "235/235 [==============================] - 75s 318ms/step - loss: 0.1109 - val_loss: 0.1099\n",
            "Epoch 12/50\n",
            "235/235 [==============================] - 76s 322ms/step - loss: 0.1095 - val_loss: 0.1081\n",
            "Epoch 13/50\n",
            "235/235 [==============================] - 75s 319ms/step - loss: 0.1082 - val_loss: 0.1068\n",
            "Epoch 14/50\n",
            "235/235 [==============================] - 76s 325ms/step - loss: 0.1071 - val_loss: 0.1052\n",
            "Epoch 15/50\n",
            "235/235 [==============================] - 75s 318ms/step - loss: 0.1060 - val_loss: 0.1044\n",
            "Epoch 16/50\n",
            "235/235 [==============================] - 74s 313ms/step - loss: 0.1051 - val_loss: 0.1036\n",
            "Epoch 17/50\n",
            "235/235 [==============================] - 74s 315ms/step - loss: 0.1043 - val_loss: 0.1035\n",
            "Epoch 18/50\n",
            "235/235 [==============================] - 75s 319ms/step - loss: 0.1036 - val_loss: 0.1019\n",
            "Epoch 19/50\n",
            "235/235 [==============================] - 75s 319ms/step - loss: 0.1028 - val_loss: 0.1015\n",
            "Epoch 20/50\n",
            "235/235 [==============================] - 74s 315ms/step - loss: 0.1022 - val_loss: 0.1007\n",
            "Epoch 21/50\n",
            "235/235 [==============================] - 75s 317ms/step - loss: 0.1016 - val_loss: 0.1003\n",
            "Epoch 22/50\n",
            "235/235 [==============================] - 75s 320ms/step - loss: 0.1010 - val_loss: 0.0994\n",
            "Epoch 23/50\n",
            "235/235 [==============================] - 73s 312ms/step - loss: 0.1006 - val_loss: 0.0990\n",
            "Epoch 24/50\n",
            "235/235 [==============================] - 74s 316ms/step - loss: 0.1001 - val_loss: 0.0988\n",
            "Epoch 25/50\n",
            "235/235 [==============================] - 75s 321ms/step - loss: 0.0997 - val_loss: 0.0983\n",
            "Epoch 26/50\n",
            "235/235 [==============================] - 76s 322ms/step - loss: 0.0993 - val_loss: 0.0979\n",
            "Epoch 27/50\n",
            "235/235 [==============================] - 76s 321ms/step - loss: 0.0989 - val_loss: 0.0975\n",
            "Epoch 28/50\n",
            "235/235 [==============================] - 74s 314ms/step - loss: 0.0987 - val_loss: 0.0973\n",
            "Epoch 29/50\n",
            "235/235 [==============================] - 74s 316ms/step - loss: 0.0982 - val_loss: 0.0970\n",
            "Epoch 30/50\n",
            "235/235 [==============================] - 75s 317ms/step - loss: 0.0980 - val_loss: 0.0967\n",
            "Epoch 31/50\n",
            "235/235 [==============================] - 74s 314ms/step - loss: 0.0977 - val_loss: 0.0964\n",
            "Epoch 32/50\n",
            "235/235 [==============================] - 74s 315ms/step - loss: 0.0974 - val_loss: 0.0962\n",
            "Epoch 33/50\n",
            "235/235 [==============================] - 73s 313ms/step - loss: 0.0973 - val_loss: 0.0959\n",
            "Epoch 34/50\n",
            "235/235 [==============================] - 74s 314ms/step - loss: 0.0969 - val_loss: 0.0958\n",
            "Epoch 35/50\n",
            "235/235 [==============================] - 73s 312ms/step - loss: 0.0968 - val_loss: 0.0956\n",
            "Epoch 36/50\n",
            "235/235 [==============================] - 74s 315ms/step - loss: 0.0966 - val_loss: 0.0953\n",
            "Epoch 37/50\n",
            "235/235 [==============================] - 74s 314ms/step - loss: 0.0964 - val_loss: 0.0951\n",
            "Epoch 38/50\n",
            "235/235 [==============================] - 74s 316ms/step - loss: 0.0962 - val_loss: 0.0956\n",
            "Epoch 39/50\n",
            "235/235 [==============================] - 73s 310ms/step - loss: 0.0960 - val_loss: 0.0951\n",
            "Epoch 40/50\n",
            "235/235 [==============================] - 73s 310ms/step - loss: 0.0958 - val_loss: 0.0946\n",
            "Epoch 41/50\n",
            "235/235 [==============================] - 73s 309ms/step - loss: 0.0957 - val_loss: 0.0949\n",
            "Epoch 42/50\n",
            "235/235 [==============================] - 73s 313ms/step - loss: 0.0956 - val_loss: 0.0945\n",
            "Epoch 43/50\n",
            "235/235 [==============================] - 73s 310ms/step - loss: 0.0954 - val_loss: 0.0945\n",
            "Epoch 44/50\n",
            "235/235 [==============================] - 73s 310ms/step - loss: 0.0953 - val_loss: 0.0942\n",
            "Epoch 45/50\n",
            "235/235 [==============================] - 73s 310ms/step - loss: 0.0952 - val_loss: 0.0940\n",
            "Epoch 46/50\n",
            "235/235 [==============================] - 73s 309ms/step - loss: 0.0950 - val_loss: 0.0937\n",
            "Epoch 47/50\n",
            "235/235 [==============================] - 73s 311ms/step - loss: 0.0948 - val_loss: 0.0937\n",
            "Epoch 48/50\n",
            "235/235 [==============================] - 72s 308ms/step - loss: 0.0947 - val_loss: 0.0947\n",
            "Epoch 49/50\n",
            "235/235 [==============================] - 73s 310ms/step - loss: 0.0946 - val_loss: 0.0935\n",
            "Epoch 50/50\n",
            "235/235 [==============================] - 73s 313ms/step - loss: 0.0944 - val_loss: 0.0941\n"
          ]
        },
        {
          "data": {
            "text/plain": [
              "<keras.callbacks.History at 0x7fac61721990>"
            ]
          },
          "execution_count": null,
          "metadata": {},
          "output_type": "execute_result"
        }
      ],
      "source": [
        "convolution_autoencoder.fit(x_train, x_train,\n",
        "                epochs=50,\n",
        "                batch_size=256,\n",
        "                shuffle=True,\n",
        "                validation_data=(x_test, x_test))"
      ]
    },
    {
      "cell_type": "code",
      "execution_count": null,
      "metadata": {
        "colab": {
          "background_save": true
        },
        "id": "OQMXJLM32UD6"
      },
      "outputs": [],
      "source": [
        "convolution_autoencoder_images = convolution_autoencoder.predict(x_test)"
      ]
    },
    {
      "cell_type": "code",
      "execution_count": null,
      "metadata": {
        "colab": {
          "background_save": true,
          "base_uri": "https://localhost:8080/",
          "height": 247
        },
        "id": "h_IrVkia2be9",
        "outputId": "590257e4-3bff-4e55-df17-c7b36050f7ed"
      },
      "outputs": [
        {
          "data": {
            "image/png": "[encoded data removed]",
            "text/plain": [
              "<Figure size 1440x288 with 20 Axes>"
            ]
          },
          "metadata": {},
          "output_type": "display_data"
        }
      ],
      "source": [
        "n = 10  # how many digits we will display\n",
        "plt.figure(figsize=(20, 4))\n",
        "for i in range(n):\n",
        "    # display original\n",
        "    ax = plt.subplot(2, n, i + 1)\n",
        "    plt.imshow(x_test[i].reshape(28, 28))\n",
        "    plt.gray()\n",
        "    ax.get_xaxis().set_visible(False)\n",
        "    ax.get_yaxis().set_visible(False)\n",
        "\n",
        "    # display reconstruction\n",
        "    ax = plt.subplot(2, n, i + 1 + n)\n",
        "    plt.imshow(convolution_autoencoder_images[i].reshape(28, 28))\n",
        "    plt.gray()\n",
        "    ax.get_xaxis().set_visible(False)\n",
        "    ax.get_yaxis().set_visible(False)\n",
        "plt.show()"
      ]
    },
    {
      "cell_type": "markdown",
      "metadata": {
        "id": "y7P2FnjZ4VBY"
      },
      "source": [
        "# Image Denoising"
      ]
    },
    {
      "cell_type": "code",
      "execution_count": null,
      "metadata": {
        "id": "aqKXLZn92buE"
      },
      "outputs": [],
      "source": [
        "noise_factor = 0.5\n",
        "x_train_noisy = x_train + noise_factor * np.random.normal(loc=0.0, scale=1.0, size=x_train.shape) \n",
        "x_test_noisy = x_test + noise_factor * np.random.normal(loc=0.0, scale=1.0, size=x_test.shape) \n",
        "x_train_noisy = np.clip(x_train_noisy, 0., 1.)\n",
        "x_test_noisy = np.clip(x_test_noisy, 0., 1.)"
      ]
    },
    {
      "cell_type": "code",
      "execution_count": null,
      "metadata": {
        "colab": {
          "base_uri": "https://localhost:8080/"
        },
        "id": "EUYyhIi944QS",
        "outputId": "81e1f4bd-44a1-4f48-f0ba-5dcc4b40b959"
      },
      "outputs": [
        {
          "name": "stdout",
          "output_type": "stream",
          "text": [
            "Epoch 1/50\n",
            "235/235 [==============================] - 7s 20ms/step - loss: 0.2977 - val_loss: 0.2102\n",
            "Epoch 2/50\n",
            "235/235 [==============================] - 5s 20ms/step - loss: 0.1954 - val_loss: 0.1832\n",
            "Epoch 3/50\n",
            "235/235 [==============================] - 4s 16ms/step - loss: 0.1786 - val_loss: 0.1725\n",
            "Epoch 4/50\n",
            "235/235 [==============================] - 4s 16ms/step - loss: 0.1703 - val_loss: 0.1660\n",
            "Epoch 5/50\n",
            "235/235 [==============================] - 4s 16ms/step - loss: 0.1643 - val_loss: 0.1602\n",
            "Epoch 6/50\n",
            "235/235 [==============================] - 4s 16ms/step - loss: 0.1595 - val_loss: 0.1581\n",
            "Epoch 7/50\n",
            "235/235 [==============================] - 4s 16ms/step - loss: 0.1556 - val_loss: 0.1523\n",
            "Epoch 8/50\n",
            "235/235 [==============================] - 4s 16ms/step - loss: 0.1524 - val_loss: 0.1522\n",
            "Epoch 9/50\n",
            "235/235 [==============================] - 4s 16ms/step - loss: 0.1499 - val_loss: 0.1470\n",
            "Epoch 10/50\n",
            "235/235 [==============================] - 4s 16ms/step - loss: 0.1477 - val_loss: 0.1452\n",
            "Epoch 11/50\n",
            "235/235 [==============================] - 4s 16ms/step - loss: 0.1457 - val_loss: 0.1436\n",
            "Epoch 12/50\n",
            "235/235 [==============================] - 4s 16ms/step - loss: 0.1443 - val_loss: 0.1419\n",
            "Epoch 13/50\n",
            "235/235 [==============================] - 4s 16ms/step - loss: 0.1428 - val_loss: 0.1409\n",
            "Epoch 14/50\n",
            "235/235 [==============================] - 4s 16ms/step - loss: 0.1415 - val_loss: 0.1395\n",
            "Epoch 15/50\n",
            "235/235 [==============================] - 4s 16ms/step - loss: 0.1403 - val_loss: 0.1385\n",
            "Epoch 16/50\n",
            "235/235 [==============================] - 4s 16ms/step - loss: 0.1394 - val_loss: 0.1377\n",
            "Epoch 17/50\n",
            "235/235 [==============================] - 4s 16ms/step - loss: 0.1385 - val_loss: 0.1363\n",
            "Epoch 18/50\n",
            "235/235 [==============================] - 4s 16ms/step - loss: 0.1376 - val_loss: 0.1360\n",
            "Epoch 19/50\n",
            "235/235 [==============================] - 4s 16ms/step - loss: 0.1369 - val_loss: 0.1364\n",
            "Epoch 20/50\n",
            "235/235 [==============================] - 4s 16ms/step - loss: 0.1362 - val_loss: 0.1344\n",
            "Epoch 21/50\n",
            "235/235 [==============================] - 4s 16ms/step - loss: 0.1355 - val_loss: 0.1339\n",
            "Epoch 22/50\n",
            "235/235 [==============================] - 4s 16ms/step - loss: 0.1349 - val_loss: 0.1333\n",
            "Epoch 23/50\n",
            "235/235 [==============================] - 4s 17ms/step - loss: 0.1344 - val_loss: 0.1331\n",
            "Epoch 24/50\n",
            "235/235 [==============================] - 4s 17ms/step - loss: 0.1337 - val_loss: 0.1327\n",
            "Epoch 25/50\n",
            "235/235 [==============================] - 4s 16ms/step - loss: 0.1334 - val_loss: 0.1318\n",
            "Epoch 26/50\n",
            "235/235 [==============================] - 4s 16ms/step - loss: 0.1328 - val_loss: 0.1312\n",
            "Epoch 27/50\n",
            "235/235 [==============================] - 4s 16ms/step - loss: 0.1326 - val_loss: 0.1307\n",
            "Epoch 28/50\n",
            "235/235 [==============================] - 4s 16ms/step - loss: 0.1320 - val_loss: 0.1302\n",
            "Epoch 29/50\n",
            "235/235 [==============================] - 4s 16ms/step - loss: 0.1317 - val_loss: 0.1299\n",
            "Epoch 30/50\n",
            "235/235 [==============================] - 4s 16ms/step - loss: 0.1313 - val_loss: 0.1295\n",
            "Epoch 31/50\n",
            "235/235 [==============================] - 4s 16ms/step - loss: 0.1310 - val_loss: 0.1295\n",
            "Epoch 32/50\n",
            "235/235 [==============================] - 4s 16ms/step - loss: 0.1306 - val_loss: 0.1290\n",
            "Epoch 33/50\n",
            "235/235 [==============================] - 4s 16ms/step - loss: 0.1304 - val_loss: 0.1291\n",
            "Epoch 34/50\n",
            "235/235 [==============================] - 4s 16ms/step - loss: 0.1300 - val_loss: 0.1283\n",
            "Epoch 35/50\n",
            "235/235 [==============================] - 4s 16ms/step - loss: 0.1298 - val_loss: 0.1286\n",
            "Epoch 36/50\n",
            "235/235 [==============================] - 4s 16ms/step - loss: 0.1297 - val_loss: 0.1277\n",
            "Epoch 37/50\n",
            "235/235 [==============================] - 4s 16ms/step - loss: 0.1292 - val_loss: 0.1277\n",
            "Epoch 38/50\n",
            "235/235 [==============================] - 4s 16ms/step - loss: 0.1290 - val_loss: 0.1307\n",
            "Epoch 39/50\n",
            "235/235 [==============================] - 4s 16ms/step - loss: 0.1289 - val_loss: 0.1272\n",
            "Epoch 40/50\n",
            "235/235 [==============================] - 4s 16ms/step - loss: 0.1286 - val_loss: 0.1268\n",
            "Epoch 41/50\n",
            "235/235 [==============================] - 4s 16ms/step - loss: 0.1284 - val_loss: 0.1279\n",
            "Epoch 42/50\n",
            "235/235 [==============================] - 4s 16ms/step - loss: 0.1283 - val_loss: 0.1267\n",
            "Epoch 43/50\n",
            "235/235 [==============================] - 4s 16ms/step - loss: 0.1279 - val_loss: 0.1263\n",
            "Epoch 44/50\n",
            "235/235 [==============================] - 4s 16ms/step - loss: 0.1278 - val_loss: 0.1265\n",
            "Epoch 45/50\n",
            "235/235 [==============================] - 4s 16ms/step - loss: 0.1275 - val_loss: 0.1261\n",
            "Epoch 46/50\n",
            "235/235 [==============================] - 4s 16ms/step - loss: 0.1275 - val_loss: 0.1261\n",
            "Epoch 47/50\n",
            "235/235 [==============================] - 4s 16ms/step - loss: 0.1272 - val_loss: 0.1256\n",
            "Epoch 48/50\n",
            "235/235 [==============================] - 4s 16ms/step - loss: 0.1271 - val_loss: 0.1259\n",
            "Epoch 49/50\n",
            "235/235 [==============================] - 4s 16ms/step - loss: 0.1269 - val_loss: 0.1255\n",
            "Epoch 50/50\n",
            "235/235 [==============================] - 4s 16ms/step - loss: 0.1267 - val_loss: 0.1254\n"
          ]
        },
        {
          "data": {
            "text/plain": [
              "<keras.callbacks.History at 0x7f29e019c590>"
            ]
          },
          "execution_count": 4,
          "metadata": {},
          "output_type": "execute_result"
        }
      ],
      "source": [
        "input_img = tf.keras.layers.Input(shape=(28, 28, 1))  \n",
        "\n",
        "x = tf.keras.layers.Conv2D(16, (3, 3), activation='relu', padding='same')(input_img)\n",
        "x = tf.keras.layers.MaxPooling2D((2, 2), padding='same')(x)\n",
        "x = tf.keras.layers.Conv2D(8, (3, 3), activation='relu', padding='same')(x)\n",
        "x = tf.keras.layers.MaxPooling2D((2, 2), padding='same')(x)\n",
        "x = tf.keras.layers.Conv2D(8, (3, 3), activation='relu', padding='same')(x)\n",
        "encoded = tf.keras.layers.MaxPooling2D((2, 2), padding='same')(x)\n",
        "\n",
        "\n",
        "x = tf.keras.layers.Conv2D(8, (3, 3), activation='relu', padding='same')(encoded)\n",
        "x = tf.keras.layers.UpSampling2D((2, 2))(x)\n",
        "x = tf.keras.layers.Conv2D(8, (3, 3), activation='relu', padding='same')(x)\n",
        "x = tf.keras.layers.UpSampling2D((2, 2))(x)\n",
        "x = tf.keras.layers.Conv2D(16, (3, 3), activation='relu')(x)\n",
        "x = tf.keras.layers.UpSampling2D((2, 2))(x)\n",
        "decoded = tf.keras.layers.Conv2D(1, (3, 3), activation='sigmoid', padding='same')(x)\n",
        "\n",
        "denoising_convolution_autoencoder = tf.keras.Model(input_img, decoded)\n",
        "\n",
        "denoising_convolution_autoencoder.compile(optimizer='adam', loss='binary_crossentropy')\n",
        "denoising_convolution_autoencoder.fit(x_train_noisy, x_train,\n",
        "                epochs=50,\n",
        "                batch_size=256,\n",
        "                shuffle=True,\n",
        "                validation_data=(x_test_noisy, x_test))"
      ]
    },
    {
      "cell_type": "code",
      "execution_count": null,
      "metadata": {
        "colab": {
          "base_uri": "https://localhost:8080/",
          "height": 247
        },
        "id": "qyvqhOvP5kHi",
        "outputId": "8b843d69-b2cc-4af3-bb7b-af40f25fa000"
      },
      "outputs": [
        {
          "data": {
            "image/png": "[encoded data removed]",
            "text/plain": [
              "<Figure size 1440x288 with 20 Axes>"
            ]
          },
          "metadata": {},
          "output_type": "display_data"
        }
      ],
      "source": [
        "denoising_convolution_autoencoder_images = denoising_convolution_autoencoder.predict(x_test_noisy)\n",
        "n = 10  # how many digits we will display\n",
        "plt.figure(figsize=(20, 4))\n",
        "for i in range(n):\n",
        "    # display original\n",
        "    ax = plt.subplot(2, n, i + 1)\n",
        "    plt.imshow(x_test_noisy[i].reshape(28, 28))\n",
        "    plt.gray()\n",
        "    ax.get_xaxis().set_visible(False)\n",
        "    ax.get_yaxis().set_visible(False)\n",
        "\n",
        "    # display reconstruction\n",
        "    ax = plt.subplot(2, n, i + 1 + n)\n",
        "    plt.imshow(denoising_convolution_autoencoder_images[i].reshape(28, 28))\n",
        "    plt.gray()\n",
        "    ax.get_xaxis().set_visible(False)\n",
        "    ax.get_yaxis().set_visible(False)\n",
        "plt.show()"
      ]
    },
    {
      "cell_type": "markdown",
      "metadata": {
        "id": "lRwT4TS0906q"
      },
      "source": [
        "# no pre-training"
      ]
    },
    {
      "cell_type": "code",
      "execution_count": 3,
      "metadata": {
        "id": "Gq9f0mKABTdN"
      },
      "outputs": [],
      "source": [
        "(x_train, y_train), (x_test, y_test) = mnist.load_data()\n",
        "\n",
        "x_train = x_train.astype('float32') / 255.\n",
        "x_test = x_test.astype('float32') / 255.\n",
        "y_train = tf.keras.utils.to_categorical(y_train)\n",
        "y_test = tf.keras.utils.to_categorical(y_test)\n",
        "\n",
        "#Reshape the images \n",
        "x_train =  x_train.reshape([-1, 784])\n",
        "x_test = x_test.reshape([-1, 784])"
      ]
    },
    {
      "cell_type": "code",
      "source": [
        "y_train.shape"
      ],
      "metadata": {
        "colab": {
          "base_uri": "https://localhost:8080/"
        },
        "id": "zyck4d_fH31F",
        "outputId": "b1898b94-3c9c-4fe7-a92c-8390900aaa12"
      },
      "execution_count": 6,
      "outputs": [
        {
          "output_type": "execute_result",
          "data": {
            "text/plain": [
              "(60000, 10)"
            ]
          },
          "metadata": {},
          "execution_count": 6
        }
      ]
    },
    {
      "cell_type": "code",
      "execution_count": 9,
      "metadata": {
        "colab": {
          "base_uri": "https://localhost:8080/"
        },
        "id": "WHk7OP837UMk",
        "outputId": "0ed9f9ec-6a86-46a0-ffea-f6f17cf8460e"
      },
      "outputs": [
        {
          "output_type": "stream",
          "name": "stdout",
          "text": [
            "Epoch 1/50\n",
            "235/235 [==============================] - 2s 4ms/step - loss: 0.3134\n",
            "Epoch 2/50\n",
            "235/235 [==============================] - 1s 4ms/step - loss: 0.1372\n",
            "Epoch 3/50\n",
            "235/235 [==============================] - 1s 4ms/step - loss: 0.1044\n",
            "Epoch 4/50\n",
            "235/235 [==============================] - 1s 4ms/step - loss: 0.0907\n",
            "Epoch 5/50\n",
            "235/235 [==============================] - 1s 4ms/step - loss: 0.0833\n",
            "Epoch 6/50\n",
            "235/235 [==============================] - 1s 4ms/step - loss: 0.0786\n",
            "Epoch 7/50\n",
            "235/235 [==============================] - 1s 3ms/step - loss: 0.0752\n",
            "Epoch 8/50\n",
            "235/235 [==============================] - 1s 4ms/step - loss: 0.0727\n",
            "Epoch 9/50\n",
            "235/235 [==============================] - 1s 4ms/step - loss: 0.0705\n",
            "Epoch 10/50\n",
            "235/235 [==============================] - 1s 4ms/step - loss: 0.0662\n",
            "Epoch 11/50\n",
            "235/235 [==============================] - 1s 4ms/step - loss: 0.0628\n",
            "Epoch 12/50\n",
            "235/235 [==============================] - 1s 3ms/step - loss: 0.0607\n",
            "Epoch 13/50\n",
            "235/235 [==============================] - 1s 3ms/step - loss: 0.0592\n",
            "Epoch 14/50\n",
            "235/235 [==============================] - 1s 3ms/step - loss: 0.0580\n",
            "Epoch 15/50\n",
            "235/235 [==============================] - 1s 4ms/step - loss: 0.0571\n",
            "Epoch 16/50\n",
            "235/235 [==============================] - 1s 4ms/step - loss: 0.0563\n",
            "Epoch 17/50\n",
            "235/235 [==============================] - 1s 4ms/step - loss: 0.0556\n",
            "Epoch 18/50\n",
            "235/235 [==============================] - 1s 4ms/step - loss: 0.0550\n",
            "Epoch 19/50\n",
            "235/235 [==============================] - 1s 4ms/step - loss: 0.0539\n",
            "Epoch 20/50\n",
            "235/235 [==============================] - 1s 4ms/step - loss: 0.0526\n",
            "Epoch 21/50\n",
            "235/235 [==============================] - 1s 4ms/step - loss: 0.0516\n",
            "Epoch 22/50\n",
            "235/235 [==============================] - 1s 4ms/step - loss: 0.0508\n",
            "Epoch 23/50\n",
            "235/235 [==============================] - 1s 4ms/step - loss: 0.0501\n",
            "Epoch 24/50\n",
            "235/235 [==============================] - 1s 4ms/step - loss: 0.0495\n",
            "Epoch 25/50\n",
            "235/235 [==============================] - 1s 4ms/step - loss: 0.0490\n",
            "Epoch 26/50\n",
            "235/235 [==============================] - 1s 4ms/step - loss: 0.0485\n",
            "Epoch 27/50\n",
            "235/235 [==============================] - 1s 4ms/step - loss: 0.0481\n",
            "Epoch 28/50\n",
            "235/235 [==============================] - 1s 3ms/step - loss: 0.0478\n",
            "Epoch 29/50\n",
            "235/235 [==============================] - 1s 3ms/step - loss: 0.0475\n",
            "Epoch 30/50\n",
            "235/235 [==============================] - 1s 4ms/step - loss: 0.0471\n",
            "Epoch 31/50\n",
            "235/235 [==============================] - 1s 4ms/step - loss: 0.0469\n",
            "Epoch 32/50\n",
            "235/235 [==============================] - 1s 3ms/step - loss: 0.0466\n",
            "Epoch 33/50\n",
            "235/235 [==============================] - 1s 4ms/step - loss: 0.0464\n",
            "Epoch 34/50\n",
            "235/235 [==============================] - 1s 4ms/step - loss: 0.0461\n",
            "Epoch 35/50\n",
            "235/235 [==============================] - 1s 3ms/step - loss: 0.0459\n",
            "Epoch 36/50\n",
            "235/235 [==============================] - 1s 4ms/step - loss: 0.0457\n",
            "Epoch 37/50\n",
            "235/235 [==============================] - 1s 4ms/step - loss: 0.0454\n",
            "Epoch 38/50\n",
            "235/235 [==============================] - 1s 3ms/step - loss: 0.0452\n",
            "Epoch 39/50\n",
            "235/235 [==============================] - 1s 4ms/step - loss: 0.0451\n",
            "Epoch 40/50\n",
            "235/235 [==============================] - 1s 4ms/step - loss: 0.0449\n",
            "Epoch 41/50\n",
            "235/235 [==============================] - 1s 4ms/step - loss: 0.0447\n",
            "Epoch 42/50\n",
            "235/235 [==============================] - 1s 4ms/step - loss: 0.0445\n",
            "Epoch 43/50\n",
            "235/235 [==============================] - 1s 4ms/step - loss: 0.0444\n",
            "Epoch 44/50\n",
            "235/235 [==============================] - 1s 4ms/step - loss: 0.0442\n",
            "Epoch 45/50\n",
            "235/235 [==============================] - 1s 4ms/step - loss: 0.0441\n",
            "Epoch 46/50\n",
            "235/235 [==============================] - 1s 4ms/step - loss: 0.0440\n",
            "Epoch 47/50\n",
            "235/235 [==============================] - 1s 4ms/step - loss: 0.0439\n",
            "Epoch 48/50\n",
            "235/235 [==============================] - 1s 3ms/step - loss: 0.0437\n",
            "Epoch 49/50\n",
            "235/235 [==============================] - 1s 4ms/step - loss: 0.0436\n",
            "Epoch 50/50\n",
            "235/235 [==============================] - 1s 4ms/step - loss: 0.0435\n"
          ]
        },
        {
          "output_type": "execute_result",
          "data": {
            "text/plain": [
              "<keras.callbacks.History at 0x7f9842229a10>"
            ]
          },
          "metadata": {},
          "execution_count": 9
        }
      ],
      "source": [
        "latent_dimension = 10\n",
        "num_classes = y_train.shape[1]\n",
        "image_input = tf.keras.Input((784,))  # flattened 28x28 MNIST images\n",
        "encoding = tf.keras.layers.Dense(latent_dimension, activation='relu')(image_input)\n",
        "#lets add a classifier on encoder\n",
        "logits = tf.keras.layers.Dense(num_classes,activation='softmax')(encoding)\n",
        "# classifier = tf.keras.Model(image_input, logits)\n",
        "decoded = tf.keras.layers.Dense(784, activation='sigmoid')(encoding)\n",
        "classifier_autoencoder = tf.keras.Model(image_input, logits)\n",
        "classifier_autoencoder.compile(optimizer='adam', loss='binary_crossentropy')\n",
        "classifier_autoencoder.fit(x_train, y_train,\n",
        "                epochs=50,\n",
        "                batch_size=256,\n",
        "                shuffle=True)"
      ]
    },
    {
      "cell_type": "code",
      "execution_count": null,
      "metadata": {
        "id": "sKATeiNeCNp3"
      },
      "outputs": [],
      "source": [
        ""
      ]
    }
  ],
  "metadata": {
    "accelerator": "GPU",
    "colab": {
      "name": "IDL_Assignment_9_SathyaSudhaMurugan.ipynb",
      "provenance": [],
      "authorship_tag": "ABX9TyNJm+I5pXpcP/Ns3J7Hfs8m",
      "include_colab_link": true
    },
    "kernelspec": {
      "display_name": "Python 3",
      "name": "python3"
    },
    "language_info": {
      "name": "python"
    }
  },
  "nbformat": 4,
  "nbformat_minor": 0
}
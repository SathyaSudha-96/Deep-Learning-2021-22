{
  "nbformat": 4,
  "nbformat_minor": 0,
  "metadata": {
    "colab": {
      "name": "IDL_Assignment_1.ipynb",
      "provenance": [],
      "mount_file_id": "1ZHXp7VKKw2vb41Ezpz1CZCzcCf_MQAKY",
      "authorship_tag": "ABX9TyP43NJo0eWX7Q0AAzWy097m",
      "include_colab_link": true
    },
    "kernelspec": {
      "name": "python3",
      "display_name": "Python 3"
    },
    "language_info": {
      "name": "python"
    }
  },
  "cells": [
    {
      "cell_type": "markdown",
      "metadata": {
        "id": "view-in-github",
        "colab_type": "text"
      },
      "source": [
        "<a href=\"https://colab.research.google.com/github/SathyaSudha-96/Deep-Leraning-2021-22/blob/main/IDL_Assignment_1.ipynb\" target=\"_parent\"><img src=\"https://colab.research.google.com/assets/colab-badge.svg\" alt=\"Open In Colab\"/></a>"
      ]
    },
    {
      "cell_type": "markdown",
      "metadata": {
        "id": "jDPJJVelbSKm"
      },
      "source": [
        "Sathya Sudha Murugan(229638)"
      ]
    },
    {
      "cell_type": "code",
      "metadata": {
        "colab": {
          "base_uri": "https://localhost:8080/"
        },
        "id": "A3VD3j4ebt7q",
        "outputId": "be585465-7758-453d-b63f-f2cc3caa644f"
      },
      "source": [
        "!pip install tensorflow==2.0"
      ],
      "execution_count": 1,
      "outputs": [
        {
          "output_type": "stream",
          "name": "stdout",
          "text": [
            "Requirement already satisfied: tensorflow==2.0 in /usr/local/lib/python3.7/dist-packages (2.0.0)\n",
            "Requirement already satisfied: six>=1.10.0 in /usr/local/lib/python3.7/dist-packages (from tensorflow==2.0) (1.15.0)\n",
            "Requirement already satisfied: keras-applications>=1.0.8 in /usr/local/lib/python3.7/dist-packages (from tensorflow==2.0) (1.0.8)\n",
            "Requirement already satisfied: numpy<2.0,>=1.16.0 in /usr/local/lib/python3.7/dist-packages (from tensorflow==2.0) (1.19.5)\n",
            "Requirement already satisfied: termcolor>=1.1.0 in /usr/local/lib/python3.7/dist-packages (from tensorflow==2.0) (1.1.0)\n",
            "Requirement already satisfied: keras-preprocessing>=1.0.5 in /usr/local/lib/python3.7/dist-packages (from tensorflow==2.0) (1.1.2)\n",
            "Requirement already satisfied: wheel>=0.26 in /usr/local/lib/python3.7/dist-packages (from tensorflow==2.0) (0.37.0)\n",
            "Requirement already satisfied: absl-py>=0.7.0 in /usr/local/lib/python3.7/dist-packages (from tensorflow==2.0) (0.12.0)\n",
            "Requirement already satisfied: tensorboard<2.1.0,>=2.0.0 in /usr/local/lib/python3.7/dist-packages (from tensorflow==2.0) (2.0.2)\n",
            "Requirement already satisfied: gast==0.2.2 in /usr/local/lib/python3.7/dist-packages (from tensorflow==2.0) (0.2.2)\n",
            "Requirement already satisfied: tensorflow-estimator<2.1.0,>=2.0.0 in /usr/local/lib/python3.7/dist-packages (from tensorflow==2.0) (2.0.1)\n",
            "Requirement already satisfied: opt-einsum>=2.3.2 in /usr/local/lib/python3.7/dist-packages (from tensorflow==2.0) (3.3.0)\n",
            "Requirement already satisfied: protobuf>=3.6.1 in /usr/local/lib/python3.7/dist-packages (from tensorflow==2.0) (3.17.3)\n",
            "Requirement already satisfied: google-pasta>=0.1.6 in /usr/local/lib/python3.7/dist-packages (from tensorflow==2.0) (0.2.0)\n",
            "Requirement already satisfied: wrapt>=1.11.1 in /usr/local/lib/python3.7/dist-packages (from tensorflow==2.0) (1.12.1)\n",
            "Requirement already satisfied: astor>=0.6.0 in /usr/local/lib/python3.7/dist-packages (from tensorflow==2.0) (0.8.1)\n",
            "Requirement already satisfied: grpcio>=1.8.6 in /usr/local/lib/python3.7/dist-packages (from tensorflow==2.0) (1.41.0)\n",
            "Requirement already satisfied: h5py in /usr/local/lib/python3.7/dist-packages (from keras-applications>=1.0.8->tensorflow==2.0) (3.1.0)\n",
            "Requirement already satisfied: google-auth-oauthlib<0.5,>=0.4.1 in /usr/local/lib/python3.7/dist-packages (from tensorboard<2.1.0,>=2.0.0->tensorflow==2.0) (0.4.6)\n",
            "Requirement already satisfied: markdown>=2.6.8 in /usr/local/lib/python3.7/dist-packages (from tensorboard<2.1.0,>=2.0.0->tensorflow==2.0) (3.3.4)\n",
            "Requirement already satisfied: requests<3,>=2.21.0 in /usr/local/lib/python3.7/dist-packages (from tensorboard<2.1.0,>=2.0.0->tensorflow==2.0) (2.23.0)\n",
            "Requirement already satisfied: werkzeug>=0.11.15 in /usr/local/lib/python3.7/dist-packages (from tensorboard<2.1.0,>=2.0.0->tensorflow==2.0) (1.0.1)\n",
            "Requirement already satisfied: google-auth<2,>=1.6.3 in /usr/local/lib/python3.7/dist-packages (from tensorboard<2.1.0,>=2.0.0->tensorflow==2.0) (1.35.0)\n",
            "Requirement already satisfied: setuptools>=41.0.0 in /usr/local/lib/python3.7/dist-packages (from tensorboard<2.1.0,>=2.0.0->tensorflow==2.0) (57.4.0)\n",
            "Requirement already satisfied: rsa<5,>=3.1.4 in /usr/local/lib/python3.7/dist-packages (from google-auth<2,>=1.6.3->tensorboard<2.1.0,>=2.0.0->tensorflow==2.0) (4.7.2)\n",
            "Requirement already satisfied: cachetools<5.0,>=2.0.0 in /usr/local/lib/python3.7/dist-packages (from google-auth<2,>=1.6.3->tensorboard<2.1.0,>=2.0.0->tensorflow==2.0) (4.2.4)\n",
            "Requirement already satisfied: pyasn1-modules>=0.2.1 in /usr/local/lib/python3.7/dist-packages (from google-auth<2,>=1.6.3->tensorboard<2.1.0,>=2.0.0->tensorflow==2.0) (0.2.8)\n",
            "Requirement already satisfied: requests-oauthlib>=0.7.0 in /usr/local/lib/python3.7/dist-packages (from google-auth-oauthlib<0.5,>=0.4.1->tensorboard<2.1.0,>=2.0.0->tensorflow==2.0) (1.3.0)\n",
            "Requirement already satisfied: importlib-metadata in /usr/local/lib/python3.7/dist-packages (from markdown>=2.6.8->tensorboard<2.1.0,>=2.0.0->tensorflow==2.0) (4.8.1)\n",
            "Requirement already satisfied: pyasn1<0.5.0,>=0.4.6 in /usr/local/lib/python3.7/dist-packages (from pyasn1-modules>=0.2.1->google-auth<2,>=1.6.3->tensorboard<2.1.0,>=2.0.0->tensorflow==2.0) (0.4.8)\n",
            "Requirement already satisfied: urllib3!=1.25.0,!=1.25.1,<1.26,>=1.21.1 in /usr/local/lib/python3.7/dist-packages (from requests<3,>=2.21.0->tensorboard<2.1.0,>=2.0.0->tensorflow==2.0) (1.24.3)\n",
            "Requirement already satisfied: idna<3,>=2.5 in /usr/local/lib/python3.7/dist-packages (from requests<3,>=2.21.0->tensorboard<2.1.0,>=2.0.0->tensorflow==2.0) (2.10)\n",
            "Requirement already satisfied: certifi>=2017.4.17 in /usr/local/lib/python3.7/dist-packages (from requests<3,>=2.21.0->tensorboard<2.1.0,>=2.0.0->tensorflow==2.0) (2021.5.30)\n",
            "Requirement already satisfied: chardet<4,>=3.0.2 in /usr/local/lib/python3.7/dist-packages (from requests<3,>=2.21.0->tensorboard<2.1.0,>=2.0.0->tensorflow==2.0) (3.0.4)\n",
            "Requirement already satisfied: oauthlib>=3.0.0 in /usr/local/lib/python3.7/dist-packages (from requests-oauthlib>=0.7.0->google-auth-oauthlib<0.5,>=0.4.1->tensorboard<2.1.0,>=2.0.0->tensorflow==2.0) (3.1.1)\n",
            "Requirement already satisfied: cached-property in /usr/local/lib/python3.7/dist-packages (from h5py->keras-applications>=1.0.8->tensorflow==2.0) (1.5.2)\n",
            "Requirement already satisfied: typing-extensions>=3.6.4 in /usr/local/lib/python3.7/dist-packages (from importlib-metadata->markdown>=2.6.8->tensorboard<2.1.0,>=2.0.0->tensorflow==2.0) (3.7.4.3)\n",
            "Requirement already satisfied: zipp>=0.5 in /usr/local/lib/python3.7/dist-packages (from importlib-metadata->markdown>=2.6.8->tensorboard<2.1.0,>=2.0.0->tensorflow==2.0) (3.6.0)\n"
          ]
        }
      ]
    },
    {
      "cell_type": "code",
      "metadata": {
        "id": "j6nvsOAIbdlA"
      },
      "source": [
        "import tensorflow as tf\n",
        "import matplotlib.pyplot as plt\n",
        "import numpy as np"
      ],
      "execution_count": 2,
      "outputs": []
    },
    {
      "cell_type": "code",
      "metadata": {
        "id": "v9adFT3ifTn0",
        "colab": {
          "base_uri": "https://localhost:8080/"
        },
        "outputId": "b4b88bdc-9711-4725-ef17-2ddacdfd18f0"
      },
      "source": [
        "print(tf. __version__)"
      ],
      "execution_count": 3,
      "outputs": [
        {
          "output_type": "stream",
          "name": "stdout",
          "text": [
            "2.0.0\n"
          ]
        }
      ]
    },
    {
      "cell_type": "code",
      "metadata": {
        "id": "CVLVPty-yW3i"
      },
      "source": [
        "class MNISTDataset:\n",
        "    \"\"\"'Bare minimum' class to wrap MNIST numpy arrays into a dataset.\"\"\"\n",
        "    def __init__(self, train_imgs, train_lbs, test_imgs, test_lbls, batch_size,\n",
        "                 to01=True, shuffle=True, seed=None):\n",
        "        \"\"\"\n",
        "        Use seed optionally to always get the same shuffling (-> reproducible\n",
        "        results).\n",
        "        \"\"\"\n",
        "        self.batch_size = batch_size\n",
        "        self.train_data = train_imgs\n",
        "        self.train_labels = train_lbs.astype(np.int32)\n",
        "        self.test_data = test_imgs\n",
        "        self.test_labels = test_lbls.astype(np.int32)\n",
        "\n",
        "        if to01:\n",
        "            # int in [0, 255] -> float in [0, 1]\n",
        "            self.train_data = self.train_data.astype(np.float32) / 255\n",
        "            self.test_data = self.test_data.astype(np.float32) / 255\n",
        "\n",
        "        self.size = self.train_data.shape[0]\n",
        "\n",
        "        if seed:\n",
        "            np.random.seed(seed)\n",
        "        if shuffle:\n",
        "            self.shuffle_train()\n",
        "        self.shuffle = shuffle\n",
        "        self.current_pos = 0\n",
        "\n",
        "    def next_batch(self):\n",
        "        \"\"\"Either gets the next batch, or optionally shuffles and starts a\n",
        "        new epoch.\"\"\"\n",
        "        end_pos = self.current_pos + self.batch_size\n",
        "        if end_pos < self.size:\n",
        "            batch = (self.train_data[self.current_pos:end_pos],\n",
        "                     self.train_labels[self.current_pos:end_pos])\n",
        "            self.current_pos += self.batch_size\n",
        "        else:\n",
        "            # we return what's left (-> possibly smaller batch!) and prepare\n",
        "            # the start of a new epoch\n",
        "            batch = (self.train_data[self.current_pos:self.size],\n",
        "                     self.train_labels[self.current_pos:self.size])\n",
        "            if self.shuffle:\n",
        "                self.shuffle_train()\n",
        "            self.current_pos = 0\n",
        "            print(\"Starting new epoch...\")\n",
        "        return batch\n",
        "\n",
        "    def shuffle_train(self):\n",
        "        shuffled_inds = np.arange(self.train_data.shape[0])\n",
        "        np.random.shuffle(shuffled_inds)\n",
        "        self.train_data = self.train_data[shuffled_inds]\n",
        "        self.train_labels = self.train_labels[shuffled_inds]\n"
      ],
      "execution_count": 4,
      "outputs": []
    },
    {
      "cell_type": "code",
      "metadata": {
        "id": "ytxT_EGvbcsB"
      },
      "source": [
        "mnist = tf.keras.datasets.mnist\n",
        "(train_images, train_labels), (test_images, test_labels) = mnist.load_data()"
      ],
      "execution_count": 5,
      "outputs": []
    },
    {
      "cell_type": "code",
      "metadata": {
        "colab": {
          "base_uri": "https://localhost:8080/"
        },
        "id": "rOMLwdr6mqhA",
        "outputId": "db422832-42fa-4b83-a401-533c6c0a6943"
      },
      "source": [
        "print('Shape of Training Images',train_images.shape)\n",
        "print('Shape of Training Labels',train_labels.shape)\n",
        "print('Shape of Testing Images',test_images.shape)\n",
        "print('Shape of Testing Labels',test_labels.shape)"
      ],
      "execution_count": 6,
      "outputs": [
        {
          "output_type": "stream",
          "name": "stdout",
          "text": [
            "Shape of Training Images (60000, 28, 28)\n",
            "Shape of Training Labels (60000,)\n",
            "Shape of Testing Images (10000, 28, 28)\n",
            "Shape of Testing Labels (10000,)\n"
          ]
        }
      ]
    },
    {
      "cell_type": "code",
      "metadata": {
        "colab": {
          "base_uri": "https://localhost:8080/",
          "height": 301
        },
        "id": "Pxe7vPsXYijD",
        "outputId": "19baab95-9577-42f4-c5fc-3f761ccfd698"
      },
      "source": [
        "print(train_labels[100])\n",
        "plt.imshow(train_images[100])"
      ],
      "execution_count": 7,
      "outputs": [
        {
          "output_type": "stream",
          "name": "stdout",
          "text": [
            "5\n"
          ]
        },
        {
          "output_type": "execute_result",
          "data": {
            "text/plain": [
              "<matplotlib.image.AxesImage at 0x7fd823762f50>"
            ]
          },
          "metadata": {},
          "execution_count": 7
        },
        {
          "output_type": "display_data",
          "data": {
            "image/png": "[encoded data removed]",
            "text/plain": [
              "<Figure size 432x288 with 1 Axes>"
            ]
          },
          "metadata": {
            "needs_background": "light"
          }
        }
      ]
    },
    {
      "cell_type": "code",
      "metadata": {
        "id": "ZdfK-bbZycXc"
      },
      "source": [
        "data = MNISTDataset(train_images.reshape([-1, 784]), train_labels, \n",
        "                    test_images.reshape([-1, 784]), test_labels,\n",
        "                    batch_size=128)"
      ],
      "execution_count": 8,
      "outputs": []
    },
    {
      "cell_type": "code",
      "metadata": {
        "id": "OHAE9uLny7d8"
      },
      "source": [
        "#Initializing Weights and Biases\n",
        "w1 = tf.Variable(tf.random.normal([784, 256], mean = 0.0, stddev = 1.0, dtype=tf.dtypes.float32, seed=44))\n",
        "b1 = tf.Variable(tf.random.normal([256,], mean = 0.0, stddev = 1.0, dtype=tf.dtypes.float32, seed=44)) \n",
        "w2 = tf.Variable(tf.random.normal([256,128], mean = 0.0, stddev = 1.0, dtype=tf.dtypes.float32, seed=44))\n",
        "b2 = tf.Variable(tf.random.normal([128,], mean = 0.0, stddev = 1.0, dtype=tf.dtypes.float32, seed=44))  \n",
        "w3 = tf.Variable(tf.random.normal([128,10], mean = 0.0, stddev = 1.0, dtype=tf.dtypes.float32, seed=44))\n",
        "b3 = tf.Variable(tf.random.normal([10,], mean = 0.0, stddev = 1.0, dtype=tf.dtypes.float32, seed=44))\n",
        "#w4 = tf.Variable(tf.random.normal([64,10], mean = 0.0, stddev = 1.0, dtype=tf.dtypes.float32, seed=44))\n",
        "#b4 = tf.Variable(tf.random.normal([10,], mean = 0.0, stddev = 1.0, dtype=tf.dtypes.float32, seed=44))"
      ],
      "execution_count": 9,
      "outputs": []
    },
    {
      "cell_type": "code",
      "metadata": {
        "colab": {
          "base_uri": "https://localhost:8080/"
        },
        "id": "uYts7d5j0IDE",
        "outputId": "49d1ee29-c9c4-4c55-973f-16cd72722d82"
      },
      "source": [
        "#Training\n",
        "epochs = 3000\n",
        "learning_rate = 0.1\n",
        "tanh_loss = []\n",
        "tanh_accuracy = []\n",
        "step = []\n",
        "for epoch in range(epochs):\n",
        "    img_batch, lbl_batch = data.next_batch()\n",
        "    with tf.GradientTape(persistent= True) as tape:\n",
        "        hidden_Layer1 = tf.nn.tanh(tf.matmul(img_batch, w1) + b1)\n",
        "        hidden_Layer2 = tf.nn.tanh(tf.matmul(hidden_Layer1, w2) + b2)\n",
        "        #hidden_Layer3 = tf.nn.tanh(tf.matmul(hidden_Layer2, w3) + b3)\n",
        "        logits = tf.matmul(hidden_Layer2, w3) + b3\n",
        "        current_Loss = tf.reduce_mean(tf.nn.sparse_softmax_cross_entropy_with_logits(\n",
        "            logits=logits, labels=lbl_batch))\n",
        "        \n",
        "    grads1 = tape.gradient(current_Loss, [w1, b1])\n",
        "    grads2 = tape.gradient(current_Loss, [w2, b2])\n",
        "    grads3 = tape.gradient(current_Loss, [w3, b3])\n",
        "    #grads4 = tape.gradient(current_Loss, [w4,b4])\n",
        "    w1.assign_sub(learning_rate * grads1[0])\n",
        "    b1.assign_sub(learning_rate * grads1[1])\n",
        "    w2.assign_sub(learning_rate  * grads2[0])\n",
        "    b2.assign_sub(learning_rate * grads2[1])\n",
        "    w3.assign_sub(learning_rate  * grads3[0])\n",
        "    b3.assign_sub(learning_rate * grads3[1])\n",
        "    #w4.assign_sub(learning_rate  * grads4[0])\n",
        "    #b4.assign_sub(learning_rate * grads4[1])\n",
        "\n",
        "    \n",
        "    if not epoch % 100:\n",
        "        preds = tf.argmax(logits, axis=1, output_type=tf.int32)\n",
        "        acc = tf.reduce_mean(tf.cast(tf.equal(preds, lbl_batch),\n",
        "                             tf.float32))\n",
        "        step.append(epoch+100)\n",
        "        tanh_loss.append(current_Loss)\n",
        "        tanh_accuracy.append(acc)\n",
        "        print(\"Loss: {} Accuracy: {}\".format(current_Loss, acc))"
      ],
      "execution_count": 10,
      "outputs": [
        {
          "output_type": "stream",
          "name": "stdout",
          "text": [
            "Loss: 17.383068084716797 Accuracy: 0.09375\n",
            "Loss: 3.4487266540527344 Accuracy: 0.546875\n",
            "Loss: 2.5609078407287598 Accuracy: 0.671875\n",
            "Loss: 1.38130784034729 Accuracy: 0.828125\n",
            "Loss: 1.68168306350708 Accuracy: 0.7421875\n",
            "Starting new epoch...\n",
            "Loss: 1.9017690420150757 Accuracy: 0.7265625\n",
            "Loss: 1.7373988628387451 Accuracy: 0.75\n",
            "Loss: 1.501988410949707 Accuracy: 0.75\n",
            "Loss: 1.0802638530731201 Accuracy: 0.78125\n",
            "Loss: 1.0052342414855957 Accuracy: 0.8359375\n",
            "Starting new epoch...\n",
            "Loss: 0.735181450843811 Accuracy: 0.8515625\n",
            "Loss: 1.0244550704956055 Accuracy: 0.8125\n",
            "Loss: 0.6156660318374634 Accuracy: 0.8203125\n",
            "Loss: 0.7803630232810974 Accuracy: 0.8671875\n",
            "Loss: 0.7293034195899963 Accuracy: 0.8359375\n",
            "Starting new epoch...\n",
            "Loss: 0.635130763053894 Accuracy: 0.890625\n",
            "Loss: 0.7152343988418579 Accuracy: 0.875\n",
            "Loss: 0.9804427027702332 Accuracy: 0.8203125\n",
            "Loss: 0.4834998846054077 Accuracy: 0.8984375\n",
            "Starting new epoch...\n",
            "Loss: 0.8084195852279663 Accuracy: 0.8515625\n",
            "Loss: 0.555001974105835 Accuracy: 0.8515625\n",
            "Loss: 0.4347899556159973 Accuracy: 0.890625\n",
            "Loss: 0.6184322834014893 Accuracy: 0.859375\n",
            "Loss: 0.44170403480529785 Accuracy: 0.8828125\n",
            "Starting new epoch...\n",
            "Loss: 0.4863876700401306 Accuracy: 0.90625\n",
            "Loss: 0.4205975830554962 Accuracy: 0.8984375\n",
            "Loss: 0.5916930437088013 Accuracy: 0.859375\n",
            "Loss: 0.43239808082580566 Accuracy: 0.8671875\n",
            "Loss: 0.3292351961135864 Accuracy: 0.9140625\n",
            "Starting new epoch...\n",
            "Loss: 0.4208482503890991 Accuracy: 0.90625\n"
          ]
        }
      ]
    },
    {
      "cell_type": "code",
      "metadata": {
        "colab": {
          "base_uri": "https://localhost:8080/"
        },
        "id": "BvfKOepa85JV",
        "outputId": "22e5e511-2d3c-408c-906b-38c5fdf6b3cb"
      },
      "source": [
        "#Validation/testing\n",
        "hid_Layer1 = tf.nn.tanh(tf.matmul(data.test_data, w1) + b1)\n",
        "hid_Layer2 = tf.nn.tanh(tf.matmul(hid_Layer1, w2) + b2)\n",
        "#hid_Layer3 = tf.nn.tanh(tf.matmul(hid_Layer2, w3) + b3)\n",
        "logit = tf.matmul(hid_Layer2, w3) + b3\n",
        "current_Loss = tf.reduce_mean(tf.nn.sparse_softmax_cross_entropy_with_logits(logits=logit, labels=data.test_labels))\n",
        "preds = tf.argmax(logit, axis=1, output_type=tf.int32)\n",
        "acc = tf.reduce_mean(tf.cast(tf.equal(preds, data.test_labels), tf.float32))\n",
        "print(\"Loss: {} Accuracy: {}\".format(current_Loss, acc))"
      ],
      "execution_count": 11,
      "outputs": [
        {
          "output_type": "stream",
          "name": "stdout",
          "text": [
            "Loss: 0.6973135471343994 Accuracy: 0.8496999740600586\n"
          ]
        }
      ]
    },
    {
      "cell_type": "code",
      "metadata": {
        "colab": {
          "base_uri": "https://localhost:8080/"
        },
        "id": "KF3o2qUs231f",
        "outputId": "e6fa0ba0-4d32-4f65-cfcd-2e7e3011eb18"
      },
      "source": [
        "w1 = tf.Variable(tf.random.normal([784, 256], mean = 0.0, stddev = 1.0, dtype=tf.dtypes.float32, seed=44))\n",
        "b1 = tf.Variable(tf.random.normal([256,], mean = 0.0, stddev = 1.0, dtype=tf.dtypes.float32, seed=44)) \n",
        "w2 = tf.Variable(tf.random.normal([256,128], mean = 0.0, stddev = 1.0, dtype=tf.dtypes.float32, seed=44))\n",
        "b2 = tf.Variable(tf.random.normal([128,], mean = 0.0, stddev = 1.0, dtype=tf.dtypes.float32, seed=44))  \n",
        "w3 = tf.Variable(tf.random.normal([128,10], mean = 0.0, stddev = 1.0, dtype=tf.dtypes.float32, seed=44))\n",
        "b3 = tf.Variable(tf.random.normal([10,], mean = 0.0, stddev = 1.0, dtype=tf.dtypes.float32, seed=44))\n",
        "#Training\n",
        "training_steps = 3000\n",
        "learning_rate = 0.1\n",
        "sigmoid_loss = []\n",
        "sigmoid_accuracy = []\n",
        "for steps in range(training_steps):\n",
        "    img_batch, lbl_batch = data.next_batch()\n",
        "    with tf.GradientTape(persistent= True) as tape:\n",
        "        hidden_Layer1 = tf.nn.sigmoid(tf.matmul(img_batch, w1) + b1)\n",
        "        hidden_Layer2 = tf.nn.sigmoid(tf.matmul(hidden_Layer1, w2) + b2)\n",
        "        #hidden_Layer3 = tf.nn.tanh(tf.matmul(hidden_Layer2, w3) + b3)\n",
        "        logits = tf.matmul(hidden_Layer2, w3) + b3\n",
        "        current_Loss = tf.reduce_mean(tf.nn.sparse_softmax_cross_entropy_with_logits(\n",
        "            logits=logits, labels=lbl_batch))\n",
        "        \n",
        "    grads1 = tape.gradient(current_Loss, [w1, b1])\n",
        "    grads2 = tape.gradient(current_Loss, [w2, b2])\n",
        "    grads3 = tape.gradient(current_Loss, [w3, b3])\n",
        "    #grads4 = tape.gradient(current_Loss, [w4,b4])\n",
        "    w1.assign_sub(learning_rate * grads1[0])\n",
        "    b1.assign_sub(learning_rate * grads1[1])\n",
        "    w2.assign_sub(learning_rate  * grads2[0])\n",
        "    b2.assign_sub(learning_rate * grads2[1])\n",
        "    w3.assign_sub(learning_rate  * grads3[0])\n",
        "    b3.assign_sub(learning_rate * grads3[1])\n",
        "    #w4.assign_sub(learning_rate  * grads4[0])\n",
        "    #b4.assign_sub(learning_rate * grads4[1])\n",
        "\n",
        "    \n",
        "    if not steps % 100:\n",
        "        preds = tf.argmax(logits, axis=1, output_type=tf.int32)\n",
        "        acc = tf.reduce_mean(tf.cast(tf.equal(preds, lbl_batch),\n",
        "                             tf.float32))\n",
        "        sigmoid_loss.append(current_Loss)\n",
        "        sigmoid_accuracy.append(acc)\n",
        "        print(\"Loss: {} Accuracy: {}\".format(current_Loss, acc))"
      ],
      "execution_count": 12,
      "outputs": [
        {
          "output_type": "stream",
          "name": "stdout",
          "text": [
            "Loss: 19.051172256469727 Accuracy: 0.09375\n",
            "Loss: 1.960555076599121 Accuracy: 0.4375\n",
            "Loss: 1.6695139408111572 Accuracy: 0.5234375\n",
            "Starting new epoch...\n",
            "Loss: 1.2387759685516357 Accuracy: 0.53125\n",
            "Loss: 0.9213389754295349 Accuracy: 0.71875\n",
            "Loss: 1.028578519821167 Accuracy: 0.6953125\n",
            "Loss: 1.1044540405273438 Accuracy: 0.6640625\n",
            "Loss: 0.9699268937110901 Accuracy: 0.6796875\n",
            "Starting new epoch...\n",
            "Loss: 0.6852459907531738 Accuracy: 0.7421875\n",
            "Loss: 0.5591585636138916 Accuracy: 0.8203125\n",
            "Loss: 0.8145578503608704 Accuracy: 0.734375\n",
            "Loss: 0.6801448464393616 Accuracy: 0.8125\n",
            "Loss: 0.6218417882919312 Accuracy: 0.8515625\n",
            "Starting new epoch...\n",
            "Loss: 0.6279565095901489 Accuracy: 0.8046875\n",
            "Loss: 0.6141325235366821 Accuracy: 0.8046875\n",
            "Loss: 0.6079722046852112 Accuracy: 0.8203125\n",
            "Loss: 0.550745964050293 Accuracy: 0.8046875\n",
            "Starting new epoch...\n",
            "Loss: 0.4976244568824768 Accuracy: 0.8515625\n",
            "Loss: 0.6036452054977417 Accuracy: 0.828125\n",
            "Loss: 0.6170604228973389 Accuracy: 0.7734375\n",
            "Loss: 0.7410227060317993 Accuracy: 0.796875\n",
            "Loss: 0.5236281156539917 Accuracy: 0.828125\n",
            "Starting new epoch...\n",
            "Loss: 0.6477420926094055 Accuracy: 0.7890625\n",
            "Loss: 0.4901956021785736 Accuracy: 0.859375\n",
            "Loss: 0.5906563401222229 Accuracy: 0.8125\n",
            "Loss: 0.3648441433906555 Accuracy: 0.8671875\n",
            "Loss: 0.5149040222167969 Accuracy: 0.84375\n",
            "Starting new epoch...\n",
            "Loss: 0.397346168756485 Accuracy: 0.859375\n",
            "Loss: 0.33354371786117554 Accuracy: 0.890625\n",
            "Loss: 0.3653862476348877 Accuracy: 0.8984375\n"
          ]
        }
      ]
    },
    {
      "cell_type": "code",
      "metadata": {
        "colab": {
          "base_uri": "https://localhost:8080/"
        },
        "id": "N80rhaF187xA",
        "outputId": "d30ce700-1c73-4bcc-93d7-24c337f0b897"
      },
      "source": [
        "#Validation/testing\n",
        "hid_Layer1 = tf.nn.sigmoid(tf.matmul(data.test_data, w1) + b1)\n",
        "hid_Layer2 = tf.nn.sigmoid(tf.matmul(hid_Layer1, w2) + b2)\n",
        "#hid_Layer3 = tf.nn.tanh(tf.matmul(hid_Layer2, w3) + b3)\n",
        "logit = tf.matmul(hid_Layer2, w3) + b3\n",
        "current_Loss = tf.reduce_mean(tf.nn.sparse_softmax_cross_entropy_with_logits(logits=logit, labels=data.test_labels))\n",
        "preds = tf.argmax(logit, axis=1, output_type=tf.int32)\n",
        "acc = tf.reduce_mean(tf.cast(tf.equal(preds, data.test_labels), tf.float32))\n",
        "print(\"Loss: {} Accuracy: {}\".format(current_Loss, acc))"
      ],
      "execution_count": 13,
      "outputs": [
        {
          "output_type": "stream",
          "name": "stdout",
          "text": [
            "Loss: 0.47185176610946655 Accuracy: 0.855400025844574\n"
          ]
        }
      ]
    },
    {
      "cell_type": "code",
      "metadata": {
        "colab": {
          "base_uri": "https://localhost:8080/",
          "height": 265
        },
        "id": "x4Yu_L63_IaP",
        "outputId": "8e8bbbf6-056b-472a-e259-3fc48e76a846"
      },
      "source": [
        "plt.plot(step, tanh_accuracy, \"g\", label = \"tanh\")\n",
        "plt.plot(step,sigmoid_accuracy,\"r\", label = \"sigmoid\")\n",
        "plt.legend()\n",
        "plt.show()"
      ],
      "execution_count": 14,
      "outputs": [
        {
          "output_type": "display_data",
          "data": {
            "image/png": "[encoded data removed]",
            "text/plain": [
              "<Figure size 432x288 with 1 Axes>"
            ]
          },
          "metadata": {
            "needs_background": "light"
          }
        }
      ]
    },
    {
      "cell_type": "code",
      "metadata": {
        "colab": {
          "base_uri": "https://localhost:8080/",
          "height": 265
        },
        "id": "LRROUgIoE4TB",
        "outputId": "ffc00320-5a5a-4925-f9df-fcc4e3fcffd1"
      },
      "source": [
        "plt.plot(step,tanh_loss,\"g\", label = 'tanh')\n",
        "plt.plot(step,sigmoid_loss,\"r\", label = 'sigmoid')\n",
        "plt.legend()\n",
        "plt.show()"
      ],
      "execution_count": 15,
      "outputs": [
        {
          "output_type": "display_data",
          "data": {
            "image/png": "[encoded data removed]",
            "text/plain": [
              "<Figure size 432x288 with 1 Axes>"
            ]
          },
          "metadata": {
            "needs_background": "light"
          }
        }
      ]
    },
    {
      "cell_type": "markdown",
      "metadata": {
        "id": "izHwrI4DJCPd"
      },
      "source": [
        "Bonus Task(Fashion MNIST)\n",
        "\n",
        "---\n",
        "\n"
      ]
    },
    {
      "cell_type": "code",
      "metadata": {
        "id": "_hlGwdnTI9Ba"
      },
      "source": [
        "Fashion_mnist = tf.keras.datasets.fashion_mnist\n",
        "(train_images, train_labels), (test_images, test_labels) = Fashion_mnist.load_data()\n",
        "Fashion_data = MNISTDataset(train_images.reshape([-1, 784]), train_labels, \n",
        "                    test_images.reshape([-1, 784]), test_labels,\n",
        "                    batch_size=128)"
      ],
      "execution_count": 16,
      "outputs": []
    },
    {
      "cell_type": "code",
      "metadata": {
        "colab": {
          "base_uri": "https://localhost:8080/",
          "height": 283
        },
        "id": "gOROpMqQJp9A",
        "outputId": "53617763-f850-4ee0-cd71-f2b72ad7f9d1"
      },
      "source": [
        "plt.imshow(train_images[1])"
      ],
      "execution_count": 17,
      "outputs": [
        {
          "output_type": "execute_result",
          "data": {
            "text/plain": [
              "<matplotlib.image.AxesImage at 0x7fd81e8bf890>"
            ]
          },
          "metadata": {},
          "execution_count": 17
        },
        {
          "output_type": "display_data",
          "data": {
            "image/png": "[encoded data removed]",
            "text/plain": [
              "<Figure size 432x288 with 1 Axes>"
            ]
          },
          "metadata": {
            "needs_background": "light"
          }
        }
      ]
    },
    {
      "cell_type": "code",
      "metadata": {
        "colab": {
          "base_uri": "https://localhost:8080/"
        },
        "id": "aHYekdONJlvy",
        "outputId": "fa7d7efe-e948-4a7d-8ed8-1807d8969f45"
      },
      "source": [
        "epochs = 3000\n",
        "learning_rate = 0.1\n",
        "loss = []\n",
        "accuracy = []\n",
        "step = []\n",
        "for epoch in range(epochs):\n",
        "    img_batch, lbl_batch = Fashion_data.next_batch()\n",
        "    with tf.GradientTape(persistent= True) as tape:\n",
        "        hidden_Layer1 = tf.nn.tanh(tf.matmul(img_batch, w1) + b1)\n",
        "        hidden_Layer2 = tf.nn.tanh(tf.matmul(hidden_Layer1, w2) + b2)\n",
        "        #hidden_Layer3 = tf.nn.tanh(tf.matmul(hidden_Layer2, w3) + b3)\n",
        "        logits = tf.matmul(hidden_Layer2, w3) + b3\n",
        "        current_Loss = tf.reduce_mean(tf.nn.sparse_softmax_cross_entropy_with_logits(\n",
        "            logits=logits, labels=lbl_batch))\n",
        "        \n",
        "    grads1 = tape.gradient(current_Loss, [w1, b1])\n",
        "    grads2 = tape.gradient(current_Loss, [w2, b2])\n",
        "    grads3 = tape.gradient(current_Loss, [w3, b3])\n",
        "    #grads4 = tape.gradient(current_Loss, [w4,b4])\n",
        "    w1.assign_sub(learning_rate * grads1[0])\n",
        "    b1.assign_sub(learning_rate * grads1[1])\n",
        "    w2.assign_sub(learning_rate  * grads2[0])\n",
        "    b2.assign_sub(learning_rate * grads2[1])\n",
        "    w3.assign_sub(learning_rate  * grads3[0])\n",
        "    b3.assign_sub(learning_rate * grads3[1])\n",
        "    #w4.assign_sub(learning_rate  * grads4[0])\n",
        "    #b4.assign_sub(learning_rate * grads4[1])\n",
        "\n",
        "    \n",
        "    if not epoch % 100:\n",
        "        preds = tf.argmax(logits, axis=1, output_type=tf.int32)\n",
        "        acc = tf.reduce_mean(tf.cast(tf.equal(preds, lbl_batch),\n",
        "                             tf.float32))\n",
        "        step.append(epoch+100)\n",
        "        loss.append(current_Loss)\n",
        "        accuracy.append(acc)\n",
        "        print(\"Loss: {} Accuracy: {}\".format(current_Loss, acc))"
      ],
      "execution_count": 18,
      "outputs": [
        {
          "output_type": "stream",
          "name": "stdout",
          "text": [
            "Loss: 18.752897262573242 Accuracy: 0.109375\n",
            "Loss: 2.5808753967285156 Accuracy: 0.5078125\n",
            "Loss: 1.749826431274414 Accuracy: 0.6328125\n",
            "Loss: 1.2791460752487183 Accuracy: 0.7109375\n",
            "Loss: 1.5603142976760864 Accuracy: 0.6796875\n",
            "Starting new epoch...\n",
            "Loss: 0.8918125629425049 Accuracy: 0.7421875\n",
            "Loss: 1.3391687870025635 Accuracy: 0.671875\n",
            "Loss: 0.7125522494316101 Accuracy: 0.75\n",
            "Loss: 0.913415789604187 Accuracy: 0.7109375\n",
            "Loss: 1.264318585395813 Accuracy: 0.671875\n",
            "Starting new epoch...\n",
            "Loss: 0.7840123176574707 Accuracy: 0.703125\n",
            "Loss: 0.8648769855499268 Accuracy: 0.6875\n",
            "Loss: 0.5770583152770996 Accuracy: 0.8203125\n",
            "Loss: 0.8029630184173584 Accuracy: 0.7421875\n",
            "Loss: 0.9737586379051208 Accuracy: 0.7265625\n",
            "Starting new epoch...\n",
            "Loss: 0.5818983912467957 Accuracy: 0.78125\n",
            "Loss: 0.683556854724884 Accuracy: 0.75\n",
            "Loss: 0.7620725035667419 Accuracy: 0.765625\n",
            "Loss: 0.7431833744049072 Accuracy: 0.703125\n",
            "Starting new epoch...\n",
            "Loss: 0.8453936576843262 Accuracy: 0.7109375\n",
            "Loss: 0.7921723127365112 Accuracy: 0.7421875\n",
            "Loss: 0.5427740812301636 Accuracy: 0.8359375\n",
            "Loss: 0.5854768753051758 Accuracy: 0.78125\n",
            "Loss: 0.8080556392669678 Accuracy: 0.7890625\n",
            "Starting new epoch...\n",
            "Loss: 0.7822057008743286 Accuracy: 0.765625\n",
            "Loss: 0.5935298204421997 Accuracy: 0.796875\n",
            "Loss: 0.580036997795105 Accuracy: 0.765625\n",
            "Loss: 0.6915755271911621 Accuracy: 0.7734375\n",
            "Loss: 0.5301557779312134 Accuracy: 0.8203125\n",
            "Starting new epoch...\n",
            "Loss: 0.6430287957191467 Accuracy: 0.7890625\n"
          ]
        }
      ]
    },
    {
      "cell_type": "code",
      "metadata": {
        "colab": {
          "base_uri": "https://localhost:8080/"
        },
        "id": "TJ9Cu7CmKmDu",
        "outputId": "4fe45943-3b1d-4e7a-fcf8-6722f786263f"
      },
      "source": [
        "hid_Layer1 = tf.nn.tanh(tf.matmul(Fashion_data.test_data, w1) + b1)\n",
        "hid_Layer2 = tf.nn.tanh(tf.matmul(hid_Layer1, w2) + b2)\n",
        "#hid_Layer3 = tf.nn.tanh(tf.matmul(hid_Layer2, w3) + b3)\n",
        "logit = tf.matmul(hid_Layer2, w3) + b3\n",
        "current_Loss = tf.reduce_mean(tf.nn.sparse_softmax_cross_entropy_with_logits(logits=logit, labels=Fashion_data.test_labels))\n",
        "preds = tf.argmax(logit, axis=1, output_type=tf.int32)\n",
        "acc = tf.reduce_mean(tf.cast(tf.equal(preds, Fashion_data.test_labels), tf.float32))\n",
        "print(\"Loss: {} Accuracy: {}\".format(current_Loss, acc))"
      ],
      "execution_count": 19,
      "outputs": [
        {
          "output_type": "stream",
          "name": "stdout",
          "text": [
            "Loss: 0.7568938732147217 Accuracy: 0.7576000094413757\n"
          ]
        }
      ]
    },
    {
      "cell_type": "markdown",
      "metadata": {
        "id": "J2k8J6edmBM0"
      },
      "source": [
        "\n",
        "\n",
        "> Why Initializing the weights to 0 will not work in MLP? : If we initialize the weights to zero then every hidden unit will also get zero irrespective of the input. So, when all the hidden neurons start with the zero weights, then all of them will follow the same gradient and because of which it affects only the scale of the weight vector, not the direction.\n",
        "\n",
        "> How changing the parameters and increasing the hidden layer affect the model? \n",
        " Increasing the weights and biases increased the accuracy .\n",
        "\n",
        "\n",
        "\n",
        "\n",
        "\n",
        "\n",
        "\n",
        "\n",
        "\n",
        "\n",
        "\n",
        "\n",
        "\n",
        "\n",
        "\n",
        "\n",
        "\n",
        "\n"
      ]
    }
  ]
}